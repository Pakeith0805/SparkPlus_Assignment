{
  "nbformat": 4,
  "nbformat_minor": 0,
  "metadata": {
    "colab": {
      "provenance": [],
      "gpuType": "T4",
      "authorship_tag": "ABX9TyPI7fz7PDq+Z1pfPXWWu6Es",
      "include_colab_link": true
    },
    "kernelspec": {
      "name": "python3",
      "display_name": "Python 3"
    },
    "language_info": {
      "name": "python"
    },
    "accelerator": "GPU"
  },
  "cells": [
    {
      "cell_type": "markdown",
      "metadata": {
        "id": "view-in-github",
        "colab_type": "text"
      },
      "source": [
        "<a href=\"https://colab.research.google.com/github/Pakeith0805/SparkPlus_Assignment/blob/staging/Assignment.ipynb\" target=\"_parent\"><img src=\"https://colab.research.google.com/assets/colab-badge.svg\" alt=\"Open In Colab\"/></a>"
      ]
    },
    {
      "cell_type": "markdown",
      "source": [
        "SparkPlusの採用課題です。"
      ],
      "metadata": {
        "id": "6dfeyUvCHFcz"
      }
    },
    {
      "cell_type": "markdown",
      "source": [
        "- ラベル「0」： airplane（飛行機）\n",
        "- ラベル「1」： automobile（自動車）\n",
        "- ラベル「2」： bird（鳥）\n",
        "- ラベル「3」： cat（猫）\n",
        "- ラベル「4」： deer（鹿）\n",
        "- ラベル「5」： dog（犬）\n",
        "- ラベル「6」： frog（カエル）\n",
        "- ラベル「7」： horse（馬）\n",
        "- ラベル「8」： ship（船）\n",
        "- ラベル「9」： truck（トラック）"
      ],
      "metadata": {
        "id": "debBDGXqOUv4"
      }
    },
    {
      "cell_type": "markdown",
      "source": [
        "# 前処理"
      ],
      "metadata": {
        "id": "20eUgU1WMCAn"
      }
    },
    {
      "cell_type": "code",
      "execution_count": 123,
      "metadata": {
        "id": "-2CIgzsAHEk-"
      },
      "outputs": [],
      "source": [
        "import torch\n",
        "import torchvision\n",
        "import torch.nn as nn\n",
        "import torch.optim as optim\n",
        "import numpy as np\n",
        "from torchvision import datasets, models, transforms\n",
        "import matplotlib.pyplot as plt\n",
        "from torch.utils.data import DataLoader\n",
        "from sklearn.metrics import confusion_matrix\n",
        "from sklearn.metrics import roc_curve\n",
        "from sklearn.metrics import roc_auc_score\n",
        "from torch.optim.lr_scheduler import CosineAnnealingLR, CosineAnnealingWarmRestarts\n",
        "import torch.nn.functional as F"
      ]
    },
    {
      "cell_type": "code",
      "source": [
        "# ちゃんとgpuになってるか確認。\n",
        "device = \"cuda\" if torch.cuda.is_available() else \"cpu\"\n",
        "print(device)"
      ],
      "metadata": {
        "id": "0SJ8VDWDMELh",
        "outputId": "064e256c-eaa2-438f-ac97-cdad9f37bba6",
        "colab": {
          "base_uri": "https://localhost:8080/"
        }
      },
      "execution_count": 124,
      "outputs": [
        {
          "output_type": "stream",
          "name": "stdout",
          "text": [
            "cuda\n"
          ]
        }
      ]
    },
    {
      "cell_type": "code",
      "source": [
        "# 前処理をまとめる\n",
        "train_transform = transforms.Compose([\n",
        "    transforms.RandomHorizontalFlip(), # ランダムに左右対称にする\n",
        "    transforms.ColorJitter(), # ランダムに色を変える。\n",
        "    transforms.ToTensor(), # 画像をTensorクラスに変えて、チャネルファーストに変えてくれる。\n",
        "    transforms.Normalize((0.5,), (0.5,)) # 平均、標準偏差を0.5に\n",
        "])\n",
        "\n",
        "val_transform = transforms.Compose([\n",
        "    transforms.ToTensor(),\n",
        "    transforms.Normalize((0.5,), (0.5,))\n",
        "])\n",
        "\n",
        "# 訓練用データセットと検証用データセットを作成\n",
        "train_dataset = datasets.CIFAR10(root=\"./data\", train=True, download=True, transform=train_transform)\n",
        "vilidation_dataset = datasets.CIFAR10(root=\"./data\", train=False, download=True, transform=val_transform)"
      ],
      "metadata": {
        "id": "E-z-alzMMHNH"
      },
      "execution_count": 125,
      "outputs": []
    },
    {
      "cell_type": "code",
      "source": [
        "# データを作る。\n",
        "train_dataloader = DataLoader(train_dataset, batch_size=32, shuffle=True)\n",
        "validation_dataloader = DataLoader(vilidation_dataset, batch_size=32, shuffle=False)"
      ],
      "metadata": {
        "id": "IykEj-ScMKaR"
      },
      "execution_count": 126,
      "outputs": []
    },
    {
      "cell_type": "code",
      "source": [
        "# CNNを実装。\n",
        "class CNN(nn.Module):\n",
        "    def __init__(self, num_classes):\n",
        "        super().__init__()\n",
        "        self.features = nn.Sequential(\n",
        "            nn.Conv2d(in_channels=3, out_channels=64, kernel_size=5, padding=2), # RGBなのでin_channelsは3、畳み込むたびに2ずつ画像が小さくなるため、2補う。\n",
        "            nn.ReLU(inplace=True),\n",
        "            nn.MaxPool2d(kernel_size=2), # 32×32の画像が16×16になる。\n",
        "            nn.Conv2d(in_channels=64, out_channels=128, kernel_size=3, padding=1), # RGBなのでin_channelsは3、畳み込むたびに2ずつ画像が小さくなるため、2補う。\n",
        "            nn.ReLU(inplace=True),\n",
        "            nn.MaxPool2d(kernel_size=2), # 16×16の画像が8×8になる。\n",
        "            nn.Conv2d(in_channels=128, out_channels=256, kernel_size=3, padding=1), # RGBなのでin_channelsは3、畳み込むたびに2ずつ画像が小さくなるため、2補う。\n",
        "            nn.ReLU(inplace=True),\n",
        "            nn.MaxPool2d(kernel_size=2), # 8×8の画像が4×4になる。\n",
        "            nn.Conv2d(in_channels=256, out_channels=128, kernel_size=3, padding=1), # RGBなのでin_channelsは3、畳み込むたびに2ずつ画像が小さくなるため、2補う。\n",
        "            nn.ReLU(inplace=True),\n",
        "        )\n",
        "        self.classifier = nn.Linear(in_features=4 * 4 * 128, out_features=num_classes) # in_featuresには1次元ベクトルにして渡す。4×4が128個ある。out_featuresは何個に分類するか。\n",
        "    def forward(self, x):\n",
        "        x = self.features(x)\n",
        "        x = x.view(x.size(0), -1) # x.size(0)はバッチ数を表す。(32, 4×4×128)という形になる。\n",
        "        x = self.classifier(x)\n",
        "        return x"
      ],
      "metadata": {
        "id": "Cln6z02oMTDh"
      },
      "execution_count": 127,
      "outputs": []
    },
    {
      "cell_type": "code",
      "source": [
        "# modelを作成\n",
        "model = CNN(10) # 10はクラス数\n",
        "model.to(device)"
      ],
      "metadata": {
        "id": "eRt1NnShMgL5",
        "outputId": "debb3596-f7bb-47b0-d3df-d6a4b095e362",
        "colab": {
          "base_uri": "https://localhost:8080/"
        }
      },
      "execution_count": 128,
      "outputs": [
        {
          "output_type": "execute_result",
          "data": {
            "text/plain": [
              "CNN(\n",
              "  (features): Sequential(\n",
              "    (0): Conv2d(3, 64, kernel_size=(5, 5), stride=(1, 1), padding=(2, 2))\n",
              "    (1): ReLU(inplace=True)\n",
              "    (2): MaxPool2d(kernel_size=2, stride=2, padding=0, dilation=1, ceil_mode=False)\n",
              "    (3): Conv2d(64, 128, kernel_size=(3, 3), stride=(1, 1), padding=(1, 1))\n",
              "    (4): ReLU(inplace=True)\n",
              "    (5): MaxPool2d(kernel_size=2, stride=2, padding=0, dilation=1, ceil_mode=False)\n",
              "    (6): Conv2d(128, 256, kernel_size=(3, 3), stride=(1, 1), padding=(1, 1))\n",
              "    (7): ReLU(inplace=True)\n",
              "    (8): MaxPool2d(kernel_size=2, stride=2, padding=0, dilation=1, ceil_mode=False)\n",
              "    (9): Conv2d(256, 128, kernel_size=(3, 3), stride=(1, 1), padding=(1, 1))\n",
              "    (10): ReLU(inplace=True)\n",
              "  )\n",
              "  (classifier): Linear(in_features=2048, out_features=10, bias=True)\n",
              ")"
            ]
          },
          "metadata": {},
          "execution_count": 128
        }
      ]
    },
    {
      "cell_type": "code",
      "source": [
        "# 損失関数とoptimizerを設定\n",
        "criterion = nn.CrossEntropyLoss()\n",
        "optimizer = optim.Adam(model.parameters(), lr=0.001, weight_decay=5e-4) # weight_decayで重みづけが大きくなりすぎないようにしている。\n",
        "# CosineAnnealingWarmRestartsの設定\n",
        "scheduler = CosineAnnealingWarmRestarts(optimizer, T_0=5, T_mult=2, eta_min=0.)"
      ],
      "metadata": {
        "id": "Y2kUUxzqMix6"
      },
      "execution_count": 129,
      "outputs": []
    },
    {
      "cell_type": "code",
      "source": [
        "num_classes=10"
      ],
      "metadata": {
        "id": "lplllZ-dQ-8A"
      },
      "execution_count": 130,
      "outputs": []
    },
    {
      "cell_type": "code",
      "source": [
        "# 学習のループ\n",
        "num_epochs = 15\n",
        "losses = []\n",
        "accs = []\n",
        "val_losses = []\n",
        "val_accs = []\n",
        "for epoch in range(num_epochs-3):\n",
        "    total_loss = 0.0 # mixupでは損失の計算方法が異なるため、total_lossに名称変更\n",
        "    total_acc = 0.0\n",
        "    y_true = []  # 正解ラベルを保存\n",
        "    y_pred = []  # 予測ラベルを保存\n",
        "    for imgs, labels, in train_dataloader:\n",
        "        imgs = imgs.to(device)\n",
        "        labels = labels.to(device)\n",
        "\n",
        "        # こっからmixup\n",
        "        lmd = np.random.beta(1.0, 1.0)\n",
        "        idx = torch.randperm(imgs.size(0)).to(device) # ランダムに並び替える\n",
        "        imgs2 = imgs[idx, :] # 混ぜ合わせる画像\n",
        "        labels2 = labels[idx]\n",
        "\n",
        "        labels = F.one_hot(labels, num_classes=num_classes).float()\n",
        "        labels2 = F.one_hot(labels2, num_classes=num_classes).float()\n",
        "\n",
        "        # ここまで\n",
        "\n",
        "        optimizer.zero_grad() # 勾配の初期化\n",
        "        output = model(lmd * imgs + (1 - lmd) * imgs2) # いじった\n",
        "        loss = lmd * criterion(output, labels) + (1 - lmd) * criterion(output, labels2) # いじった\n",
        "        loss.backward()\n",
        "        optimizer.step()\n",
        "        total_loss += loss.item()\n",
        "        pred = torch.argmax(output, dim=1)\n",
        "        prob_pred = torch.softmax(output, dim=1)\n",
        "        total_acc += lmd * torch.mean(pred.eq(labels.argmax(dim=1)).float()) + (1 - lmd) * torch.mean(pred.eq(labels2.argmax(dim=1)).float())\n",
        "        y_true.extend(labels.cpu().numpy())  # GPU->CPU\n",
        "        y_pred.extend(pred.cpu().numpy())  # GPU->CPU\n",
        "    total_loss /= len(train_dataloader)\n",
        "    total_acc /= len(train_dataloader)\n",
        "    losses.append(total_loss)\n",
        "    #accs.append(running_acc)\n",
        "    accs.append(total_acc.cpu())\n",
        "    scheduler.step()\n",
        "#\n",
        "# validationのループ\n",
        "#\n",
        "    val_running_loss = 0.0\n",
        "    val_running_acc = 0.0\n",
        "    y_val_true = []  # 正解ラベルを保存\n",
        "    y_val_pred = []  # 予測ラベルを保存\n",
        "    for val_imgs, val_labels in validation_dataloader:\n",
        "        val_imgs = val_imgs.to(device)\n",
        "        val_labels = val_labels.to(device)\n",
        "        val_output = model(val_imgs)\n",
        "        val_loss = criterion(val_output, val_labels)\n",
        "        val_running_loss += val_loss.item()\n",
        "        val_pred = torch.argmax(val_output, dim=1)\n",
        "        val_running_acc += torch.mean(val_pred.eq(val_labels).float())\n",
        "        # ラベルを保存\n",
        "        y_val_true.extend(val_labels.cpu().numpy())  # GPU->CPU\n",
        "        y_val_pred.extend(val_pred.cpu().numpy())  # GPU->CPU\n",
        "\n",
        "    val_running_loss /= len(validation_dataloader)\n",
        "    val_running_acc /= len(validation_dataloader)\n",
        "    val_losses.append(val_running_loss)\n",
        "    #val_accs.append(val_running_acc)\n",
        "    val_accs.append(val_running_acc.cpu())\n",
        "    print(\"epoch: {}, loss: {}, acc: {}, \\\n",
        "     val loss: {}, val acc: {}\".format(epoch, total_loss, total_acc, val_running_loss, val_running_acc))\n",
        "\n",
        "\n",
        "\n",
        "\n",
        "for epoch in range(num_epochs-12):\n",
        "    running_loss = 0.0\n",
        "    running_acc = 0.0\n",
        "    y_true = []  # 正解ラベルを保存\n",
        "    y_pred = []  # 予測ラベルを保存\n",
        "    for imgs, labels, in train_dataloader:\n",
        "        imgs = imgs.to(device)\n",
        "        labels = labels.to(device)\n",
        "        optimizer.zero_grad()\n",
        "        output = model(imgs)\n",
        "        loss = criterion(output, labels)\n",
        "        loss.backward()\n",
        "        optimizer.step() # 位置換えてみた\n",
        "        running_loss += loss.item()\n",
        "        pred = torch.argmax(output, dim=1)\n",
        "        prob_pred = torch.softmax(output, dim=1)\n",
        "        running_acc += torch.mean(pred.eq(labels).float())\n",
        "        y_true.extend(labels.cpu().numpy())  # GPU->CPU\n",
        "        y_pred.extend(pred.cpu().numpy())  # GPU->CPU\n",
        "    running_loss /= len(train_dataloader)\n",
        "    running_acc /= len(train_dataloader)\n",
        "    losses.append(running_loss)\n",
        "    #accs.append(running_acc)\n",
        "    accs.append(running_acc.cpu())\n",
        "    scheduler.step()\n",
        "#\n",
        "# validationのループ\n",
        "#\n",
        "    val_running_loss = 0.0\n",
        "    val_running_acc = 0.0\n",
        "    y_val_true = []  # 正解ラベルを保存\n",
        "    y_val_pred = []  # 予測ラベルを保存\n",
        "    for val_imgs, val_labels in validation_dataloader:\n",
        "        val_imgs = val_imgs.to(device)\n",
        "        val_labels = val_labels.to(device)\n",
        "        val_output = model(val_imgs)\n",
        "        val_loss = criterion(val_output, val_labels)\n",
        "        val_running_loss += val_loss.item()\n",
        "        val_pred = torch.argmax(val_output, dim=1)\n",
        "        val_running_acc += torch.mean(val_pred.eq(val_labels).float())\n",
        "        # ラベルを保存\n",
        "        y_val_true.extend(val_labels.cpu().numpy())  # GPU->CPU\n",
        "        y_val_pred.extend(val_pred.cpu().numpy())  # GPU->CPU\n",
        "\n",
        "    val_running_loss /= len(validation_dataloader)\n",
        "    val_running_acc /= len(validation_dataloader)\n",
        "    val_losses.append(val_running_loss)\n",
        "    #val_accs.append(val_running_acc)\n",
        "    val_accs.append(val_running_acc.cpu())\n",
        "    print(\"epoch: {}, loss: {}, acc: {}, \\\n",
        "     val loss: {}, val acc: {}\".format(epoch+12, running_loss, running_acc, val_running_loss, val_running_acc))"
      ],
      "metadata": {
        "id": "5au2nWCYMoYO",
        "outputId": "255df1ad-a75f-4442-d9fb-4972cfd2d768",
        "colab": {
          "base_uri": "https://localhost:8080/"
        }
      },
      "execution_count": 131,
      "outputs": [
        {
          "output_type": "stream",
          "name": "stdout",
          "text": [
            "epoch: 0, loss: 1.849244436162142, acc: 0.3464631140232086,      val loss: 1.2026020252285674, val acc: 0.5930511355400085\n",
            "epoch: 1, loss: 1.5810511461908971, acc: 0.4786299765110016,      val loss: 1.0462343445220315, val acc: 0.648063063621521\n",
            "epoch: 2, loss: 1.4665448046691587, acc: 0.5297070741653442,      val loss: 0.9168652164669463, val acc: 0.7076677083969116\n",
            "epoch: 3, loss: 1.3917531353955992, acc: 0.5634894967079163,      val loss: 0.8409880970994504, val acc: 0.7258386611938477\n",
            "epoch: 4, loss: 1.3375222887736593, acc: 0.5844758152961731,      val loss: 0.7728418030868323, val acc: 0.7578873634338379\n",
            "epoch: 5, loss: 1.4225202742022578, acc: 0.5510281920433044,      val loss: 0.9077598065042648, val acc: 0.7185503244400024\n",
            "epoch: 6, loss: 1.3919992183006809, acc: 0.56522136926651,      val loss: 0.8371697719485615, val acc: 0.7377196550369263\n",
            "epoch: 7, loss: 1.3632946522359426, acc: 0.5766846537590027,      val loss: 0.8114768127663828, val acc: 0.7511980533599854\n",
            "epoch: 8, loss: 1.3455532575484963, acc: 0.5841985940933228,      val loss: 0.7559066338660999, val acc: 0.770467221736908\n",
            "epoch: 9, loss: 1.3083928458521326, acc: 0.5994510054588318,      val loss: 0.7316601446832711, val acc: 0.7746605277061462\n",
            "epoch: 10, loss: 1.2808577126977692, acc: 0.6129704713821411,      val loss: 0.6889980767672055, val acc: 0.7827475666999817\n",
            "epoch: 11, loss: 1.243941520889524, acc: 0.6267480254173279,      val loss: 0.6666657408586325, val acc: 0.8010183572769165\n",
            "epoch: 12, loss: 0.479059127703433, acc: 0.8398712277412415,      val loss: 0.5680046582374328, val acc: 0.8073083162307739\n",
            "epoch: 13, loss: 0.41654602222273307, acc: 0.8592850565910339,      val loss: 0.5419738626422973, val acc: 0.8140974044799805\n",
            "epoch: 14, loss: 0.38649128935158594, acc: 0.8700615763664246,      val loss: 0.5314463927818183, val acc: 0.8197883367538452\n"
          ]
        }
      ]
    },
    {
      "cell_type": "code",
      "source": [
        "labels"
      ],
      "metadata": {
        "id": "GcWe5uJl_OwK",
        "colab": {
          "base_uri": "https://localhost:8080/"
        },
        "outputId": "831bc21d-c25b-4877-ee7b-8629f9629588"
      },
      "execution_count": 132,
      "outputs": [
        {
          "output_type": "execute_result",
          "data": {
            "text/plain": [
              "tensor([4, 9, 6, 1, 8, 7, 4, 8, 9, 7, 2, 1, 1, 3, 9, 1], device='cuda:0')"
            ]
          },
          "metadata": {},
          "execution_count": 132
        }
      ]
    },
    {
      "cell_type": "code",
      "source": [
        "one_zero_labels = torch.where(labels == 0, 1, 0)\n",
        "print(one_zero_labels)"
      ],
      "metadata": {
        "id": "3blnP_b3n2pR",
        "colab": {
          "base_uri": "https://localhost:8080/"
        },
        "outputId": "65d2ebfb-4e53-4d50-baa9-c806e3d0f179"
      },
      "execution_count": 133,
      "outputs": [
        {
          "output_type": "stream",
          "name": "stdout",
          "text": [
            "tensor([0, 0, 0, 0, 0, 0, 0, 0, 0, 0, 0, 0, 0, 0, 0, 0], device='cuda:0')\n"
          ]
        }
      ]
    },
    {
      "cell_type": "code",
      "source": [
        "prob = prob_pred[:, 0]"
      ],
      "metadata": {
        "id": "LfChzmc_OGeF"
      },
      "execution_count": 134,
      "outputs": []
    },
    {
      "cell_type": "code",
      "source": [
        "prob\n",
        "# probはラベル0の確率。これ使ってroc曲線かける"
      ],
      "metadata": {
        "id": "t9JZTA2mO3Xw",
        "colab": {
          "base_uri": "https://localhost:8080/"
        },
        "outputId": "e1128cb8-0b60-467a-e1f1-3eeb977add7a"
      },
      "execution_count": 135,
      "outputs": [
        {
          "output_type": "execute_result",
          "data": {
            "text/plain": [
              "tensor([1.5765e-03, 8.5769e-04, 1.1613e-05, 4.4827e-03, 4.1475e-03, 3.1141e-01,\n",
              "        6.7364e-05, 9.2228e-03, 1.3287e-04, 2.5928e-03, 6.1539e-03, 8.2008e-01,\n",
              "        1.1690e-04, 5.1464e-03, 5.1808e-02, 4.3000e-04], device='cuda:0',\n",
              "       grad_fn=<SelectBackward0>)"
            ]
          },
          "metadata": {},
          "execution_count": 135
        }
      ]
    },
    {
      "cell_type": "code",
      "source": [
        "roc = roc_curve(one_zero_labels.cpu().detach().numpy(), prob.cpu().detach().numpy())"
      ],
      "metadata": {
        "id": "dHz0nE1Vpqn8",
        "colab": {
          "base_uri": "https://localhost:8080/"
        },
        "outputId": "5ae0b260-06bf-4559-de67-ee53f7986b32"
      },
      "execution_count": 136,
      "outputs": [
        {
          "output_type": "stream",
          "name": "stderr",
          "text": [
            "/usr/local/lib/python3.11/dist-packages/sklearn/metrics/_ranking.py:1188: UndefinedMetricWarning: No positive samples in y_true, true positive value should be meaningless\n",
            "  warnings.warn(\n"
          ]
        }
      ]
    },
    {
      "cell_type": "code",
      "source": [
        "fpr, tpr, thresholds = roc\n",
        "\n",
        "print(fpr)\n",
        "# [0.   0.   0.25 0.25 0.5  0.5  1.  ]\n",
        "\n",
        "print(tpr)\n",
        "# [0.   0.25 0.25 0.5  0.5  1.   1.  ]\n",
        "\n",
        "print(thresholds)\n",
        "# [1.9 0.9 0.8 0.7 0.6 0.4 0.2]"
      ],
      "metadata": {
        "id": "6XQjwALgq5Hi",
        "colab": {
          "base_uri": "https://localhost:8080/"
        },
        "outputId": "969b1bea-7ca3-437c-d523-85a23b7c7888"
      },
      "execution_count": 137,
      "outputs": [
        {
          "output_type": "stream",
          "name": "stdout",
          "text": [
            "[0.     0.0625 1.    ]\n",
            "[nan nan nan]\n",
            "[          inf 8.2007647e-01 1.1612888e-05]\n"
          ]
        }
      ]
    },
    {
      "cell_type": "code",
      "source": [
        "plt.plot(fpr, tpr, marker='o')\n",
        "plt.xlabel('FPR: False positive rate')\n",
        "plt.ylabel('TPR: True positive rate')\n",
        "plt.grid()"
      ],
      "metadata": {
        "id": "cPb_LcAOrMo5",
        "colab": {
          "base_uri": "https://localhost:8080/",
          "height": 453
        },
        "outputId": "c0c12c93-3b94-47ce-a10d-e4621e765401"
      },
      "execution_count": 138,
      "outputs": [
        {
          "output_type": "display_data",
          "data": {
            "text/plain": [
              "<Figure size 640x480 with 1 Axes>"
            ],
            "image/png": "[encoded data removed]"
          },
          "metadata": {}
        }
      ]
    },
    {
      "cell_type": "markdown",
      "source": [
        "# 評価項目"
      ],
      "metadata": {
        "id": "hAlBZVRR_1TB"
      }
    },
    {
      "cell_type": "code",
      "source": [
        "# 正解率\n",
        "print(accs[-1].cpu())\n",
        "print(val_accs[-1].cpu())\n",
        "# 混同行列\n",
        "cm=confusion_matrix(y_true, y_pred)\n",
        "val_cm=confusion_matrix(y_val_true, y_val_pred)\n",
        "print(cm)\n",
        "print(val_cm)\n",
        "# 再現率：実際に真だったもののうち、モデルが真と判断した割合。\n",
        "# 見逃しをなくしたいときに使われる。\n",
        "# 別名真陽性率。\n",
        "recall_per_class = cm.diagonal() / cm.sum(axis=1)\n",
        "val_recall_per_class = val_cm.diagonal() / val_cm.sum(axis=1)\n",
        "print(recall_per_class)\n",
        "print(val_recall_per_class)\n",
        "# 適合率：モデルが真と判断し、実際に真だった割合。猫と判断し、実際に猫だった割合。\n",
        "# 誤検出をなくしたいときに使われる。\n",
        "precision_per_class = cm.diagonal() / cm.sum(axis=0)\n",
        "val_precision_per_class = val_cm.diagonal() / val_cm.sum(axis=0)\n",
        "print(precision_per_class)\n",
        "print(val_precision_per_class)\n",
        "# F1スコア：適合率と再現率の調和平均。\n",
        "f1_per_class = 2 * (precision_per_class * recall_per_class) / (precision_per_class + recall_per_class)\n",
        "val_f1_per_class = 2 * (val_precision_per_class * val_recall_per_class) / (val_precision_per_class + val_recall_per_class)\n",
        "print(f1_per_class)\n",
        "print(val_f1_per_class)\n",
        "# 偽陽性率：実際に偽だったったもののうち、モデルが間違えて真と判断した割合。"
      ],
      "metadata": {
        "id": "lM3WOgCYAQl8",
        "colab": {
          "base_uri": "https://localhost:8080/"
        },
        "outputId": "2c560399-a0e2-4d33-d70c-f8c4cb89f453"
      },
      "execution_count": 139,
      "outputs": [
        {
          "output_type": "stream",
          "name": "stdout",
          "text": [
            "tensor(0.8701)\n",
            "tensor(0.8198)\n",
            "[[4475   29  132   64   33   21   21   27  125   73]\n",
            " [  42 4728   10   15    8    5   11    6   37  138]\n",
            " [ 172   15 4035  144  200  146  165   71   37   15]\n",
            " [  53   11  178 3747  166  520  166  108   28   23]\n",
            " [  50    3  171  160 4291   94   76  136   11    8]\n",
            " [  23    5  152  562  141 3899   54  142    9   13]\n",
            " [  20   13  124  162   93   41 4513    9   16    9]\n",
            " [  29    5   87  126  124  122    9 4474   11   13]\n",
            " [ 110   41   29   20   13    5   15   10 4709   48]\n",
            " [  82  133   19   30    4   14   19   14   51 4634]]\n",
            "[[835  13  37  20   8   6   5   7  40  29]\n",
            " [ 12 907   4   6   1   3   3   1  16  47]\n",
            " [ 37   8 746  47  62  33  40  15   7   5]\n",
            " [ 17   3  54 674  47 112  48  24  11  10]\n",
            " [ 12   1  47  39 814  21  28  29   9   0]\n",
            " [ 13   3  29 139  36 727  18  31   1   3]\n",
            " [  6   2  33  49  27   9 871   1   2   0]\n",
            " [ 14   1  31  35  32  39   1 838   1   8]\n",
            " [ 39  14   7  10   3   3   4   3 901  16]\n",
            " [ 18  56   6   8   1   1   2   3  18 887]]\n",
            "[0.895  0.9456 0.807  0.7494 0.8582 0.7798 0.9026 0.8948 0.9418 0.9268]\n",
            "[0.835 0.907 0.746 0.674 0.814 0.727 0.871 0.838 0.901 0.887]\n",
            "[0.88508703 0.94882601 0.81729795 0.74493042 0.84585058 0.80110951\n",
            " 0.89384036 0.8953372  0.93543901 0.93164455]\n",
            "[0.83250249 0.89980159 0.75050302 0.65628043 0.78952473 0.76205451\n",
            " 0.85392157 0.8802521  0.89562624 0.88258706]\n",
            "[0.89001591 0.94721026 0.81211633 0.74715852 0.85198054 0.79031114\n",
            " 0.89819883 0.89506852 0.93860873 0.92921596]\n",
            "[0.83374938 0.90338645 0.74824473 0.6650222  0.80157558 0.74411464\n",
            " 0.86237624 0.85860656 0.89830508 0.88478803]\n"
          ]
        }
      ]
    },
    {
      "cell_type": "code",
      "source": [
        "plt.style.use(\"ggplot\")\n",
        "\n",
        "fig, axes = plt.subplots(1, 2, figsize=(12, 5))  # 1行2列のサブプロット\n",
        "\n",
        "# 左のグラフ(損失)\n",
        "axes[0].plot(losses, label=\"train loss\")\n",
        "axes[0].plot(val_losses, label=\"val loss\")\n",
        "axes[0].legend()\n",
        "axes[0].set_title(\"Loss\")\n",
        "\n",
        "# 右のグラフ(精度)\n",
        "axes[1].plot(accs, label=\"train acc\")\n",
        "axes[1].plot(val_accs, label=\"val acc\")\n",
        "axes[1].legend()\n",
        "axes[1].set_title(\"Accuracy\")\n",
        "\n",
        "plt.show()"
      ],
      "metadata": {
        "id": "D_4csbKOMrl6",
        "colab": {
          "base_uri": "https://localhost:8080/",
          "height": 469
        },
        "outputId": "21f57291-9f74-4780-c02d-6424c0ecf96b"
      },
      "execution_count": 140,
      "outputs": [
        {
          "output_type": "display_data",
          "data": {
            "text/plain": [
              "<Figure size 1200x500 with 2 Axes>"
            ],
            "image/png": "[encoded data removed]"
          },
          "metadata": {}
        }
      ]
    },
    {
      "cell_type": "code",
      "source": [
        "print(accs)\n",
        "print(val_accs)"
      ],
      "metadata": {
        "id": "LVpdFF4MdP1c",
        "colab": {
          "base_uri": "https://localhost:8080/"
        },
        "outputId": "d754dba4-9454-41cf-eaae-18339b1df39b"
      },
      "execution_count": 141,
      "outputs": [
        {
          "output_type": "stream",
          "name": "stdout",
          "text": [
            "[tensor(0.3465), tensor(0.4786), tensor(0.5297), tensor(0.5635), tensor(0.5845), tensor(0.5510), tensor(0.5652), tensor(0.5767), tensor(0.5842), tensor(0.5995), tensor(0.6130), tensor(0.6267), tensor(0.8399), tensor(0.8593), tensor(0.8701)]\n",
            "[tensor(0.5931), tensor(0.6481), tensor(0.7077), tensor(0.7258), tensor(0.7579), tensor(0.7186), tensor(0.7377), tensor(0.7512), tensor(0.7705), tensor(0.7747), tensor(0.7827), tensor(0.8010), tensor(0.8073), tensor(0.8141), tensor(0.8198)]\n"
          ]
        }
      ]
    },
    {
      "cell_type": "code",
      "source": [
        "# y_val_true はラベル（0 or 1）を含むリスト\n",
        "y_val_true = torch.tensor(y_val_true)\n",
        "\n",
        "# val_output に softmax を適用\n",
        "val_output_tensor = torch.cat([model(val_imgs.to(device)) for val_imgs, _ in validation_dataloader])\n",
        "val_prob_pred = torch.softmax(val_output_tensor, dim=1)\n",
        "\n",
        "# クラス0の確率値を取得\n",
        "prob = val_prob_pred[:, 0].cpu().detach().numpy()\n",
        "\n",
        "# 0/1 ラベルの取得\n",
        "one_zero_labels = torch.where(y_val_true == 0, 1, 0).cpu().detach().numpy()\n",
        "\n",
        "# ROC曲線の計算\n",
        "fpr, tpr, thresholds = roc_curve(one_zero_labels, prob)\n",
        "\n",
        "# グラフ描画\n",
        "plt.plot(fpr, tpr, marker='o')\n",
        "plt.xlabel('FPR: False Positive Rate')\n",
        "plt.ylabel('TPR: True Positive Rate')\n",
        "plt.grid()\n",
        "plt.show()\n"
      ],
      "metadata": {
        "id": "AxhvjPiIWYJs",
        "colab": {
          "base_uri": "https://localhost:8080/",
          "height": 435
        },
        "outputId": "f8f0cad0-242f-4c37-e8bf-15ec1f81c7f4"
      },
      "execution_count": 142,
      "outputs": [
        {
          "output_type": "error",
          "ename": "OutOfMemoryError",
          "evalue": "CUDA out of memory. Tried to allocate 20.00 MiB. GPU 0 has a total capacity of 14.74 GiB of which 10.12 MiB is free. Process 6024 has 14.73 GiB memory in use. Of the allocated memory 14.52 GiB is allocated by PyTorch, and 74.32 MiB is reserved by PyTorch but unallocated. If reserved but unallocated memory is large try setting PYTORCH_CUDA_ALLOC_CONF=expandable_segments:True to avoid fragmentation.  See documentation for Memory Management  (https://pytorch.org/docs/stable/notes/cuda.html#environment-variables)",
          "traceback": [
            "\u001b[0;31m---------------------------------------------------------------------------\u001b[0m",
            "\u001b[0;31mOutOfMemoryError\u001b[0m                          Traceback (most recent call last)",
            "\u001b[0;32m<ipython-input-142-18cdb73ef34b>\u001b[0m in \u001b[0;36m<cell line: 0>\u001b[0;34m()\u001b[0m\n\u001b[1;32m      3\u001b[0m \u001b[0;34m\u001b[0m\u001b[0m\n\u001b[1;32m      4\u001b[0m \u001b[0;31m# val_output に softmax を適用\u001b[0m\u001b[0;34m\u001b[0m\u001b[0;34m\u001b[0m\u001b[0m\n\u001b[0;32m----> 5\u001b[0;31m \u001b[0mval_output_tensor\u001b[0m \u001b[0;34m=\u001b[0m \u001b[0mtorch\u001b[0m\u001b[0;34m.\u001b[0m\u001b[0mcat\u001b[0m\u001b[0;34m(\u001b[0m\u001b[0;34m[\u001b[0m\u001b[0mmodel\u001b[0m\u001b[0;34m(\u001b[0m\u001b[0mval_imgs\u001b[0m\u001b[0;34m.\u001b[0m\u001b[0mto\u001b[0m\u001b[0;34m(\u001b[0m\u001b[0mdevice\u001b[0m\u001b[0;34m)\u001b[0m\u001b[0;34m)\u001b[0m \u001b[0;32mfor\u001b[0m \u001b[0mval_imgs\u001b[0m\u001b[0;34m,\u001b[0m \u001b[0m_\u001b[0m \u001b[0;32min\u001b[0m \u001b[0mvalidation_dataloader\u001b[0m\u001b[0;34m]\u001b[0m\u001b[0;34m)\u001b[0m\u001b[0;34m\u001b[0m\u001b[0;34m\u001b[0m\u001b[0m\n\u001b[0m\u001b[1;32m      6\u001b[0m \u001b[0mval_prob_pred\u001b[0m \u001b[0;34m=\u001b[0m \u001b[0mtorch\u001b[0m\u001b[0;34m.\u001b[0m\u001b[0msoftmax\u001b[0m\u001b[0;34m(\u001b[0m\u001b[0mval_output_tensor\u001b[0m\u001b[0;34m,\u001b[0m \u001b[0mdim\u001b[0m\u001b[0;34m=\u001b[0m\u001b[0;36m1\u001b[0m\u001b[0;34m)\u001b[0m\u001b[0;34m\u001b[0m\u001b[0;34m\u001b[0m\u001b[0m\n\u001b[1;32m      7\u001b[0m \u001b[0;34m\u001b[0m\u001b[0m\n",
            "\u001b[0;32m<ipython-input-142-18cdb73ef34b>\u001b[0m in \u001b[0;36m<listcomp>\u001b[0;34m(.0)\u001b[0m\n\u001b[1;32m      3\u001b[0m \u001b[0;34m\u001b[0m\u001b[0m\n\u001b[1;32m      4\u001b[0m \u001b[0;31m# val_output に softmax を適用\u001b[0m\u001b[0;34m\u001b[0m\u001b[0;34m\u001b[0m\u001b[0m\n\u001b[0;32m----> 5\u001b[0;31m \u001b[0mval_output_tensor\u001b[0m \u001b[0;34m=\u001b[0m \u001b[0mtorch\u001b[0m\u001b[0;34m.\u001b[0m\u001b[0mcat\u001b[0m\u001b[0;34m(\u001b[0m\u001b[0;34m[\u001b[0m\u001b[0mmodel\u001b[0m\u001b[0;34m(\u001b[0m\u001b[0mval_imgs\u001b[0m\u001b[0;34m.\u001b[0m\u001b[0mto\u001b[0m\u001b[0;34m(\u001b[0m\u001b[0mdevice\u001b[0m\u001b[0;34m)\u001b[0m\u001b[0;34m)\u001b[0m \u001b[0;32mfor\u001b[0m \u001b[0mval_imgs\u001b[0m\u001b[0;34m,\u001b[0m \u001b[0m_\u001b[0m \u001b[0;32min\u001b[0m \u001b[0mvalidation_dataloader\u001b[0m\u001b[0;34m]\u001b[0m\u001b[0;34m)\u001b[0m\u001b[0;34m\u001b[0m\u001b[0;34m\u001b[0m\u001b[0m\n\u001b[0m\u001b[1;32m      6\u001b[0m \u001b[0mval_prob_pred\u001b[0m \u001b[0;34m=\u001b[0m \u001b[0mtorch\u001b[0m\u001b[0;34m.\u001b[0m\u001b[0msoftmax\u001b[0m\u001b[0;34m(\u001b[0m\u001b[0mval_output_tensor\u001b[0m\u001b[0;34m,\u001b[0m \u001b[0mdim\u001b[0m\u001b[0;34m=\u001b[0m\u001b[0;36m1\u001b[0m\u001b[0;34m)\u001b[0m\u001b[0;34m\u001b[0m\u001b[0;34m\u001b[0m\u001b[0m\n\u001b[1;32m      7\u001b[0m \u001b[0;34m\u001b[0m\u001b[0m\n",
            "\u001b[0;32m/usr/local/lib/python3.11/dist-packages/torch/nn/modules/module.py\u001b[0m in \u001b[0;36m_wrapped_call_impl\u001b[0;34m(self, *args, **kwargs)\u001b[0m\n\u001b[1;32m   1737\u001b[0m             \u001b[0;32mreturn\u001b[0m \u001b[0mself\u001b[0m\u001b[0;34m.\u001b[0m\u001b[0m_compiled_call_impl\u001b[0m\u001b[0;34m(\u001b[0m\u001b[0;34m*\u001b[0m\u001b[0margs\u001b[0m\u001b[0;34m,\u001b[0m \u001b[0;34m**\u001b[0m\u001b[0mkwargs\u001b[0m\u001b[0;34m)\u001b[0m  \u001b[0;31m# type: ignore[misc]\u001b[0m\u001b[0;34m\u001b[0m\u001b[0;34m\u001b[0m\u001b[0m\n\u001b[1;32m   1738\u001b[0m         \u001b[0;32melse\u001b[0m\u001b[0;34m:\u001b[0m\u001b[0;34m\u001b[0m\u001b[0;34m\u001b[0m\u001b[0m\n\u001b[0;32m-> 1739\u001b[0;31m             \u001b[0;32mreturn\u001b[0m \u001b[0mself\u001b[0m\u001b[0;34m.\u001b[0m\u001b[0m_call_impl\u001b[0m\u001b[0;34m(\u001b[0m\u001b[0;34m*\u001b[0m\u001b[0margs\u001b[0m\u001b[0;34m,\u001b[0m \u001b[0;34m**\u001b[0m\u001b[0mkwargs\u001b[0m\u001b[0;34m)\u001b[0m\u001b[0;34m\u001b[0m\u001b[0;34m\u001b[0m\u001b[0m\n\u001b[0m\u001b[1;32m   1740\u001b[0m \u001b[0;34m\u001b[0m\u001b[0m\n\u001b[1;32m   1741\u001b[0m     \u001b[0;31m# torchrec tests the code consistency with the following code\u001b[0m\u001b[0;34m\u001b[0m\u001b[0;34m\u001b[0m\u001b[0m\n",
            "\u001b[0;32m/usr/local/lib/python3.11/dist-packages/torch/nn/modules/module.py\u001b[0m in \u001b[0;36m_call_impl\u001b[0;34m(self, *args, **kwargs)\u001b[0m\n\u001b[1;32m   1748\u001b[0m                 \u001b[0;32mor\u001b[0m \u001b[0m_global_backward_pre_hooks\u001b[0m \u001b[0;32mor\u001b[0m \u001b[0m_global_backward_hooks\u001b[0m\u001b[0;34m\u001b[0m\u001b[0;34m\u001b[0m\u001b[0m\n\u001b[1;32m   1749\u001b[0m                 or _global_forward_hooks or _global_forward_pre_hooks):\n\u001b[0;32m-> 1750\u001b[0;31m             \u001b[0;32mreturn\u001b[0m \u001b[0mforward_call\u001b[0m\u001b[0;34m(\u001b[0m\u001b[0;34m*\u001b[0m\u001b[0margs\u001b[0m\u001b[0;34m,\u001b[0m \u001b[0;34m**\u001b[0m\u001b[0mkwargs\u001b[0m\u001b[0;34m)\u001b[0m\u001b[0;34m\u001b[0m\u001b[0;34m\u001b[0m\u001b[0m\n\u001b[0m\u001b[1;32m   1751\u001b[0m \u001b[0;34m\u001b[0m\u001b[0m\n\u001b[1;32m   1752\u001b[0m         \u001b[0mresult\u001b[0m \u001b[0;34m=\u001b[0m \u001b[0;32mNone\u001b[0m\u001b[0;34m\u001b[0m\u001b[0;34m\u001b[0m\u001b[0m\n",
            "\u001b[0;32m<ipython-input-127-fef78df9d9bb>\u001b[0m in \u001b[0;36mforward\u001b[0;34m(self, x)\u001b[0m\n\u001b[1;32m     18\u001b[0m         \u001b[0mself\u001b[0m\u001b[0;34m.\u001b[0m\u001b[0mclassifier\u001b[0m \u001b[0;34m=\u001b[0m \u001b[0mnn\u001b[0m\u001b[0;34m.\u001b[0m\u001b[0mLinear\u001b[0m\u001b[0;34m(\u001b[0m\u001b[0min_features\u001b[0m\u001b[0;34m=\u001b[0m\u001b[0;36m4\u001b[0m \u001b[0;34m*\u001b[0m \u001b[0;36m4\u001b[0m \u001b[0;34m*\u001b[0m \u001b[0;36m128\u001b[0m\u001b[0;34m,\u001b[0m \u001b[0mout_features\u001b[0m\u001b[0;34m=\u001b[0m\u001b[0mnum_classes\u001b[0m\u001b[0;34m)\u001b[0m \u001b[0;31m# in_featuresには1次元ベクトルにして渡す。4×4が128個ある。out_featuresは何個に分類するか。\u001b[0m\u001b[0;34m\u001b[0m\u001b[0;34m\u001b[0m\u001b[0m\n\u001b[1;32m     19\u001b[0m     \u001b[0;32mdef\u001b[0m \u001b[0mforward\u001b[0m\u001b[0;34m(\u001b[0m\u001b[0mself\u001b[0m\u001b[0;34m,\u001b[0m \u001b[0mx\u001b[0m\u001b[0;34m)\u001b[0m\u001b[0;34m:\u001b[0m\u001b[0;34m\u001b[0m\u001b[0;34m\u001b[0m\u001b[0m\n\u001b[0;32m---> 20\u001b[0;31m         \u001b[0mx\u001b[0m \u001b[0;34m=\u001b[0m \u001b[0mself\u001b[0m\u001b[0;34m.\u001b[0m\u001b[0mfeatures\u001b[0m\u001b[0;34m(\u001b[0m\u001b[0mx\u001b[0m\u001b[0;34m)\u001b[0m\u001b[0;34m\u001b[0m\u001b[0;34m\u001b[0m\u001b[0m\n\u001b[0m\u001b[1;32m     21\u001b[0m         \u001b[0mx\u001b[0m \u001b[0;34m=\u001b[0m \u001b[0mx\u001b[0m\u001b[0;34m.\u001b[0m\u001b[0mview\u001b[0m\u001b[0;34m(\u001b[0m\u001b[0mx\u001b[0m\u001b[0;34m.\u001b[0m\u001b[0msize\u001b[0m\u001b[0;34m(\u001b[0m\u001b[0;36m0\u001b[0m\u001b[0;34m)\u001b[0m\u001b[0;34m,\u001b[0m \u001b[0;34m-\u001b[0m\u001b[0;36m1\u001b[0m\u001b[0;34m)\u001b[0m \u001b[0;31m# x.size(0)はバッチ数を表す。(32, 4×4×128)という形になる。\u001b[0m\u001b[0;34m\u001b[0m\u001b[0;34m\u001b[0m\u001b[0m\n\u001b[1;32m     22\u001b[0m         \u001b[0mx\u001b[0m \u001b[0;34m=\u001b[0m \u001b[0mself\u001b[0m\u001b[0;34m.\u001b[0m\u001b[0mclassifier\u001b[0m\u001b[0;34m(\u001b[0m\u001b[0mx\u001b[0m\u001b[0;34m)\u001b[0m\u001b[0;34m\u001b[0m\u001b[0;34m\u001b[0m\u001b[0m\n",
            "\u001b[0;32m/usr/local/lib/python3.11/dist-packages/torch/nn/modules/module.py\u001b[0m in \u001b[0;36m_wrapped_call_impl\u001b[0;34m(self, *args, **kwargs)\u001b[0m\n\u001b[1;32m   1737\u001b[0m             \u001b[0;32mreturn\u001b[0m \u001b[0mself\u001b[0m\u001b[0;34m.\u001b[0m\u001b[0m_compiled_call_impl\u001b[0m\u001b[0;34m(\u001b[0m\u001b[0;34m*\u001b[0m\u001b[0margs\u001b[0m\u001b[0;34m,\u001b[0m \u001b[0;34m**\u001b[0m\u001b[0mkwargs\u001b[0m\u001b[0;34m)\u001b[0m  \u001b[0;31m# type: ignore[misc]\u001b[0m\u001b[0;34m\u001b[0m\u001b[0;34m\u001b[0m\u001b[0m\n\u001b[1;32m   1738\u001b[0m         \u001b[0;32melse\u001b[0m\u001b[0;34m:\u001b[0m\u001b[0;34m\u001b[0m\u001b[0;34m\u001b[0m\u001b[0m\n\u001b[0;32m-> 1739\u001b[0;31m             \u001b[0;32mreturn\u001b[0m \u001b[0mself\u001b[0m\u001b[0;34m.\u001b[0m\u001b[0m_call_impl\u001b[0m\u001b[0;34m(\u001b[0m\u001b[0;34m*\u001b[0m\u001b[0margs\u001b[0m\u001b[0;34m,\u001b[0m \u001b[0;34m**\u001b[0m\u001b[0mkwargs\u001b[0m\u001b[0;34m)\u001b[0m\u001b[0;34m\u001b[0m\u001b[0;34m\u001b[0m\u001b[0m\n\u001b[0m\u001b[1;32m   1740\u001b[0m \u001b[0;34m\u001b[0m\u001b[0m\n\u001b[1;32m   1741\u001b[0m     \u001b[0;31m# torchrec tests the code consistency with the following code\u001b[0m\u001b[0;34m\u001b[0m\u001b[0;34m\u001b[0m\u001b[0m\n",
            "\u001b[0;32m/usr/local/lib/python3.11/dist-packages/torch/nn/modules/module.py\u001b[0m in \u001b[0;36m_call_impl\u001b[0;34m(self, *args, **kwargs)\u001b[0m\n\u001b[1;32m   1748\u001b[0m                 \u001b[0;32mor\u001b[0m \u001b[0m_global_backward_pre_hooks\u001b[0m \u001b[0;32mor\u001b[0m \u001b[0m_global_backward_hooks\u001b[0m\u001b[0;34m\u001b[0m\u001b[0;34m\u001b[0m\u001b[0m\n\u001b[1;32m   1749\u001b[0m                 or _global_forward_hooks or _global_forward_pre_hooks):\n\u001b[0;32m-> 1750\u001b[0;31m             \u001b[0;32mreturn\u001b[0m \u001b[0mforward_call\u001b[0m\u001b[0;34m(\u001b[0m\u001b[0;34m*\u001b[0m\u001b[0margs\u001b[0m\u001b[0;34m,\u001b[0m \u001b[0;34m**\u001b[0m\u001b[0mkwargs\u001b[0m\u001b[0;34m)\u001b[0m\u001b[0;34m\u001b[0m\u001b[0;34m\u001b[0m\u001b[0m\n\u001b[0m\u001b[1;32m   1751\u001b[0m \u001b[0;34m\u001b[0m\u001b[0m\n\u001b[1;32m   1752\u001b[0m         \u001b[0mresult\u001b[0m \u001b[0;34m=\u001b[0m \u001b[0;32mNone\u001b[0m\u001b[0;34m\u001b[0m\u001b[0;34m\u001b[0m\u001b[0m\n",
            "\u001b[0;32m/usr/local/lib/python3.11/dist-packages/torch/nn/modules/container.py\u001b[0m in \u001b[0;36mforward\u001b[0;34m(self, input)\u001b[0m\n\u001b[1;32m    248\u001b[0m     \u001b[0;32mdef\u001b[0m \u001b[0mforward\u001b[0m\u001b[0;34m(\u001b[0m\u001b[0mself\u001b[0m\u001b[0;34m,\u001b[0m \u001b[0minput\u001b[0m\u001b[0;34m)\u001b[0m\u001b[0;34m:\u001b[0m\u001b[0;34m\u001b[0m\u001b[0;34m\u001b[0m\u001b[0m\n\u001b[1;32m    249\u001b[0m         \u001b[0;32mfor\u001b[0m \u001b[0mmodule\u001b[0m \u001b[0;32min\u001b[0m \u001b[0mself\u001b[0m\u001b[0;34m:\u001b[0m\u001b[0;34m\u001b[0m\u001b[0;34m\u001b[0m\u001b[0m\n\u001b[0;32m--> 250\u001b[0;31m             \u001b[0minput\u001b[0m \u001b[0;34m=\u001b[0m \u001b[0mmodule\u001b[0m\u001b[0;34m(\u001b[0m\u001b[0minput\u001b[0m\u001b[0;34m)\u001b[0m\u001b[0;34m\u001b[0m\u001b[0;34m\u001b[0m\u001b[0m\n\u001b[0m\u001b[1;32m    251\u001b[0m         \u001b[0;32mreturn\u001b[0m \u001b[0minput\u001b[0m\u001b[0;34m\u001b[0m\u001b[0;34m\u001b[0m\u001b[0m\n\u001b[1;32m    252\u001b[0m \u001b[0;34m\u001b[0m\u001b[0m\n",
            "\u001b[0;32m/usr/local/lib/python3.11/dist-packages/torch/nn/modules/module.py\u001b[0m in \u001b[0;36m_wrapped_call_impl\u001b[0;34m(self, *args, **kwargs)\u001b[0m\n\u001b[1;32m   1737\u001b[0m             \u001b[0;32mreturn\u001b[0m \u001b[0mself\u001b[0m\u001b[0;34m.\u001b[0m\u001b[0m_compiled_call_impl\u001b[0m\u001b[0;34m(\u001b[0m\u001b[0;34m*\u001b[0m\u001b[0margs\u001b[0m\u001b[0;34m,\u001b[0m \u001b[0;34m**\u001b[0m\u001b[0mkwargs\u001b[0m\u001b[0;34m)\u001b[0m  \u001b[0;31m# type: ignore[misc]\u001b[0m\u001b[0;34m\u001b[0m\u001b[0;34m\u001b[0m\u001b[0m\n\u001b[1;32m   1738\u001b[0m         \u001b[0;32melse\u001b[0m\u001b[0;34m:\u001b[0m\u001b[0;34m\u001b[0m\u001b[0;34m\u001b[0m\u001b[0m\n\u001b[0;32m-> 1739\u001b[0;31m             \u001b[0;32mreturn\u001b[0m \u001b[0mself\u001b[0m\u001b[0;34m.\u001b[0m\u001b[0m_call_impl\u001b[0m\u001b[0;34m(\u001b[0m\u001b[0;34m*\u001b[0m\u001b[0margs\u001b[0m\u001b[0;34m,\u001b[0m \u001b[0;34m**\u001b[0m\u001b[0mkwargs\u001b[0m\u001b[0;34m)\u001b[0m\u001b[0;34m\u001b[0m\u001b[0;34m\u001b[0m\u001b[0m\n\u001b[0m\u001b[1;32m   1740\u001b[0m \u001b[0;34m\u001b[0m\u001b[0m\n\u001b[1;32m   1741\u001b[0m     \u001b[0;31m# torchrec tests the code consistency with the following code\u001b[0m\u001b[0;34m\u001b[0m\u001b[0;34m\u001b[0m\u001b[0m\n",
            "\u001b[0;32m/usr/local/lib/python3.11/dist-packages/torch/nn/modules/module.py\u001b[0m in \u001b[0;36m_call_impl\u001b[0;34m(self, *args, **kwargs)\u001b[0m\n\u001b[1;32m   1748\u001b[0m                 \u001b[0;32mor\u001b[0m \u001b[0m_global_backward_pre_hooks\u001b[0m \u001b[0;32mor\u001b[0m \u001b[0m_global_backward_hooks\u001b[0m\u001b[0;34m\u001b[0m\u001b[0;34m\u001b[0m\u001b[0m\n\u001b[1;32m   1749\u001b[0m                 or _global_forward_hooks or _global_forward_pre_hooks):\n\u001b[0;32m-> 1750\u001b[0;31m             \u001b[0;32mreturn\u001b[0m \u001b[0mforward_call\u001b[0m\u001b[0;34m(\u001b[0m\u001b[0;34m*\u001b[0m\u001b[0margs\u001b[0m\u001b[0;34m,\u001b[0m \u001b[0;34m**\u001b[0m\u001b[0mkwargs\u001b[0m\u001b[0;34m)\u001b[0m\u001b[0;34m\u001b[0m\u001b[0;34m\u001b[0m\u001b[0m\n\u001b[0m\u001b[1;32m   1751\u001b[0m \u001b[0;34m\u001b[0m\u001b[0m\n\u001b[1;32m   1752\u001b[0m         \u001b[0mresult\u001b[0m \u001b[0;34m=\u001b[0m \u001b[0;32mNone\u001b[0m\u001b[0;34m\u001b[0m\u001b[0;34m\u001b[0m\u001b[0m\n",
            "\u001b[0;32m/usr/local/lib/python3.11/dist-packages/torch/nn/modules/pooling.py\u001b[0m in \u001b[0;36mforward\u001b[0;34m(self, input)\u001b[0m\n\u001b[1;32m    211\u001b[0m \u001b[0;34m\u001b[0m\u001b[0m\n\u001b[1;32m    212\u001b[0m     \u001b[0;32mdef\u001b[0m \u001b[0mforward\u001b[0m\u001b[0;34m(\u001b[0m\u001b[0mself\u001b[0m\u001b[0;34m,\u001b[0m \u001b[0minput\u001b[0m\u001b[0;34m:\u001b[0m \u001b[0mTensor\u001b[0m\u001b[0;34m)\u001b[0m\u001b[0;34m:\u001b[0m\u001b[0;34m\u001b[0m\u001b[0;34m\u001b[0m\u001b[0m\n\u001b[0;32m--> 213\u001b[0;31m         return F.max_pool2d(\n\u001b[0m\u001b[1;32m    214\u001b[0m             \u001b[0minput\u001b[0m\u001b[0;34m,\u001b[0m\u001b[0;34m\u001b[0m\u001b[0;34m\u001b[0m\u001b[0m\n\u001b[1;32m    215\u001b[0m             \u001b[0mself\u001b[0m\u001b[0;34m.\u001b[0m\u001b[0mkernel_size\u001b[0m\u001b[0;34m,\u001b[0m\u001b[0;34m\u001b[0m\u001b[0;34m\u001b[0m\u001b[0m\n",
            "\u001b[0;32m/usr/local/lib/python3.11/dist-packages/torch/_jit_internal.py\u001b[0m in \u001b[0;36mfn\u001b[0;34m(*args, **kwargs)\u001b[0m\n\u001b[1;32m    622\u001b[0m             \u001b[0;32mreturn\u001b[0m \u001b[0mif_true\u001b[0m\u001b[0;34m(\u001b[0m\u001b[0;34m*\u001b[0m\u001b[0margs\u001b[0m\u001b[0;34m,\u001b[0m \u001b[0;34m**\u001b[0m\u001b[0mkwargs\u001b[0m\u001b[0;34m)\u001b[0m\u001b[0;34m\u001b[0m\u001b[0;34m\u001b[0m\u001b[0m\n\u001b[1;32m    623\u001b[0m         \u001b[0;32melse\u001b[0m\u001b[0;34m:\u001b[0m\u001b[0;34m\u001b[0m\u001b[0;34m\u001b[0m\u001b[0m\n\u001b[0;32m--> 624\u001b[0;31m             \u001b[0;32mreturn\u001b[0m \u001b[0mif_false\u001b[0m\u001b[0;34m(\u001b[0m\u001b[0;34m*\u001b[0m\u001b[0margs\u001b[0m\u001b[0;34m,\u001b[0m \u001b[0;34m**\u001b[0m\u001b[0mkwargs\u001b[0m\u001b[0;34m)\u001b[0m\u001b[0;34m\u001b[0m\u001b[0;34m\u001b[0m\u001b[0m\n\u001b[0m\u001b[1;32m    625\u001b[0m \u001b[0;34m\u001b[0m\u001b[0m\n\u001b[1;32m    626\u001b[0m     \u001b[0;32mif\u001b[0m \u001b[0mif_true\u001b[0m\u001b[0;34m.\u001b[0m\u001b[0m__doc__\u001b[0m \u001b[0;32mis\u001b[0m \u001b[0;32mNone\u001b[0m \u001b[0;32mand\u001b[0m \u001b[0mif_false\u001b[0m\u001b[0;34m.\u001b[0m\u001b[0m__doc__\u001b[0m \u001b[0;32mis\u001b[0m \u001b[0;32mnot\u001b[0m \u001b[0;32mNone\u001b[0m\u001b[0;34m:\u001b[0m\u001b[0;34m\u001b[0m\u001b[0;34m\u001b[0m\u001b[0m\n",
            "\u001b[0;32m/usr/local/lib/python3.11/dist-packages/torch/nn/functional.py\u001b[0m in \u001b[0;36m_max_pool2d\u001b[0;34m(input, kernel_size, stride, padding, dilation, ceil_mode, return_indices)\u001b[0m\n\u001b[1;32m    828\u001b[0m     \u001b[0;32mif\u001b[0m \u001b[0mstride\u001b[0m \u001b[0;32mis\u001b[0m \u001b[0;32mNone\u001b[0m\u001b[0;34m:\u001b[0m\u001b[0;34m\u001b[0m\u001b[0;34m\u001b[0m\u001b[0m\n\u001b[1;32m    829\u001b[0m         \u001b[0mstride\u001b[0m \u001b[0;34m=\u001b[0m \u001b[0mtorch\u001b[0m\u001b[0;34m.\u001b[0m\u001b[0mjit\u001b[0m\u001b[0;34m.\u001b[0m\u001b[0mannotate\u001b[0m\u001b[0;34m(\u001b[0m\u001b[0mList\u001b[0m\u001b[0;34m[\u001b[0m\u001b[0mint\u001b[0m\u001b[0;34m]\u001b[0m\u001b[0;34m,\u001b[0m \u001b[0;34m[\u001b[0m\u001b[0;34m]\u001b[0m\u001b[0;34m)\u001b[0m\u001b[0;34m\u001b[0m\u001b[0;34m\u001b[0m\u001b[0m\n\u001b[0;32m--> 830\u001b[0;31m     \u001b[0;32mreturn\u001b[0m \u001b[0mtorch\u001b[0m\u001b[0;34m.\u001b[0m\u001b[0mmax_pool2d\u001b[0m\u001b[0;34m(\u001b[0m\u001b[0minput\u001b[0m\u001b[0;34m,\u001b[0m \u001b[0mkernel_size\u001b[0m\u001b[0;34m,\u001b[0m \u001b[0mstride\u001b[0m\u001b[0;34m,\u001b[0m \u001b[0mpadding\u001b[0m\u001b[0;34m,\u001b[0m \u001b[0mdilation\u001b[0m\u001b[0;34m,\u001b[0m \u001b[0mceil_mode\u001b[0m\u001b[0;34m)\u001b[0m\u001b[0;34m\u001b[0m\u001b[0;34m\u001b[0m\u001b[0m\n\u001b[0m\u001b[1;32m    831\u001b[0m \u001b[0;34m\u001b[0m\u001b[0m\n\u001b[1;32m    832\u001b[0m \u001b[0;34m\u001b[0m\u001b[0m\n",
            "\u001b[0;31mOutOfMemoryError\u001b[0m: CUDA out of memory. Tried to allocate 20.00 MiB. GPU 0 has a total capacity of 14.74 GiB of which 10.12 MiB is free. Process 6024 has 14.73 GiB memory in use. Of the allocated memory 14.52 GiB is allocated by PyTorch, and 74.32 MiB is reserved by PyTorch but unallocated. If reserved but unallocated memory is large try setting PYTORCH_CUDA_ALLOC_CONF=expandable_segments:True to avoid fragmentation.  See documentation for Memory Management  (https://pytorch.org/docs/stable/notes/cuda.html#environment-variables)"
          ]
        }
      ]
    },
    {
      "cell_type": "code",
      "source": [
        "def make_roc_curve():\n",
        "    fig, axes = plt.subplots(5, 2, figsize=(12, 25))  # 5行2列のサブプロット\n",
        "\n",
        "    for n in range(10):\n",
        "\n",
        "        # クラス0の確率値を取得\n",
        "        prob = val_prob_pred[:, n].cpu().detach().numpy()\n",
        "\n",
        "        # 0/1 ラベルの取得\n",
        "        one_zero_labels = torch.where(y_val_true == n, 1, 0).cpu().detach().numpy()\n",
        "\n",
        "        # ROC曲線の計算\n",
        "        fpr, tpr, thresholds = roc_curve(one_zero_labels, prob)\n",
        "\n",
        "        # auc算出\n",
        "        auc_score = roc_auc_score(one_zero_labels, prob)\n",
        "        print(f\"ROC AUC Score: {auc_score:.4f}\")\n",
        "\n",
        "        # 行インデックスと列インデックスの計算\n",
        "        row_idx = n // 2  # 行インデックス\n",
        "        col_idx = n % 2   # 列インデックス\n",
        "\n",
        "        # グラフ描画\n",
        "        axes[row_idx, col_idx].plot(fpr, tpr, marker='o', color='b', label=\"ROC Curve\")\n",
        "        axes[row_idx, col_idx].set_xlabel('FPR: False Positive Rate')\n",
        "        axes[row_idx, col_idx].set_ylabel('TPR: True Positive Rate')\n",
        "        axes[row_idx, col_idx].set_title(f'ROC Curve - Class {n}')\n",
        "        axes[row_idx, col_idx].legend()\n",
        "        axes[row_idx, col_idx].grid()\n",
        "    plt.tight_layout()\n",
        "    plt.show()\n",
        "\n",
        "make_roc_curve()"
      ],
      "metadata": {
        "id": "2m-pObP9aZO8"
      },
      "execution_count": null,
      "outputs": []
    }
  ]
}