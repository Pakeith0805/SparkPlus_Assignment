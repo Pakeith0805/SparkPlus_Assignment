{
  "nbformat": 4,
  "nbformat_minor": 0,
  "metadata": {
    "colab": {
      "provenance": [],
      "gpuType": "T4",
      "authorship_tag": "ABX9TyPBid/V3HFlyShfHGowy+Pv",
      "include_colab_link": true
    },
    "kernelspec": {
      "name": "python3",
      "display_name": "Python 3"
    },
    "language_info": {
      "name": "python"
    },
    "accelerator": "GPU"
  },
  "cells": [
    {
      "cell_type": "markdown",
      "metadata": {
        "id": "view-in-github",
        "colab_type": "text"
      },
      "source": [
        "<a href=\"https://colab.research.google.com/github/Pakeith0805/SparkPlus_Assignment/blob/staging/Assignment.ipynb\" target=\"_parent\"><img src=\"https://colab.research.google.com/assets/colab-badge.svg\" alt=\"Open In Colab\"/></a>"
      ]
    },
    {
      "cell_type": "markdown",
      "source": [
        "SparkPlusの採用課題です。"
      ],
      "metadata": {
        "id": "6dfeyUvCHFcz"
      }
    },
    {
      "cell_type": "markdown",
      "source": [
        "- ラベル「0」： airplane（飛行機）\n",
        "- ラベル「1」： automobile（自動車）\n",
        "- ラベル「2」： bird（鳥）\n",
        "- ラベル「3」： cat（猫）\n",
        "- ラベル「4」： deer（鹿）\n",
        "- ラベル「5」： dog（犬）\n",
        "- ラベル「6」： frog（カエル）\n",
        "- ラベル「7」： horse（馬）\n",
        "- ラベル「8」： ship（船）\n",
        "- ラベル「9」： truck（トラック）"
      ],
      "metadata": {
        "id": "debBDGXqOUv4"
      }
    },
    {
      "cell_type": "markdown",
      "source": [
        "# 前処理"
      ],
      "metadata": {
        "id": "20eUgU1WMCAn"
      }
    },
    {
      "cell_type": "code",
      "execution_count": 24,
      "metadata": {
        "id": "-2CIgzsAHEk-"
      },
      "outputs": [],
      "source": [
        "import torch\n",
        "import torchvision\n",
        "import torch.nn as nn\n",
        "import torch.optim as optim\n",
        "import numpy as np\n",
        "from torchvision import datasets, models, transforms\n",
        "import matplotlib.pyplot as plt\n",
        "from torch.utils.data import DataLoader\n",
        "from sklearn.metrics import confusion_matrix\n",
        "from sklearn.metrics import roc_curve\n",
        "from sklearn.metrics import roc_auc_score\n",
        "from torch.optim.lr_scheduler import CosineAnnealingLR, CosineAnnealingWarmRestarts\n",
        "import torch.nn.functional as F"
      ]
    },
    {
      "cell_type": "code",
      "source": [
        "# ちゃんとgpuになってるか確認。\n",
        "device = \"cuda\" if torch.cuda.is_available() else \"cpu\"\n",
        "print(device)"
      ],
      "metadata": {
        "id": "0SJ8VDWDMELh",
        "outputId": "ee305e48-13a7-4e4a-d8b5-2646465c5498",
        "colab": {
          "base_uri": "https://localhost:8080/"
        }
      },
      "execution_count": 25,
      "outputs": [
        {
          "output_type": "stream",
          "name": "stdout",
          "text": [
            "cuda\n"
          ]
        }
      ]
    },
    {
      "cell_type": "code",
      "source": [
        "# 前処理をまとめる\n",
        "train_transform = transforms.Compose([\n",
        "    transforms.RandomHorizontalFlip(), # ランダムに左右対称にする\n",
        "    transforms.ColorJitter(brightness=0.2, contrast=1.5), # コントラストを強くする。\n",
        "    transforms.ToTensor(), # 画像をTensorクラスに変えて、チャネルファーストに変えてくれる。\n",
        "    transforms.Normalize((0.5,), (0.5,)) # 平均、標準偏差を0.5に\n",
        "])\n",
        "\n",
        "val_transform = transforms.Compose([\n",
        "    transforms.ToTensor(),\n",
        "    transforms.Normalize((0.5,), (0.5,))\n",
        "])\n",
        "\n",
        "# 訓練用データセットと検証用データセットを作成\n",
        "train_dataset = datasets.CIFAR10(root=\"./data\", train=True, download=True, transform=train_transform)\n",
        "vilidation_dataset = datasets.CIFAR10(root=\"./data\", train=False, download=True, transform=val_transform)"
      ],
      "metadata": {
        "id": "E-z-alzMMHNH"
      },
      "execution_count": 26,
      "outputs": []
    },
    {
      "cell_type": "code",
      "source": [
        "# データを作る。\n",
        "train_dataloader = DataLoader(train_dataset, batch_size=32, shuffle=True)\n",
        "validation_dataloader = DataLoader(vilidation_dataset, batch_size=32, shuffle=False)"
      ],
      "metadata": {
        "id": "IykEj-ScMKaR"
      },
      "execution_count": 27,
      "outputs": []
    },
    {
      "cell_type": "code",
      "source": [
        "# CNNを実装。\n",
        "class CNN(nn.Module):\n",
        "    def __init__(self, num_classes):\n",
        "        super().__init__()\n",
        "        self.features = nn.Sequential(\n",
        "            nn.Conv2d(in_channels=3, out_channels=64, kernel_size=5, padding=2), # RGBなのでin_channelsは3、畳み込むたびに2ずつ画像が小さくなるため、2補う。\n",
        "            nn.ReLU(inplace=True),\n",
        "            nn.MaxPool2d(kernel_size=2), # 32×32の画像が16×16になる。\n",
        "            nn.Conv2d(in_channels=64, out_channels=128, kernel_size=3, padding=1), # RGBなのでin_channelsは3、畳み込むたびに2ずつ画像が小さくなるため、2補う。\n",
        "            nn.ReLU(inplace=True),\n",
        "            nn.MaxPool2d(kernel_size=2), # 16×16の画像が8×8になる。\n",
        "            nn.Conv2d(in_channels=128, out_channels=256, kernel_size=3, padding=1), # RGBなのでin_channelsは3、畳み込むたびに2ずつ画像が小さくなるため、2補う。\n",
        "            nn.ReLU(inplace=True),\n",
        "            nn.MaxPool2d(kernel_size=2), # 8×8の画像が4×4になる。\n",
        "            nn.Conv2d(in_channels=256, out_channels=128, kernel_size=3, padding=1), # RGBなのでin_channelsは3、畳み込むたびに2ずつ画像が小さくなるため、2補う。\n",
        "            nn.ReLU(inplace=True),\n",
        "        )\n",
        "        self.classifier = nn.Linear(in_features=4 * 4 * 128, out_features=num_classes) # in_featuresには1次元ベクトルにして渡す。4×4が128個ある。out_featuresは何個に分類するか。\n",
        "    def forward(self, x):\n",
        "        x = self.features(x)\n",
        "        x = x.view(x.size(0), -1) # x.size(0)はバッチ数を表す。(32, 4×4×128)という形になる。\n",
        "        x = self.classifier(x)\n",
        "        return x"
      ],
      "metadata": {
        "id": "Cln6z02oMTDh"
      },
      "execution_count": 28,
      "outputs": []
    },
    {
      "cell_type": "code",
      "source": [
        "# modelを作成\n",
        "model = CNN(10) # 10はクラス数\n",
        "model.to(device)"
      ],
      "metadata": {
        "id": "eRt1NnShMgL5",
        "outputId": "ea2438c8-248f-4f22-daea-063f77c769d1",
        "colab": {
          "base_uri": "https://localhost:8080/"
        }
      },
      "execution_count": 29,
      "outputs": [
        {
          "output_type": "execute_result",
          "data": {
            "text/plain": [
              "CNN(\n",
              "  (features): Sequential(\n",
              "    (0): Conv2d(3, 64, kernel_size=(5, 5), stride=(1, 1), padding=(2, 2))\n",
              "    (1): ReLU(inplace=True)\n",
              "    (2): MaxPool2d(kernel_size=2, stride=2, padding=0, dilation=1, ceil_mode=False)\n",
              "    (3): Conv2d(64, 128, kernel_size=(3, 3), stride=(1, 1), padding=(1, 1))\n",
              "    (4): ReLU(inplace=True)\n",
              "    (5): MaxPool2d(kernel_size=2, stride=2, padding=0, dilation=1, ceil_mode=False)\n",
              "    (6): Conv2d(128, 256, kernel_size=(3, 3), stride=(1, 1), padding=(1, 1))\n",
              "    (7): ReLU(inplace=True)\n",
              "    (8): MaxPool2d(kernel_size=2, stride=2, padding=0, dilation=1, ceil_mode=False)\n",
              "    (9): Conv2d(256, 128, kernel_size=(3, 3), stride=(1, 1), padding=(1, 1))\n",
              "    (10): ReLU(inplace=True)\n",
              "  )\n",
              "  (classifier): Linear(in_features=2048, out_features=10, bias=True)\n",
              ")"
            ]
          },
          "metadata": {},
          "execution_count": 29
        }
      ]
    },
    {
      "cell_type": "code",
      "source": [
        "class FocalLoss(nn.Module):\n",
        "    def __init__(self, alpha=1, gamma=2, reduction='mean'):\n",
        "        super(FocalLoss, self).__init__()\n",
        "        self.alpha = alpha\n",
        "        self.gamma = gamma\n",
        "        self.reduction = reduction\n",
        "\n",
        "    def forward(self, inputs, targets):\n",
        "        ce_loss = F.cross_entropy(inputs, targets, reduction=\"none\")\n",
        "        pt = torch.exp(-ce_loss)\n",
        "        focal_loss = self.alpha * (1 - pt) ** self.gamma * ce_loss\n",
        "\n",
        "        if self.reduction == \"mean\":\n",
        "            return focal_loss.mean()\n",
        "        elif self.reduction == \"sum\":\n",
        "            return focal_loss.sum()\n",
        "        else:\n",
        "            return focal_loss"
      ],
      "metadata": {
        "id": "oSg1E6dQcVhK"
      },
      "execution_count": 30,
      "outputs": []
    },
    {
      "cell_type": "code",
      "source": [
        "# 損失関数とoptimizerを設定\n",
        "criterion = FocalLoss(alpha=1, gamma=2)\n",
        "optimizer = optim.Adam(model.parameters(), lr=0.001, weight_decay=5e-4) # weight_decayで重みづけが大きくなりすぎないようにしている。\n",
        "# CosineAnnealingWarmRestartsの設定\n",
        "scheduler = CosineAnnealingWarmRestarts(optimizer, T_0=5, T_mult=2, eta_min=0.)"
      ],
      "metadata": {
        "id": "Y2kUUxzqMix6"
      },
      "execution_count": 31,
      "outputs": []
    },
    {
      "cell_type": "code",
      "source": [
        "num_classes=10"
      ],
      "metadata": {
        "id": "lplllZ-dQ-8A"
      },
      "execution_count": 32,
      "outputs": []
    },
    {
      "cell_type": "code",
      "source": [
        "# 学習のループ\n",
        "num_epochs = 15\n",
        "losses = []\n",
        "accs = []\n",
        "val_losses = []\n",
        "val_accs = []\n",
        "for epoch in range(num_epochs-3):\n",
        "    total_loss = 0.0 # mixupでは損失の計算方法が異なるため、total_lossに名称変更\n",
        "    total_acc = 0.0\n",
        "    y_true = []  # 正解ラベルを保存\n",
        "    y_pred = []  # 予測ラベルを保存\n",
        "    for imgs, labels, in train_dataloader:\n",
        "        imgs = imgs.to(device)\n",
        "        labels = labels.to(device)\n",
        "\n",
        "        # こっからmixup\n",
        "        lmd = np.random.beta(1.0, 1.0)\n",
        "        idx = torch.randperm(imgs.size(0)).to(device) # ランダムに並び替える\n",
        "        imgs2 = imgs[idx, :] # 混ぜ合わせる画像\n",
        "        labels2 = labels[idx]\n",
        "\n",
        "        labels = F.one_hot(labels, num_classes=num_classes).float()\n",
        "        labels2 = F.one_hot(labels2, num_classes=num_classes).float()\n",
        "\n",
        "        # ここまで\n",
        "\n",
        "        optimizer.zero_grad() # 勾配の初期化\n",
        "        output = model(lmd * imgs + (1 - lmd) * imgs2) # いじった\n",
        "        loss = lmd * criterion(output, labels) + (1 - lmd) * criterion(output, labels2) # いじった\n",
        "        loss.backward()\n",
        "        optimizer.step()\n",
        "        total_loss += loss.item()\n",
        "        pred = torch.argmax(output, dim=1)\n",
        "        prob_pred = torch.softmax(output, dim=1)\n",
        "        total_acc += lmd * torch.mean(pred.eq(labels.argmax(dim=1)).float()) + (1 - lmd) * torch.mean(pred.eq(labels2.argmax(dim=1)).float())\n",
        "        y_true.extend(labels.cpu().numpy())  # GPU->CPU\n",
        "        y_pred.extend(pred.cpu().numpy())  # GPU->CPU\n",
        "    total_loss /= len(train_dataloader)\n",
        "    total_acc /= len(train_dataloader)\n",
        "    losses.append(total_loss)\n",
        "    #accs.append(running_acc)\n",
        "    accs.append(total_acc.cpu())\n",
        "    scheduler.step()\n",
        "#\n",
        "# validationのループ\n",
        "#\n",
        "    val_running_loss = 0.0\n",
        "    val_running_acc = 0.0\n",
        "    y_val_true = []  # 正解ラベルを保存\n",
        "    y_val_pred = []  # 予測ラベルを保存\n",
        "    for val_imgs, val_labels in validation_dataloader:\n",
        "        val_imgs = val_imgs.to(device)\n",
        "        val_labels = val_labels.to(device)\n",
        "        val_output = model(val_imgs)\n",
        "        val_loss = criterion(val_output, val_labels)\n",
        "        val_running_loss += val_loss.item()\n",
        "        val_pred = torch.argmax(val_output, dim=1)\n",
        "        val_running_acc += torch.mean(val_pred.eq(val_labels).float())\n",
        "        # ラベルを保存\n",
        "        y_val_true.extend(val_labels.cpu().numpy())  # GPU->CPU\n",
        "        y_val_pred.extend(val_pred.cpu().numpy())  # GPU->CPU\n",
        "\n",
        "    val_running_loss /= len(validation_dataloader)\n",
        "    val_running_acc /= len(validation_dataloader)\n",
        "    val_losses.append(val_running_loss)\n",
        "    #val_accs.append(val_running_acc)\n",
        "    val_accs.append(val_running_acc.cpu())\n",
        "    print(\"epoch: {}, loss: {}, acc: {}, \\\n",
        "     val loss: {}, val acc: {}\".format(epoch, total_loss, total_acc, val_running_loss, val_running_acc))\n",
        "\n",
        "\n",
        "\n",
        "\n",
        "for epoch in range(num_epochs-12):\n",
        "    running_loss = 0.0\n",
        "    running_acc = 0.0\n",
        "    y_true = []  # 正解ラベルを保存\n",
        "    y_pred = []  # 予測ラベルを保存\n",
        "    for imgs, labels, in train_dataloader:\n",
        "        imgs = imgs.to(device)\n",
        "        labels = labels.to(device)\n",
        "        optimizer.zero_grad()\n",
        "        output = model(imgs)\n",
        "        loss = criterion(output, labels)\n",
        "        loss.backward()\n",
        "        optimizer.step() # 位置換えてみた\n",
        "        running_loss += loss.item()\n",
        "        pred = torch.argmax(output, dim=1)\n",
        "        prob_pred = torch.softmax(output, dim=1)\n",
        "        running_acc += torch.mean(pred.eq(labels).float())\n",
        "        y_true.extend(labels.cpu().numpy())  # GPU->CPU\n",
        "        y_pred.extend(pred.cpu().numpy())  # GPU->CPU\n",
        "    running_loss /= len(train_dataloader)\n",
        "    running_acc /= len(train_dataloader)\n",
        "    losses.append(running_loss)\n",
        "    #accs.append(running_acc)\n",
        "    accs.append(running_acc.cpu())\n",
        "    scheduler.step()\n",
        "#\n",
        "# validationのループ\n",
        "#\n",
        "    val_running_loss = 0.0\n",
        "    val_running_acc = 0.0\n",
        "    y_val_true = []  # 正解ラベルを保存\n",
        "    y_val_pred = []  # 予測ラベルを保存\n",
        "    for val_imgs, val_labels in validation_dataloader:\n",
        "        val_imgs = val_imgs.to(device)\n",
        "        val_labels = val_labels.to(device)\n",
        "        val_output = model(val_imgs)\n",
        "        val_loss = criterion(val_output, val_labels)\n",
        "        val_running_loss += val_loss.item()\n",
        "        val_pred = torch.argmax(val_output, dim=1)\n",
        "        val_running_acc += torch.mean(val_pred.eq(val_labels).float())\n",
        "        # ラベルを保存\n",
        "        y_val_true.extend(val_labels.cpu().numpy())  # GPU->CPU\n",
        "        y_val_pred.extend(val_pred.cpu().numpy())  # GPU->CPU\n",
        "\n",
        "    val_running_loss /= len(validation_dataloader)\n",
        "    val_running_acc /= len(validation_dataloader)\n",
        "    val_losses.append(val_running_loss)\n",
        "    #val_accs.append(val_running_acc)\n",
        "    val_accs.append(val_running_acc.cpu())\n",
        "    print(\"epoch: {}, loss: {}, acc: {}, \\\n",
        "     val loss: {}, val acc: {}\".format(epoch+12, running_loss, running_acc, val_running_loss, val_running_acc))"
      ],
      "metadata": {
        "id": "5au2nWCYMoYO",
        "outputId": "e6574d34-e671-4243-8e10-40eaeb40291f",
        "colab": {
          "base_uri": "https://localhost:8080/"
        }
      },
      "execution_count": 33,
      "outputs": [
        {
          "output_type": "stream",
          "name": "stdout",
          "text": [
            "epoch: 0, loss: 1.4624066535509785, acc: 0.3121011257171631,      val loss: 0.9568454032888809, val acc: 0.49940094351768494\n",
            "epoch: 1, loss: 1.277203763782101, acc: 0.41414350271224976,      val loss: 0.7245670352309657, val acc: 0.6197084784507751\n",
            "epoch: 2, loss: 1.1800840498923646, acc: 0.4617359936237335,      val loss: 0.6593338644352204, val acc: 0.6558506488800049\n",
            "epoch: 3, loss: 1.1315241706958583, acc: 0.4902825951576233,      val loss: 0.5880919784402695, val acc: 0.6971845030784607\n",
            "epoch: 4, loss: 1.0855225056733981, acc: 0.5162538886070251,      val loss: 0.560868322182768, val acc: 0.7124600410461426\n",
            "epoch: 5, loss: 1.1575645041709821, acc: 0.4805947542190552,      val loss: 0.666613828355131, val acc: 0.6721245646476746\n",
            "epoch: 6, loss: 1.1468546004990927, acc: 0.4829743504524231,      val loss: 0.6098771569447015, val acc: 0.6930910348892212\n",
            "epoch: 7, loss: 1.127079738746144, acc: 0.4981965124607086,      val loss: 0.6245641729321343, val acc: 0.6731230020523071\n",
            "epoch: 8, loss: 1.105469907771603, acc: 0.5095450282096863,      val loss: 0.5882099905905251, val acc: 0.7095646858215332\n",
            "epoch: 9, loss: 1.0746931798436743, acc: 0.5227387547492981,      val loss: 0.5513697567458351, val acc: 0.7232428193092346\n",
            "epoch: 10, loss: 1.0550813130934271, acc: 0.5349202156066895,      val loss: 0.4855222806762963, val acc: 0.7457068562507629\n",
            "epoch: 11, loss: 1.0405331954541148, acc: 0.5423693060874939,      val loss: 0.49780610689339927, val acc: 0.7498003244400024\n",
            "epoch: 12, loss: 0.4187432605718392, acc: 0.7583973407745361,      val loss: 0.37500302050822076, val acc: 0.7710663080215454\n",
            "epoch: 13, loss: 0.3681995677484661, acc: 0.7804102897644043,      val loss: 0.35231710494326324, val acc: 0.7832468152046204\n",
            "epoch: 14, loss: 0.34723005345137703, acc: 0.7898472547531128,      val loss: 0.3476853045745018, val acc: 0.7851437330245972\n"
          ]
        }
      ]
    },
    {
      "cell_type": "code",
      "source": [
        "labels"
      ],
      "metadata": {
        "id": "GcWe5uJl_OwK",
        "colab": {
          "base_uri": "https://localhost:8080/"
        },
        "outputId": "c5dc05e6-6633-469e-ac82-440e3b817418"
      },
      "execution_count": 34,
      "outputs": [
        {
          "output_type": "execute_result",
          "data": {
            "text/plain": [
              "tensor([9, 7, 5, 5, 1, 7, 5, 3, 3, 8, 4, 7, 8, 4, 7, 3], device='cuda:0')"
            ]
          },
          "metadata": {},
          "execution_count": 34
        }
      ]
    },
    {
      "cell_type": "code",
      "source": [
        "one_zero_labels = torch.where(labels == 0, 1, 0)\n",
        "print(one_zero_labels)"
      ],
      "metadata": {
        "id": "3blnP_b3n2pR",
        "colab": {
          "base_uri": "https://localhost:8080/"
        },
        "outputId": "eb6cfc00-9f20-4644-edc7-00c31541f1bb"
      },
      "execution_count": 35,
      "outputs": [
        {
          "output_type": "stream",
          "name": "stdout",
          "text": [
            "tensor([0, 0, 0, 0, 0, 0, 0, 0, 0, 0, 0, 0, 0, 0, 0, 0], device='cuda:0')\n"
          ]
        }
      ]
    },
    {
      "cell_type": "code",
      "source": [
        "prob = prob_pred[:, 0]"
      ],
      "metadata": {
        "id": "LfChzmc_OGeF"
      },
      "execution_count": 36,
      "outputs": []
    },
    {
      "cell_type": "code",
      "source": [
        "prob\n",
        "# probはラベル0の確率。これ使ってroc曲線かける"
      ],
      "metadata": {
        "id": "t9JZTA2mO3Xw",
        "colab": {
          "base_uri": "https://localhost:8080/"
        },
        "outputId": "c2862806-6dab-4e31-9d63-d3709de9599f"
      },
      "execution_count": 37,
      "outputs": [
        {
          "output_type": "execute_result",
          "data": {
            "text/plain": [
              "tensor([7.3044e-03, 7.5386e-05, 2.2004e-03, 7.3783e-05, 1.4414e-03, 1.6933e-03,\n",
              "        3.7625e-03, 1.0320e-04, 1.7062e-01, 1.5094e-01, 1.7723e-04, 6.4335e-04,\n",
              "        1.7968e-03, 1.1312e-02, 5.5295e-04, 3.4952e-03], device='cuda:0',\n",
              "       grad_fn=<SelectBackward0>)"
            ]
          },
          "metadata": {},
          "execution_count": 37
        }
      ]
    },
    {
      "cell_type": "code",
      "source": [
        "roc = roc_curve(one_zero_labels.cpu().detach().numpy(), prob.cpu().detach().numpy())"
      ],
      "metadata": {
        "id": "dHz0nE1Vpqn8",
        "colab": {
          "base_uri": "https://localhost:8080/"
        },
        "outputId": "716a2cb8-1a9a-4a02-8dd6-00d1e18d3ded"
      },
      "execution_count": 38,
      "outputs": [
        {
          "output_type": "stream",
          "name": "stderr",
          "text": [
            "/usr/local/lib/python3.11/dist-packages/sklearn/metrics/_ranking.py:1188: UndefinedMetricWarning: No positive samples in y_true, true positive value should be meaningless\n",
            "  warnings.warn(\n"
          ]
        }
      ]
    },
    {
      "cell_type": "code",
      "source": [
        "fpr, tpr, thresholds = roc\n",
        "\n",
        "print(fpr)\n",
        "# [0.   0.   0.25 0.25 0.5  0.5  1.  ]\n",
        "\n",
        "print(tpr)\n",
        "# [0.   0.25 0.25 0.5  0.5  1.   1.  ]\n",
        "\n",
        "print(thresholds)\n",
        "# [1.9 0.9 0.8 0.7 0.6 0.4 0.2]"
      ],
      "metadata": {
        "id": "6XQjwALgq5Hi",
        "colab": {
          "base_uri": "https://localhost:8080/"
        },
        "outputId": "cf5da3a1-370e-4e4d-b4ce-2057e9246449"
      },
      "execution_count": 39,
      "outputs": [
        {
          "output_type": "stream",
          "name": "stdout",
          "text": [
            "[0.     0.0625 1.    ]\n",
            "[nan nan nan]\n",
            "[          inf 1.7061912e-01 7.3783383e-05]\n"
          ]
        }
      ]
    },
    {
      "cell_type": "code",
      "source": [
        "plt.plot(fpr, tpr, marker='o')\n",
        "plt.xlabel('FPR: False positive rate')\n",
        "plt.ylabel('TPR: True positive rate')\n",
        "plt.grid()"
      ],
      "metadata": {
        "id": "cPb_LcAOrMo5",
        "colab": {
          "base_uri": "https://localhost:8080/",
          "height": 453
        },
        "outputId": "f2b0525a-b635-4072-f25a-3bb68c469735"
      },
      "execution_count": 40,
      "outputs": [
        {
          "output_type": "display_data",
          "data": {
            "text/plain": [
              "<Figure size 640x480 with 1 Axes>"
            ],
            "image/png": "[encoded data removed]"
          },
          "metadata": {}
        }
      ]
    },
    {
      "cell_type": "markdown",
      "source": [
        "# 評価項目"
      ],
      "metadata": {
        "id": "hAlBZVRR_1TB"
      }
    },
    {
      "cell_type": "code",
      "source": [
        "# 正解率\n",
        "print(accs[-1].cpu())\n",
        "print(val_accs[-1].cpu())\n",
        "# 混同行列\n",
        "cm=confusion_matrix(y_true, y_pred)\n",
        "val_cm=confusion_matrix(y_val_true, y_val_pred)\n",
        "print(cm)\n",
        "print(val_cm)\n",
        "# 再現率：実際に真だったもののうち、モデルが真と判断した割合。\n",
        "# 見逃しをなくしたいときに使われる。\n",
        "# 別名真陽性率。\n",
        "recall_per_class = cm.diagonal() / cm.sum(axis=1)\n",
        "val_recall_per_class = val_cm.diagonal() / val_cm.sum(axis=1)\n",
        "print(\"再現率：\", recall_per_class)\n",
        "print(val_recall_per_class)\n",
        "# 適合率：モデルが真と判断し、実際に真だった割合。猫と判断し、実際に猫だった割合。\n",
        "# 誤検出をなくしたいときに使われる。\n",
        "precision_per_class = cm.diagonal() / cm.sum(axis=0)\n",
        "val_precision_per_class = val_cm.diagonal() / val_cm.sum(axis=0)\n",
        "print(precision_per_class)\n",
        "print(val_precision_per_class)\n",
        "# F1スコア：適合率と再現率の調和平均。\n",
        "f1_per_class = 2 * (precision_per_class * recall_per_class) / (precision_per_class + recall_per_class)\n",
        "val_f1_per_class = 2 * (val_precision_per_class * val_recall_per_class) / (val_precision_per_class + val_recall_per_class)\n",
        "print(f1_per_class)\n",
        "print(val_f1_per_class)\n",
        "# 偽陽性率：実際に偽だったったもののうち、モデルが間違えて真と判断した割合。"
      ],
      "metadata": {
        "id": "lM3WOgCYAQl8",
        "colab": {
          "base_uri": "https://localhost:8080/"
        },
        "outputId": "2449de10-9522-4366-915f-f4b56f899128"
      },
      "execution_count": 42,
      "outputs": [
        {
          "output_type": "stream",
          "name": "stdout",
          "text": [
            "tensor(0.7898)\n",
            "tensor(0.7851)\n",
            "[[4077   70  232   87   70   25   27   43  245  124]\n",
            " [  96 4415   21   28   10   19   30   10   92  279]\n",
            " [ 275   22 3561  254  267  229  206  106   53   27]\n",
            " [  88   25  252 3231  226  700  248  125   54   51]\n",
            " [ 101    7  289  241 3835  116  146  213   30   22]\n",
            " [  25   11  232  816  194 3392  101  183   17   29]\n",
            " [  29   22  215  261  158   90 4165   17   21   22]\n",
            " [  49   13  143  205  217  183   21 4112   19   38]\n",
            " [ 229   97   53   55   26   11   18    8 4390  113]\n",
            " [ 110  268   35   62   19   28   21   41  103 4313]]\n",
            "[[818  11  43  17  12   3   8  12  49  27]\n",
            " [ 19 887   1   3   2   3   4   6  21  54]\n",
            " [ 54   4 693  40  60  52  52  26   9  10]\n",
            " [ 22   4  61 601  50 157  48  33  12  12]\n",
            " [ 20   2  48  45 771  27  26  46  13   2]\n",
            " [ 12   3  31 141  42 699  20  44   5   3]\n",
            " [  6   2  48  57  26  18 830   4   7   2]\n",
            " [ 12   1  27  29  52  43   2 823   5   6]\n",
            " [ 51  24   8   6   5   3   2   3 877  21]\n",
            " [ 33  68   6   8   2   5   1   7  17 853]]\n",
            "再現率： [0.8154 0.883  0.7122 0.6462 0.767  0.6784 0.833  0.8224 0.878  0.8626]\n",
            "[0.818 0.887 0.693 0.601 0.771 0.699 0.83  0.823 0.877 0.853]\n",
            "[0.80271707 0.89191919 0.7075303  0.61660305 0.76363998 0.70769873\n",
            " 0.83584186 0.84643886 0.87380573 0.85950578]\n",
            "[0.78127985 0.88170974 0.7173913  0.63463569 0.75440313 0.69207921\n",
            " 0.83585096 0.81972112 0.86403941 0.86161616]\n",
            "[0.80900883 0.88743719 0.70985747 0.63105469 0.7653163  0.69273971\n",
            " 0.83441851 0.8342463  0.87589785 0.86105011]\n",
            "[0.79921837 0.88434696 0.70498474 0.61736004 0.76261128 0.69552239\n",
            " 0.8329152  0.82135729 0.87047146 0.85728643]\n"
          ]
        }
      ]
    },
    {
      "cell_type": "code",
      "source": [
        "plt.style.use(\"ggplot\")\n",
        "\n",
        "fig, axes = plt.subplots(1, 2, figsize=(12, 5))  # 1行2列のサブプロット\n",
        "\n",
        "# 左のグラフ(損失)\n",
        "axes[0].plot(losses, label=\"train loss\")\n",
        "axes[0].plot(val_losses, label=\"val loss\")\n",
        "axes[0].legend()\n",
        "axes[0].set_title(\"Loss\")\n",
        "\n",
        "# 右のグラフ(精度)\n",
        "axes[1].plot(accs, label=\"train acc\")\n",
        "axes[1].plot(val_accs, label=\"val acc\")\n",
        "axes[1].legend()\n",
        "axes[1].set_title(\"Accuracy\")\n",
        "\n",
        "plt.show()"
      ],
      "metadata": {
        "id": "D_4csbKOMrl6"
      },
      "execution_count": null,
      "outputs": []
    },
    {
      "cell_type": "code",
      "source": [
        "print(accs)\n",
        "print(val_accs)"
      ],
      "metadata": {
        "id": "LVpdFF4MdP1c"
      },
      "execution_count": null,
      "outputs": []
    },
    {
      "cell_type": "code",
      "source": [
        "# y_val_true はラベル（0 or 1）を含むリスト\n",
        "y_val_true = torch.tensor(y_val_true)\n",
        "\n",
        "# val_output に softmax を適用\n",
        "val_output_tensor = torch.cat([model(val_imgs.to(device)) for val_imgs, _ in validation_dataloader])\n",
        "val_prob_pred = torch.softmax(val_output_tensor, dim=1)\n",
        "\n",
        "# クラス0の確率値を取得\n",
        "prob = val_prob_pred[:, 0].cpu().detach().numpy()\n",
        "\n",
        "# 0/1 ラベルの取得\n",
        "one_zero_labels = torch.where(y_val_true == 0, 1, 0).cpu().detach().numpy()\n",
        "\n",
        "# ROC曲線の計算\n",
        "fpr, tpr, thresholds = roc_curve(one_zero_labels, prob)\n",
        "\n",
        "# グラフ描画\n",
        "plt.plot(fpr, tpr, marker='o')\n",
        "plt.xlabel('FPR: False Positive Rate')\n",
        "plt.ylabel('TPR: True Positive Rate')\n",
        "plt.grid()\n",
        "plt.show()\n"
      ],
      "metadata": {
        "id": "AxhvjPiIWYJs"
      },
      "execution_count": null,
      "outputs": []
    },
    {
      "cell_type": "code",
      "source": [
        "def make_roc_curve():\n",
        "    fig, axes = plt.subplots(5, 2, figsize=(12, 25))  # 5行2列のサブプロット\n",
        "\n",
        "    for n in range(10):\n",
        "\n",
        "        # クラス0の確率値を取得\n",
        "        prob = val_prob_pred[:, n].cpu().detach().numpy()\n",
        "\n",
        "        # 0/1 ラベルの取得\n",
        "        one_zero_labels = torch.where(y_val_true == n, 1, 0).cpu().detach().numpy()\n",
        "\n",
        "        # ROC曲線の計算\n",
        "        fpr, tpr, thresholds = roc_curve(one_zero_labels, prob)\n",
        "\n",
        "        # auc算出\n",
        "        auc_score = roc_auc_score(one_zero_labels, prob)\n",
        "        print(f\"ROC AUC Score: {auc_score:.4f}\")\n",
        "\n",
        "        # 行インデックスと列インデックスの計算\n",
        "        row_idx = n // 2  # 行インデックス\n",
        "        col_idx = n % 2   # 列インデックス\n",
        "\n",
        "        # グラフ描画\n",
        "        axes[row_idx, col_idx].plot(fpr, tpr, marker='o', color='b', label=\"ROC Curve\")\n",
        "        axes[row_idx, col_idx].set_xlabel('FPR: False Positive Rate')\n",
        "        axes[row_idx, col_idx].set_ylabel('TPR: True Positive Rate')\n",
        "        axes[row_idx, col_idx].set_title(f'ROC Curve - Class {n}')\n",
        "        axes[row_idx, col_idx].legend()\n",
        "        axes[row_idx, col_idx].grid()\n",
        "    plt.tight_layout()\n",
        "    plt.show()\n",
        "\n",
        "make_roc_curve()"
      ],
      "metadata": {
        "id": "2m-pObP9aZO8"
      },
      "execution_count": null,
      "outputs": []
    }
  ]
}