{
  "nbformat": 4,
  "nbformat_minor": 0,
  "metadata": {
    "colab": {
      "provenance": [],
      "gpuType": "T4",
      "authorship_tag": "ABX9TyP/qtKz9v4GGUaXpVbbPhK4",
      "include_colab_link": true
    },
    "kernelspec": {
      "name": "python3",
      "display_name": "Python 3"
    },
    "language_info": {
      "name": "python"
    },
    "accelerator": "GPU"
  },
  "cells": [
    {
      "cell_type": "markdown",
      "metadata": {
        "id": "view-in-github",
        "colab_type": "text"
      },
      "source": [
        "<a href=\"https://colab.research.google.com/github/Pakeith0805/SparkPlus_Assignment/blob/main/Assignment.ipynb\" target=\"_parent\"><img src=\"https://colab.research.google.com/assets/colab-badge.svg\" alt=\"Open In Colab\"/></a>"
      ]
    },
    {
      "cell_type": "markdown",
      "source": [
        "SparkPlusの採用課題です。"
      ],
      "metadata": {
        "id": "6dfeyUvCHFcz"
      }
    },
    {
      "cell_type": "markdown",
      "source": [
        "- ラベル「0」： airplane（飛行機）\n",
        "- ラベル「1」： automobile（自動車）\n",
        "- ラベル「2」： bird（鳥）\n",
        "- ラベル「3」： cat（猫）\n",
        "- ラベル「4」： deer（鹿）\n",
        "- ラベル「5」： dog（犬）\n",
        "- ラベル「6」： frog（カエル）\n",
        "- ラベル「7」： horse（馬）\n",
        "- ラベル「8」： ship（船）\n",
        "- ラベル「9」： truck（トラック）"
      ],
      "metadata": {
        "id": "debBDGXqOUv4"
      }
    },
    {
      "cell_type": "markdown",
      "source": [
        "# 前処理"
      ],
      "metadata": {
        "id": "20eUgU1WMCAn"
      }
    },
    {
      "cell_type": "code",
      "execution_count": 32,
      "metadata": {
        "id": "-2CIgzsAHEk-"
      },
      "outputs": [],
      "source": [
        "import torch\n",
        "import torchvision\n",
        "import torch.nn as nn\n",
        "import torch.optim as optim\n",
        "import numpy as np\n",
        "from torchvision import datasets, transforms\n",
        "import matplotlib.pyplot as plt\n",
        "from torch.utils.data import DataLoader\n",
        "from sklearn.metrics import confusion_matrix\n",
        "from sklearn.metrics import roc_curve"
      ]
    },
    {
      "cell_type": "code",
      "source": [
        "# ちゃんとgpuになってるか確認。\n",
        "device = \"cuda\" if torch.cuda.is_available() else \"cpu\"\n",
        "print(device)"
      ],
      "metadata": {
        "id": "0SJ8VDWDMELh",
        "outputId": "f04bd728-4272-420c-8cfc-41128ad38c44",
        "colab": {
          "base_uri": "https://localhost:8080/"
        }
      },
      "execution_count": 33,
      "outputs": [
        {
          "output_type": "stream",
          "name": "stdout",
          "text": [
            "cuda\n"
          ]
        }
      ]
    },
    {
      "cell_type": "code",
      "source": [
        "# 前処理をまとめる\n",
        "transform = transforms.Compose([\n",
        "    transforms.ToTensor(), # 画像をTensorクラスに変えて、チャネルファーストに変えてくれる。\n",
        "    transforms.Normalize((0.5,), (0.5,)) # 平均、標準偏差を0.5に\n",
        "])\n",
        "\n",
        "# 訓練用データセットと検証用データセットを作成\n",
        "train_dataset = datasets.CIFAR10(root=\"./data\", train=True, download=True, transform=transform)\n",
        "vilidation_dataset = datasets.CIFAR10(root=\"./data\", train=False, download=True, transform=transform)"
      ],
      "metadata": {
        "id": "E-z-alzMMHNH"
      },
      "execution_count": 34,
      "outputs": []
    },
    {
      "cell_type": "code",
      "source": [
        "# データを作る。\n",
        "train_dataloader = DataLoader(train_dataset, batch_size=32, shuffle=True)\n",
        "validation_dataloader = DataLoader(vilidation_dataset, batch_size=32, shuffle=False)"
      ],
      "metadata": {
        "id": "IykEj-ScMKaR"
      },
      "execution_count": 35,
      "outputs": []
    },
    {
      "cell_type": "code",
      "source": [
        "# CNNを実装。\n",
        "class CNN(nn.Module):\n",
        "    def __init__(self, num_classes):\n",
        "        super().__init__()\n",
        "        self.features = nn.Sequential(\n",
        "            nn.Conv2d(in_channels=3, out_channels=64, kernel_size=5, padding=2), # RGBなのでin_channelsは3、畳み込むたびに2ずつ画像が小さくなるため、2補う。\n",
        "            nn.ReLU(inplace=True),\n",
        "            nn.MaxPool2d(kernel_size=2), # 32×32の画像が16×16になる。\n",
        "            nn.Conv2d(in_channels=64, out_channels=128, kernel_size=3, padding=1), # RGBなのでin_channelsは3、畳み込むたびに2ずつ画像が小さくなるため、2補う。\n",
        "            nn.ReLU(inplace=True),\n",
        "            nn.MaxPool2d(kernel_size=2), # 16×16の画像が8×8になる。\n",
        "            nn.Conv2d(in_channels=128, out_channels=256, kernel_size=3, padding=1), # RGBなのでin_channelsは3、畳み込むたびに2ずつ画像が小さくなるため、2補う。\n",
        "            nn.ReLU(inplace=True),\n",
        "            nn.MaxPool2d(kernel_size=2), # 8×8の画像が4×4になる。\n",
        "            nn.Conv2d(in_channels=256, out_channels=128, kernel_size=3, padding=1), # RGBなのでin_channelsは3、畳み込むたびに2ずつ画像が小さくなるため、2補う。\n",
        "            nn.ReLU(inplace=True),\n",
        "        )\n",
        "        self.classifier = nn.Linear(in_features=4 * 4 * 128, out_features=num_classes) # in_featuresには1次元ベクトルにして渡す。4×4が128個ある。out_featuresは何個に分類するか。\n",
        "    def forward(self, x):\n",
        "        x = self.features(x)\n",
        "        x = x.view(x.size(0), -1) # x.size(0)はバッチ数を表す。(32, 4×4×128)という形になる。\n",
        "        x = self.classifier(x)\n",
        "        return x"
      ],
      "metadata": {
        "id": "Cln6z02oMTDh"
      },
      "execution_count": 36,
      "outputs": []
    },
    {
      "cell_type": "code",
      "source": [
        "# modelを作成\n",
        "model = CNN(10) # 10はクラス数\n",
        "model.to(device)"
      ],
      "metadata": {
        "id": "eRt1NnShMgL5",
        "outputId": "5fe20adb-3d68-4268-9114-1a78c35cb361",
        "colab": {
          "base_uri": "https://localhost:8080/"
        }
      },
      "execution_count": 37,
      "outputs": [
        {
          "output_type": "execute_result",
          "data": {
            "text/plain": [
              "CNN(\n",
              "  (features): Sequential(\n",
              "    (0): Conv2d(3, 64, kernel_size=(5, 5), stride=(1, 1), padding=(2, 2))\n",
              "    (1): ReLU(inplace=True)\n",
              "    (2): MaxPool2d(kernel_size=2, stride=2, padding=0, dilation=1, ceil_mode=False)\n",
              "    (3): Conv2d(64, 128, kernel_size=(3, 3), stride=(1, 1), padding=(1, 1))\n",
              "    (4): ReLU(inplace=True)\n",
              "    (5): MaxPool2d(kernel_size=2, stride=2, padding=0, dilation=1, ceil_mode=False)\n",
              "    (6): Conv2d(128, 256, kernel_size=(3, 3), stride=(1, 1), padding=(1, 1))\n",
              "    (7): ReLU(inplace=True)\n",
              "    (8): MaxPool2d(kernel_size=2, stride=2, padding=0, dilation=1, ceil_mode=False)\n",
              "    (9): Conv2d(256, 128, kernel_size=(3, 3), stride=(1, 1), padding=(1, 1))\n",
              "    (10): ReLU(inplace=True)\n",
              "  )\n",
              "  (classifier): Linear(in_features=2048, out_features=10, bias=True)\n",
              ")"
            ]
          },
          "metadata": {},
          "execution_count": 37
        }
      ]
    },
    {
      "cell_type": "code",
      "source": [
        "# 損失関数とoptimizerを設定\n",
        "criterion = nn.CrossEntropyLoss()\n",
        "optimizer = optim.Adam(model.parameters(), lr=0.001, weight_decay=5e-4) # weight_decayで重みづけが大きくなりすぎないようにしている。"
      ],
      "metadata": {
        "id": "Y2kUUxzqMix6"
      },
      "execution_count": 38,
      "outputs": []
    },
    {
      "cell_type": "code",
      "source": [
        "# 学習のループ\n",
        "num_epochs = 15\n",
        "losses = []\n",
        "accs = []\n",
        "val_losses = []\n",
        "val_accs = []\n",
        "for epoch in range(num_epochs):\n",
        "    running_loss = 0.0\n",
        "    running_acc = 0.0\n",
        "    y_true = []  # 正解ラベルを保存\n",
        "    y_pred = []  # 予測ラベルを保存\n",
        "    for imgs, labels, in train_dataloader:\n",
        "        imgs = imgs.to(device)\n",
        "        labels = labels.to(device)\n",
        "        optimizer.zero_grad() # 勾配の初期化\n",
        "        output = model(imgs)\n",
        "        loss = criterion(output, labels)\n",
        "        loss.backward()\n",
        "        running_loss += loss.item()\n",
        "        pred = torch.argmax(output, dim=1)\n",
        "        prob_pred = torch.softmax(output, dim=1)\n",
        "        running_acc += torch.mean(pred.eq(labels).float())\n",
        "        optimizer.step()\n",
        "        y_true.extend(labels.cpu().numpy())  # GPU->CPU\n",
        "        y_pred.extend(pred.cpu().numpy())  # GPU->CPU\n",
        "    running_loss /= len(train_dataloader)\n",
        "    running_acc /= len(train_dataloader)\n",
        "    losses.append(running_loss)\n",
        "    #accs.append(running_acc)\n",
        "    accs.append(running_acc.cpu())\n",
        "#\n",
        "# validationのループ\n",
        "#\n",
        "    val_running_loss = 0.0\n",
        "    val_running_acc = 0.0\n",
        "    y_val_true = []  # 正解ラベルを保存\n",
        "    y_val_pred = []  # 予測ラベルを保存\n",
        "    for val_imgs, val_labels in validation_dataloader:\n",
        "        val_imgs = val_imgs.to(device)\n",
        "        val_labels = val_labels.to(device)\n",
        "        val_output = model(val_imgs)\n",
        "        val_loss = criterion(val_output, val_labels)\n",
        "        val_running_loss += val_loss.item()\n",
        "        val_pred = torch.argmax(val_output, dim=1)\n",
        "        val_running_acc += torch.mean(val_pred.eq(val_labels).float())\n",
        "        # ラベルを保存\n",
        "        y_val_true.extend(val_labels.cpu().numpy())  # GPU->CPU\n",
        "        y_val_pred.extend(val_pred.cpu().numpy())  # GPU->CPU\n",
        "\n",
        "    val_running_loss /= len(validation_dataloader)\n",
        "    val_running_acc /= len(validation_dataloader)\n",
        "    val_losses.append(val_running_loss)\n",
        "    #val_accs.append(val_running_acc)\n",
        "    val_accs.append(val_running_acc.cpu())\n",
        "    print(\"epoch: {}, loss: {}, acc: {}, \\\n",
        "     val loss: {}, val acc: {}\".format(epoch, running_loss, running_acc, val_running_loss, val_running_acc))"
      ],
      "metadata": {
        "id": "5au2nWCYMoYO",
        "outputId": "326b637e-8f89-4026-c700-bbd8eb797b59",
        "colab": {
          "base_uri": "https://localhost:8080/"
        }
      },
      "execution_count": 39,
      "outputs": [
        {
          "output_type": "stream",
          "name": "stdout",
          "text": [
            "epoch: 0, loss: 1.3485005537211248, acc: 0.5114163756370544,      val loss: 1.009759777079756, val acc: 0.6441693305969238\n",
            "epoch: 1, loss: 0.8828738178492965, acc: 0.6909589171409607,      val loss: 0.8224534072434179, val acc: 0.7102635502815247\n",
            "epoch: 2, loss: 0.7147155384070127, acc: 0.7518793940544128,      val loss: 0.7548053405536249, val acc: 0.7386181950569153\n",
            "epoch: 3, loss: 0.6110017237778436, acc: 0.7885276675224304,      val loss: 0.6992752917658407, val acc: 0.7585862278938293\n",
            "epoch: 4, loss: 0.5320601835703895, acc: 0.8155789971351624,      val loss: 0.6994947950108744, val acc: 0.7560902237892151\n",
            "epoch: 5, loss: 0.471999186776955, acc: 0.8361524343490601,      val loss: 0.7008004169018505, val acc: 0.7611820697784424\n",
            "epoch: 6, loss: 0.41574244860914833, acc: 0.8543066382408142,      val loss: 0.824392875829063, val acc: 0.7487020492553711\n",
            "epoch: 7, loss: 0.3719902101472754, acc: 0.8697016835212708,      val loss: 0.737477565249696, val acc: 0.7697683572769165\n",
            "epoch: 8, loss: 0.3347117381881844, acc: 0.8825775980949402,      val loss: 0.7240224763417777, val acc: 0.7743610143661499\n",
            "epoch: 9, loss: 0.30576683319413883, acc: 0.892994225025177,      val loss: 0.7642888810497503, val acc: 0.7742611765861511\n",
            "epoch: 10, loss: 0.28281523115809004, acc: 0.9002718925476074,      val loss: 0.7592238771934479, val acc: 0.778654158115387\n",
            "epoch: 11, loss: 0.2610679386435071, acc: 0.9069097638130188,      val loss: 0.8159592232098595, val acc: 0.7693690061569214\n",
            "epoch: 12, loss: 0.254849630420502, acc: 0.9093090295791626,      val loss: 0.8780268722068006, val acc: 0.7544928193092346\n",
            "epoch: 13, loss: 0.23256477113677307, acc: 0.917986273765564,      val loss: 0.8802333367518342, val acc: 0.7628793716430664\n",
            "epoch: 14, loss: 0.2261115433106, acc: 0.9198856353759766,      val loss: 0.8692709180874566, val acc: 0.7619808316230774\n"
          ]
        }
      ]
    },
    {
      "cell_type": "code",
      "source": [
        "labels"
      ],
      "metadata": {
        "id": "GcWe5uJl_OwK",
        "outputId": "9f9e1643-9af7-42c7-97fe-11976366d8b7",
        "colab": {
          "base_uri": "https://localhost:8080/"
        }
      },
      "execution_count": 40,
      "outputs": [
        {
          "output_type": "execute_result",
          "data": {
            "text/plain": [
              "tensor([9, 3, 4, 0, 5, 2, 0, 0, 0, 4, 8, 9, 5, 3, 0, 2], device='cuda:0')"
            ]
          },
          "metadata": {},
          "execution_count": 40
        }
      ]
    },
    {
      "cell_type": "code",
      "source": [
        "one_zero_labels = torch.where(labels == 0, 1, 0)\n",
        "print(one_zero_labels)"
      ],
      "metadata": {
        "id": "3blnP_b3n2pR",
        "outputId": "3b9ef708-2e1b-4077-d33a-909cea90c970",
        "colab": {
          "base_uri": "https://localhost:8080/"
        }
      },
      "execution_count": 41,
      "outputs": [
        {
          "output_type": "stream",
          "name": "stdout",
          "text": [
            "tensor([0, 0, 0, 1, 0, 0, 1, 1, 1, 0, 0, 0, 0, 0, 1, 0], device='cuda:0')\n"
          ]
        }
      ]
    },
    {
      "cell_type": "code",
      "source": [
        "prob = prob_pred[:, 0]"
      ],
      "metadata": {
        "id": "LfChzmc_OGeF"
      },
      "execution_count": 42,
      "outputs": []
    },
    {
      "cell_type": "code",
      "source": [
        "prob\n",
        "# probはラベル0の確率。これ使ってroc曲線かける"
      ],
      "metadata": {
        "id": "t9JZTA2mO3Xw",
        "outputId": "374ae81f-61ef-49d5-fa81-6eec6b5ab829",
        "colab": {
          "base_uri": "https://localhost:8080/"
        }
      },
      "execution_count": 43,
      "outputs": [
        {
          "output_type": "execute_result",
          "data": {
            "text/plain": [
              "tensor([4.4419e-06, 2.5244e-09, 1.1077e-09, 6.1673e-01, 1.1177e-04, 6.3946e-04,\n",
              "        9.9897e-01, 9.9999e-01, 8.0616e-01, 2.0704e-08, 3.4089e-05, 1.1747e-03,\n",
              "        1.9327e-10, 2.2777e-05, 9.1020e-01, 2.7049e-02], device='cuda:0',\n",
              "       grad_fn=<SelectBackward0>)"
            ]
          },
          "metadata": {},
          "execution_count": 43
        }
      ]
    },
    {
      "cell_type": "code",
      "source": [
        "roc = roc_curve(one_zero_labels.cpu().detach().numpy(), prob.cpu().detach().numpy())"
      ],
      "metadata": {
        "id": "dHz0nE1Vpqn8"
      },
      "execution_count": 44,
      "outputs": []
    },
    {
      "cell_type": "code",
      "source": [
        "fpr, tpr, thresholds = roc\n",
        "\n",
        "print(fpr)\n",
        "# [0.   0.   0.25 0.25 0.5  0.5  1.  ]\n",
        "\n",
        "print(tpr)\n",
        "# [0.   0.25 0.25 0.5  0.5  1.   1.  ]\n",
        "\n",
        "print(thresholds)\n",
        "# [1.9 0.9 0.8 0.7 0.6 0.4 0.2]"
      ],
      "metadata": {
        "id": "6XQjwALgq5Hi",
        "outputId": "1b79c365-a90c-4c89-ce71-f64ee3752a67",
        "colab": {
          "base_uri": "https://localhost:8080/"
        }
      },
      "execution_count": 45,
      "outputs": [
        {
          "output_type": "stream",
          "name": "stdout",
          "text": [
            "[0. 0. 0. 1.]\n",
            "[0.  0.2 1.  1. ]\n",
            "[          inf 9.9999392e-01 6.1673051e-01 1.9326861e-10]\n"
          ]
        }
      ]
    },
    {
      "cell_type": "code",
      "source": [
        "plt.plot(fpr, tpr, marker='o')\n",
        "plt.xlabel('FPR: False positive rate')\n",
        "plt.ylabel('TPR: True positive rate')\n",
        "plt.grid()"
      ],
      "metadata": {
        "id": "cPb_LcAOrMo5",
        "outputId": "474009b5-8e03-4b33-c7ca-aa145656d762",
        "colab": {
          "base_uri": "https://localhost:8080/",
          "height": 453
        }
      },
      "execution_count": 46,
      "outputs": [
        {
          "output_type": "display_data",
          "data": {
            "text/plain": [
              "<Figure size 640x480 with 1 Axes>"
            ],
            "image/png": "[encoded data removed]"
          },
          "metadata": {}
        }
      ]
    },
    {
      "cell_type": "markdown",
      "source": [
        "# 評価項目"
      ],
      "metadata": {
        "id": "hAlBZVRR_1TB"
      }
    },
    {
      "cell_type": "code",
      "source": [
        "# 正解率\n",
        "print(accs[-1].cpu())\n",
        "print(val_accs[-1].cpu())\n",
        "# 混同行列\n",
        "cm=confusion_matrix(y_true, y_pred)\n",
        "val_cm=confusion_matrix(y_val_true, y_val_pred)\n",
        "print(cm)\n",
        "print(val_cm)\n",
        "# 再現率：実際に真だったもののうち、モデルが真と判断した割合。\n",
        "# 見逃しをなくしたいときに使われる。\n",
        "# 別名真陽性率。\n",
        "recall_per_class = cm.diagonal() / cm.sum(axis=1)\n",
        "val_recall_per_class = val_cm.diagonal() / val_cm.sum(axis=1)\n",
        "print(recall_per_class)\n",
        "print(val_recall_per_class)\n",
        "# 適合率：モデルが真と判断し、実際に真だった割合。猫と判断し、実際に猫だった割合。\n",
        "# 誤検出をなくしたいときに使われる。\n",
        "precision_per_class = cm.diagonal() / cm.sum(axis=0)\n",
        "val_precision_per_class = val_cm.diagonal() / val_cm.sum(axis=0)\n",
        "print(precision_per_class)\n",
        "print(val_precision_per_class)\n",
        "# F1スコア：適合率と再現率の調和平均。\n",
        "f1_per_class = 2 * (precision_per_class * recall_per_class) / (precision_per_class + recall_per_class)\n",
        "val_f1_per_class = 2 * (val_precision_per_class * val_recall_per_class) / (val_precision_per_class + val_recall_per_class)\n",
        "print(f1_per_class)\n",
        "print(val_f1_per_class)\n",
        "# 偽陽性率：実際に偽だったったもののうち、モデルが間違えて真と判断した割合。"
      ],
      "metadata": {
        "id": "lM3WOgCYAQl8",
        "outputId": "02f069bd-1da4-4e28-d92a-512c5baa4449",
        "colab": {
          "base_uri": "https://localhost:8080/"
        }
      },
      "execution_count": 47,
      "outputs": [
        {
          "output_type": "stream",
          "name": "stdout",
          "text": [
            "tensor(0.9199)\n",
            "tensor(0.7620)\n",
            "[[4631   23   90   29   40   21   11   18   89   48]\n",
            " [  21 4797   10    9    4    6   11    2   30  110]\n",
            " [ 107    8 4445  106  115   68   81   41   18   11]\n",
            " [  36    3  113 4286  102  252  108   64   22   14]\n",
            " [  32    1  107  100 4552   59   48   83   10    8]\n",
            " [  16    9   81  277   73 4420   37   73    6    8]\n",
            " [  14    9   78   98   51   41 4679    9   12    9]\n",
            " [  19    5   41   50   84   72   10 4700    9   10]\n",
            " [  86   28   14   29   15    6    9   11 4756   46]\n",
            " [  46  109   11   18    5   14    9   18   42 4728]]\n",
            "[[689  10  93  40  30   5  12  14  51  56]\n",
            " [  8 819   3   8   4   4   8   1  25 120]\n",
            " [ 27   0 664  80  63  57  72  23   5   9]\n",
            " [  8   3  35 678  56 126  49  30   7   8]\n",
            " [  4   2  56  72 740  25  43  51   4   3]\n",
            " [  3   2  36 181  48 663  22  33   2  10]\n",
            " [  1   0  24  91  28  11 834   5   2   4]\n",
            " [  7   2  28  58  53  52  14 772   3  11]\n",
            " [ 23  16  16  23   9   4   4   3 870  32]\n",
            " [ 11  39  10  16   3   5   3   2  21 890]]\n",
            "[0.9262 0.9594 0.889  0.8572 0.9104 0.884  0.9358 0.94   0.9512 0.9456]\n",
            "[0.689 0.819 0.664 0.678 0.74  0.663 0.834 0.772 0.87  0.89 ]\n",
            "[0.92472045 0.9609375  0.89078156 0.85685726 0.90299544 0.89130873\n",
            " 0.93523886 0.93644152 0.95234281 0.94711538]\n",
            "[0.8822023  0.91713326 0.6880829  0.54370489 0.71566731 0.69642857\n",
            " 0.7860509  0.82655246 0.87878788 0.77865267]\n",
            "[0.92545963 0.96016813 0.88988989 0.85702859 0.9066826  0.88763932\n",
            " 0.93551934 0.93821739 0.95177106 0.94635709]\n",
            "[0.77372263 0.86529319 0.67582697 0.6034713  0.72763029 0.67930328\n",
            " 0.80931587 0.7983454  0.87437186 0.83061129]\n"
          ]
        }
      ]
    },
    {
      "cell_type": "code",
      "source": [
        "plt.style.use(\"ggplot\")\n",
        "\n",
        "fig, axes = plt.subplots(1, 2, figsize=(12, 5))  # 1行2列のサブプロット\n",
        "\n",
        "# 左のグラフ(損失)\n",
        "axes[0].plot(losses, label=\"train loss\")\n",
        "axes[0].plot(val_losses, label=\"val loss\")\n",
        "axes[0].legend()\n",
        "axes[0].set_title(\"Loss\")\n",
        "\n",
        "# 右のグラフ(精度)\n",
        "axes[1].plot(accs, label=\"train acc\")\n",
        "axes[1].plot(val_accs, label=\"val acc\")\n",
        "axes[1].legend()\n",
        "axes[1].set_title(\"Accuracy\")\n",
        "\n",
        "plt.show()"
      ],
      "metadata": {
        "id": "D_4csbKOMrl6",
        "outputId": "c797f9ce-0c44-4da7-ac60-398d0b045fb4",
        "colab": {
          "base_uri": "https://localhost:8080/",
          "height": 307
        }
      },
      "execution_count": 48,
      "outputs": [
        {
          "output_type": "display_data",
          "data": {
            "text/plain": [
              "<Figure size 1200x500 with 2 Axes>"
            ],
            "image/png": "[encoded data removed]"
          },
          "metadata": {}
        }
      ]
    },
    {
      "cell_type": "code",
      "source": [
        "print(accs)\n",
        "print(val_accs)"
      ],
      "metadata": {
        "id": "LVpdFF4MdP1c",
        "outputId": "39442cb7-f4f7-4705-f5dd-4a55f97b1dac",
        "colab": {
          "base_uri": "https://localhost:8080/"
        }
      },
      "execution_count": 49,
      "outputs": [
        {
          "output_type": "stream",
          "name": "stdout",
          "text": [
            "[tensor(0.5114), tensor(0.6910), tensor(0.7519), tensor(0.7885), tensor(0.8156), tensor(0.8362), tensor(0.8543), tensor(0.8697), tensor(0.8826), tensor(0.8930), tensor(0.9003), tensor(0.9069), tensor(0.9093), tensor(0.9180), tensor(0.9199)]\n",
            "[tensor(0.6442), tensor(0.7103), tensor(0.7386), tensor(0.7586), tensor(0.7561), tensor(0.7612), tensor(0.7487), tensor(0.7698), tensor(0.7744), tensor(0.7743), tensor(0.7787), tensor(0.7694), tensor(0.7545), tensor(0.7629), tensor(0.7620)]\n"
          ]
        }
      ]
    }
  ]
}