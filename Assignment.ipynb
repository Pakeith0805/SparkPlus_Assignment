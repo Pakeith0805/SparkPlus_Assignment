{
  "nbformat": 4,
  "nbformat_minor": 0,
  "metadata": {
    "colab": {
      "provenance": [],
      "gpuType": "T4",
      "authorship_tag": "ABX9TyM6EIyQV91Fa2Bw9U2g1pv2",
      "include_colab_link": true
    },
    "kernelspec": {
      "name": "python3",
      "display_name": "Python 3"
    },
    "language_info": {
      "name": "python"
    },
    "accelerator": "GPU"
  },
  "cells": [
    {
      "cell_type": "markdown",
      "metadata": {
        "id": "view-in-github",
        "colab_type": "text"
      },
      "source": [
        "<a href=\"https://colab.research.google.com/github/Pakeith0805/SparkPlus_Assignment/blob/staging/Assignment.ipynb\" target=\"_parent\"><img src=\"https://colab.research.google.com/assets/colab-badge.svg\" alt=\"Open In Colab\"/></a>"
      ]
    },
    {
      "cell_type": "markdown",
      "source": [
        "SparkPlusの採用課題です。"
      ],
      "metadata": {
        "id": "6dfeyUvCHFcz"
      }
    },
    {
      "cell_type": "markdown",
      "source": [
        "- ラベル「0」： airplane（飛行機）\n",
        "- ラベル「1」： automobile（自動車）\n",
        "- ラベル「2」： bird（鳥）\n",
        "- ラベル「3」： cat（猫）\n",
        "- ラベル「4」： deer（鹿）\n",
        "- ラベル「5」： dog（犬）\n",
        "- ラベル「6」： frog（カエル）\n",
        "- ラベル「7」： horse（馬）\n",
        "- ラベル「8」： ship（船）\n",
        "- ラベル「9」： truck（トラック）"
      ],
      "metadata": {
        "id": "debBDGXqOUv4"
      }
    },
    {
      "cell_type": "markdown",
      "source": [
        "# 前処理"
      ],
      "metadata": {
        "id": "20eUgU1WMCAn"
      }
    },
    {
      "cell_type": "code",
      "execution_count": 32,
      "metadata": {
        "id": "-2CIgzsAHEk-"
      },
      "outputs": [],
      "source": [
        "import torch\n",
        "import torchvision\n",
        "import torch.nn as nn\n",
        "import torch.optim as optim\n",
        "import numpy as np\n",
        "from torchvision import datasets, models, transforms\n",
        "import matplotlib.pyplot as plt\n",
        "from torch.utils.data import DataLoader\n",
        "from sklearn.metrics import confusion_matrix\n",
        "from sklearn.metrics import roc_curve\n",
        "from sklearn.metrics import roc_auc_score\n",
        "from torch.optim.lr_scheduler import CosineAnnealingLR, CosineAnnealingWarmRestarts"
      ]
    },
    {
      "cell_type": "code",
      "source": [
        "# ちゃんとgpuになってるか確認。\n",
        "device = \"cuda\" if torch.cuda.is_available() else \"cpu\"\n",
        "print(device)"
      ],
      "metadata": {
        "id": "0SJ8VDWDMELh",
        "outputId": "d31f50ff-f028-4cb6-fbf5-39c364fc533a",
        "colab": {
          "base_uri": "https://localhost:8080/"
        }
      },
      "execution_count": 33,
      "outputs": [
        {
          "output_type": "stream",
          "name": "stdout",
          "text": [
            "cuda\n"
          ]
        }
      ]
    },
    {
      "cell_type": "code",
      "source": [
        "# 前処理をまとめる\n",
        "train_transform = transforms.Compose([\n",
        "    transforms.RandomHorizontalFlip(), # ランダムに左右対称にする\n",
        "    transforms.ColorJitter(), # ランダムに色を変える。\n",
        "    transforms.RandomRotation(10),\n",
        "    transforms.ToTensor(), # 画像をTensorクラスに変えて、チャネルファーストに変えてくれる。\n",
        "    transforms.Normalize((0.5,), (0.5,)) # 平均、標準偏差を0.5に\n",
        "])\n",
        "\n",
        "val_transform = transforms.Compose([\n",
        "    transforms.ToTensor(),\n",
        "    transforms.Normalize((0.5,), (0.5,))\n",
        "])\n",
        "\n",
        "# 訓練用データセットと検証用データセットを作成\n",
        "train_dataset = datasets.CIFAR10(root=\"./data\", train=True, download=True, transform=train_transform)\n",
        "vilidation_dataset = datasets.CIFAR10(root=\"./data\", train=False, download=True, transform=val_transform)"
      ],
      "metadata": {
        "id": "E-z-alzMMHNH"
      },
      "execution_count": 34,
      "outputs": []
    },
    {
      "cell_type": "code",
      "source": [
        "# データを作る。\n",
        "train_dataloader = DataLoader(train_dataset, batch_size=32, shuffle=True)\n",
        "validation_dataloader = DataLoader(vilidation_dataset, batch_size=32, shuffle=False)"
      ],
      "metadata": {
        "id": "IykEj-ScMKaR"
      },
      "execution_count": 35,
      "outputs": []
    },
    {
      "cell_type": "code",
      "source": [
        "# CNNを実装。\n",
        "class CNN(nn.Module):\n",
        "    def __init__(self, num_classes):\n",
        "        super().__init__()\n",
        "        self.features = nn.Sequential(\n",
        "            nn.Conv2d(in_channels=3, out_channels=64, kernel_size=5, padding=2), # RGBなのでin_channelsは3、畳み込むたびに2ずつ画像が小さくなるため、2補う。\n",
        "            nn.ReLU(inplace=True),\n",
        "            nn.MaxPool2d(kernel_size=2), # 32×32の画像が16×16になる。\n",
        "            nn.Conv2d(in_channels=64, out_channels=128, kernel_size=3, padding=1), # RGBなのでin_channelsは3、畳み込むたびに2ずつ画像が小さくなるため、2補う。\n",
        "            nn.ReLU(inplace=True),\n",
        "            nn.MaxPool2d(kernel_size=2), # 16×16の画像が8×8になる。\n",
        "            nn.Conv2d(in_channels=128, out_channels=256, kernel_size=3, padding=1), # RGBなのでin_channelsは3、畳み込むたびに2ずつ画像が小さくなるため、2補う。\n",
        "            nn.ReLU(inplace=True),\n",
        "            nn.MaxPool2d(kernel_size=2), # 8×8の画像が4×4になる。\n",
        "            nn.Conv2d(in_channels=256, out_channels=128, kernel_size=3, padding=1), # RGBなのでin_channelsは3、畳み込むたびに2ずつ画像が小さくなるため、2補う。\n",
        "            nn.ReLU(inplace=True),\n",
        "        )\n",
        "        self.classifier = nn.Linear(in_features=4 * 4 * 128, out_features=num_classes) # in_featuresには1次元ベクトルにして渡す。4×4が128個ある。out_featuresは何個に分類するか。\n",
        "    def forward(self, x):\n",
        "        x = self.features(x)\n",
        "        x = x.view(x.size(0), -1) # x.size(0)はバッチ数を表す。(32, 4×4×128)という形になる。\n",
        "        x = self.classifier(x)\n",
        "        return x"
      ],
      "metadata": {
        "id": "Cln6z02oMTDh"
      },
      "execution_count": 36,
      "outputs": []
    },
    {
      "cell_type": "code",
      "source": [
        "# modelを作成\n",
        "model = CNN(10) # 10はクラス数\n",
        "model.to(device)"
      ],
      "metadata": {
        "id": "eRt1NnShMgL5",
        "outputId": "3f8e1b6d-6e36-458d-9275-195ac5874c10",
        "colab": {
          "base_uri": "https://localhost:8080/"
        }
      },
      "execution_count": 37,
      "outputs": [
        {
          "output_type": "execute_result",
          "data": {
            "text/plain": [
              "CNN(\n",
              "  (features): Sequential(\n",
              "    (0): Conv2d(3, 64, kernel_size=(5, 5), stride=(1, 1), padding=(2, 2))\n",
              "    (1): ReLU(inplace=True)\n",
              "    (2): MaxPool2d(kernel_size=2, stride=2, padding=0, dilation=1, ceil_mode=False)\n",
              "    (3): Conv2d(64, 128, kernel_size=(3, 3), stride=(1, 1), padding=(1, 1))\n",
              "    (4): ReLU(inplace=True)\n",
              "    (5): MaxPool2d(kernel_size=2, stride=2, padding=0, dilation=1, ceil_mode=False)\n",
              "    (6): Conv2d(128, 256, kernel_size=(3, 3), stride=(1, 1), padding=(1, 1))\n",
              "    (7): ReLU(inplace=True)\n",
              "    (8): MaxPool2d(kernel_size=2, stride=2, padding=0, dilation=1, ceil_mode=False)\n",
              "    (9): Conv2d(256, 128, kernel_size=(3, 3), stride=(1, 1), padding=(1, 1))\n",
              "    (10): ReLU(inplace=True)\n",
              "  )\n",
              "  (classifier): Linear(in_features=2048, out_features=10, bias=True)\n",
              ")"
            ]
          },
          "metadata": {},
          "execution_count": 37
        }
      ]
    },
    {
      "cell_type": "code",
      "source": [
        "class FocalLoss(nn.Module):\n",
        "    def __init__(self, alpha=1.0, gamma=2.0, reduction='mean'):\n",
        "        \"\"\"\n",
        "        Focal Lossの実装\n",
        "        :param alpha: バランスパラメータ（クラスの不均衡を考慮）\n",
        "        :param gamma: フォーカスパラメータ（誤分類されたサンプルに対する重み）\n",
        "        :param reduction: 'mean'（平均損失）または 'sum'（合計損失）\n",
        "        \"\"\"\n",
        "        super(FocalLoss, self).__init__()\n",
        "        self.alpha = alpha\n",
        "        self.gamma = gamma\n",
        "        self.reduction = reduction\n",
        "\n",
        "    def forward(self, inputs, targets):\n",
        "        \"\"\"\n",
        "        Focal Lossの計算\n",
        "        :param inputs: モデルの出力（確率またはlogits）\n",
        "        :param targets: 正解ラベル（one-hotでなく整数インデックス）\n",
        "        \"\"\"\n",
        "        ce_loss = F.cross_entropy(inputs, targets, reduction='none')\n",
        "        pt = torch.exp(-ce_loss)  # 確率 (1 - p_t)\n",
        "        focal_loss = self.alpha * (1 - pt) ** self.gamma * ce_loss\n",
        "\n",
        "        if self.reduction == 'mean':\n",
        "            return focal_loss.mean()\n",
        "        elif self.reduction == 'sum':\n",
        "            return focal_loss.sum()\n",
        "        else:\n",
        "            return focal_loss\n"
      ],
      "metadata": {
        "id": "uws1BJCdvV8n"
      },
      "execution_count": 38,
      "outputs": []
    },
    {
      "cell_type": "code",
      "source": [
        "# 損失関数とoptimizerを設定\n",
        "criterion = FocalLoss(alpha=0.25, gamma=2.0)\n",
        "optimizer = optim.Adam(model.parameters(), lr=0.001, weight_decay=5e-4) # weight_decayで重みづけが大きくなりすぎないようにしている。\n",
        "# CosineAnnealingWarmRestartsの設定\n",
        "scheduler = CosineAnnealingWarmRestarts(optimizer, T_0=5, T_mult=2, eta_min=0.)"
      ],
      "metadata": {
        "id": "Y2kUUxzqMix6"
      },
      "execution_count": 39,
      "outputs": []
    },
    {
      "cell_type": "code",
      "source": [
        "# ラベルをone-hotに変換する関数\n",
        "def one_hot_encode(labels, num_classes):\n",
        "    return torch.eye(num_classes, device=labels.device)[labels]\n",
        "\n",
        "# 平滑化の損失関数\n",
        "def label_smoothed_nll_loss(lprobs, target, eps):\n",
        "    nll_loss = -lprobs.gather(dim=-1, index=target.unsqueeze(-1))\n",
        "    nll_loss = nll_loss.squeeze(-1)  # ラベルの次元を削除\n",
        "    nll_loss = nll_loss.mean()\n",
        "\n",
        "    smooth_loss = -lprobs.mean(dim=-1)\n",
        "    smooth_loss = smooth_loss.mean()\n",
        "\n",
        "    loss = (1.0 - eps) * nll_loss + eps * smooth_loss\n",
        "    return loss"
      ],
      "metadata": {
        "id": "DWJKqEX-7M5Z"
      },
      "execution_count": 40,
      "outputs": []
    },
    {
      "cell_type": "code",
      "source": [
        "patience = 5  # 何エポック連続で改善がないと学習を止めるか\n",
        "best_val_loss = float('inf')  # 最小の検証損失\n",
        "counter = 0  # 改善がなかった回数\n",
        "\n",
        "# 学習のループ\n",
        "num_epochs = 15\n",
        "losses = []\n",
        "accs = []\n",
        "val_losses = []\n",
        "val_accs = []\n",
        "for epoch in range(num_epochs):\n",
        "    running_loss = 0.0\n",
        "    running_acc = 0.0\n",
        "    y_true = []  # 正解ラベルを保存\n",
        "    y_pred = []  # 予測ラベルを保存\n",
        "    for imgs, labels, in train_dataloader:\n",
        "        imgs = imgs.to(device)\n",
        "        labels = labels.to(device)\n",
        "\n",
        "        # ラベルをone-hotエンコード\n",
        "        one_hot_labels = one_hot_encode(labels, num_classes=10)\n",
        "\n",
        "        optimizer.zero_grad() # 勾配の初期化\n",
        "        output = model(imgs)\n",
        "\n",
        "        # ソフトマックス後のlog確率を計算\n",
        "        lprobs = torch.log_softmax(output, dim=-1)\n",
        "\n",
        "        # 平滑化した損失を計算\n",
        "        loss = label_smoothed_nll_loss(lprobs, labels, eps=0.1)\n",
        "\n",
        "        loss.backward()\n",
        "        running_loss += loss.item()\n",
        "        pred = torch.argmax(output, dim=1)\n",
        "        prob_pred = torch.softmax(output, dim=1)\n",
        "        running_acc += torch.mean(pred.eq(labels).float())\n",
        "        optimizer.step()\n",
        "        y_true.extend(labels.cpu().numpy())  # GPU->CPU\n",
        "        y_pred.extend(pred.cpu().numpy())  # GPU->CPU\n",
        "    running_loss /= len(train_dataloader)\n",
        "    running_acc /= len(train_dataloader)\n",
        "    losses.append(running_loss)\n",
        "    #accs.append(running_acc)\n",
        "    accs.append(running_acc.cpu())\n",
        "    scheduler.step()\n",
        "#\n",
        "# validationのループ\n",
        "#\n",
        "    val_running_loss = 0.0\n",
        "    val_running_acc = 0.0\n",
        "    y_val_true = []  # 正解ラベルを保存\n",
        "    y_val_pred = []  # 予測ラベルを保存\n",
        "    for val_imgs, val_labels in validation_dataloader:\n",
        "        val_imgs = val_imgs.to(device)\n",
        "        val_labels = val_labels.to(device)\n",
        "        val_output = model(val_imgs)\n",
        "\n",
        "        val_lprobs = torch.log_softmax(val_output, dim=-1)\n",
        "        val_loss = label_smoothed_nll_loss(val_lprobs, val_labels, eps=0.1)\n",
        "\n",
        "        val_running_loss += val_loss.item()\n",
        "        val_pred = torch.argmax(val_output, dim=1)\n",
        "        val_running_acc += torch.mean(val_pred.eq(val_labels).float())\n",
        "        # ラベルを保存\n",
        "        y_val_true.extend(val_labels.cpu().numpy())  # GPU->CPU\n",
        "        y_val_pred.extend(val_pred.cpu().numpy())  # GPU->CPU\n",
        "\n",
        "    val_running_loss /= len(validation_dataloader)\n",
        "    val_running_acc /= len(validation_dataloader)\n",
        "    val_losses.append(val_running_loss)\n",
        "    #val_accs.append(val_running_acc)\n",
        "    val_accs.append(val_running_acc.cpu())\n",
        "    print(\"epoch: {}, loss: {}, acc: {}, \\\n",
        "     val loss: {}, val acc: {}\".format(epoch, running_loss, running_acc, val_running_loss, val_running_acc))\n",
        "\n",
        "    # Early Stopping の処理\n",
        "    if val_running_loss < best_val_loss:\n",
        "        best_val_loss = val_running_loss\n",
        "        counter = 0\n",
        "        torch.save(model.state_dict(), \"best_model.pth\")  # 最良モデルを保存\n",
        "    else:\n",
        "        counter += 1\n",
        "        print(f\"Early stopping patience count: {counter}/{patience}\")\n",
        "\n",
        "    if counter >= patience:\n",
        "        print(\"Early stopping triggered. Training stopped.\")\n",
        "        break  # 学習を終了"
      ],
      "metadata": {
        "id": "5au2nWCYMoYO",
        "outputId": "4289b4bc-98c0-4ea1-99c9-61628b6f0d03",
        "colab": {
          "base_uri": "https://localhost:8080/"
        }
      },
      "execution_count": 41,
      "outputs": [
        {
          "output_type": "stream",
          "name": "stdout",
          "text": [
            "epoch: 0, loss: 1.607400786624989, acc: 0.49240243434906006,      val loss: 1.3665985436485217, val acc: 0.6218050718307495\n",
            "epoch: 1, loss: 1.2836674975799736, acc: 0.6603686809539795,      val loss: 1.201301553759712, val acc: 0.7040734887123108\n",
            "epoch: 2, loss: 1.1562800235803206, acc: 0.7219489812850952,      val loss: 1.112350070628876, val acc: 0.7399161458015442\n",
            "epoch: 3, loss: 1.064596855709054, acc: 0.7662147879600525,      val loss: 1.068020860036722, val acc: 0.7648761868476868\n",
            "epoch: 4, loss: 0.9999850867119494, acc: 0.7972049117088318,      val loss: 1.0226562817256672, val acc: 0.7867411971092224\n",
            "epoch: 5, loss: 1.1148014121229497, acc: 0.7445817589759827,      val loss: 1.0942088003737478, val acc: 0.7504991888999939\n",
            "Early stopping patience count: 1/5\n",
            "epoch: 6, loss: 1.0824795696343357, acc: 0.7574976086616516,      val loss: 1.0567022144984894, val acc: 0.771265983581543\n",
            "Early stopping patience count: 2/5\n",
            "epoch: 7, loss: 1.0511351729995229, acc: 0.7711332440376282,      val loss: 1.0626480407989063, val acc: 0.7642771601676941\n",
            "Early stopping patience count: 3/5\n",
            "epoch: 8, loss: 1.0187755981013322, acc: 0.789487361907959,      val loss: 1.032997885070289, val acc: 0.7815495133399963\n",
            "Early stopping patience count: 4/5\n",
            "epoch: 9, loss: 0.9822167319436906, acc: 0.805962085723877,      val loss: 1.0224890215709186, val acc: 0.7863418459892273\n",
            "epoch: 10, loss: 0.9464041629969425, acc: 0.8248960375785828,      val loss: 0.9717396358712412, val acc: 0.8084065318107605\n",
            "epoch: 11, loss: 0.9097772789398066, acc: 0.8426703214645386,      val loss: 0.9563962278274682, val acc: 0.8193889856338501\n",
            "epoch: 12, loss: 0.8779387788671907, acc: 0.8562059998512268,      val loss: 0.9460127498395146, val acc: 0.8219848275184631\n",
            "epoch: 13, loss: 0.8516487655392535, acc: 0.8710212707519531,      val loss: 0.9285053123300449, val acc: 0.829872190952301\n",
            "epoch: 14, loss: 0.8344381034412371, acc: 0.8808181285858154,      val loss: 0.9209633711427926, val acc: 0.8343650102615356\n"
          ]
        }
      ]
    },
    {
      "cell_type": "code",
      "source": [
        "\n",
        "labels"
      ],
      "metadata": {
        "id": "GcWe5uJl_OwK",
        "outputId": "f0364588-3723-4f1a-c8d8-644347ca7ea5",
        "colab": {
          "base_uri": "https://localhost:8080/"
        }
      },
      "execution_count": 42,
      "outputs": [
        {
          "output_type": "execute_result",
          "data": {
            "text/plain": [
              "tensor([4, 7, 5, 5, 2, 1, 9, 9, 4, 3, 3, 2, 2, 3, 7, 4], device='cuda:0')"
            ]
          },
          "metadata": {},
          "execution_count": 42
        }
      ]
    },
    {
      "cell_type": "code",
      "source": [
        "one_zero_labels = torch.where(labels == 0, 1, 0)\n",
        "print(one_zero_labels)"
      ],
      "metadata": {
        "id": "3blnP_b3n2pR",
        "outputId": "10badf34-2d42-411f-de33-b4456317d876",
        "colab": {
          "base_uri": "https://localhost:8080/"
        }
      },
      "execution_count": 43,
      "outputs": [
        {
          "output_type": "stream",
          "name": "stdout",
          "text": [
            "tensor([0, 0, 0, 0, 0, 0, 0, 0, 0, 0, 0, 0, 0, 0, 0, 0], device='cuda:0')\n"
          ]
        }
      ]
    },
    {
      "cell_type": "code",
      "source": [
        "prob = prob_pred[:, 0]"
      ],
      "metadata": {
        "id": "LfChzmc_OGeF"
      },
      "execution_count": 44,
      "outputs": []
    },
    {
      "cell_type": "code",
      "source": [
        "prob\n",
        "# probはラベル0の確率。これ使ってroc曲線かける"
      ],
      "metadata": {
        "id": "t9JZTA2mO3Xw",
        "outputId": "d2f131c2-78ff-4459-f4c8-cb14105479c3",
        "colab": {
          "base_uri": "https://localhost:8080/"
        }
      },
      "execution_count": 45,
      "outputs": [
        {
          "output_type": "execute_result",
          "data": {
            "text/plain": [
              "tensor([0.0030, 0.0094, 0.0009, 0.0070, 0.0119, 0.0226, 0.0815, 0.0052, 0.0331,\n",
              "        0.0093, 0.0087, 0.2428, 0.0003, 0.0159, 0.0155, 0.0022],\n",
              "       device='cuda:0', grad_fn=<SelectBackward0>)"
            ]
          },
          "metadata": {},
          "execution_count": 45
        }
      ]
    },
    {
      "cell_type": "code",
      "source": [
        "roc = roc_curve(one_zero_labels.cpu().detach().numpy(), prob.cpu().detach().numpy())"
      ],
      "metadata": {
        "id": "dHz0nE1Vpqn8",
        "colab": {
          "base_uri": "https://localhost:8080/"
        },
        "outputId": "539dd161-a1f5-44cc-b1f0-c907a869e992"
      },
      "execution_count": 46,
      "outputs": [
        {
          "output_type": "stream",
          "name": "stderr",
          "text": [
            "/usr/local/lib/python3.11/dist-packages/sklearn/metrics/_ranking.py:1188: UndefinedMetricWarning: No positive samples in y_true, true positive value should be meaningless\n",
            "  warnings.warn(\n"
          ]
        }
      ]
    },
    {
      "cell_type": "code",
      "source": [
        "fpr, tpr, thresholds = roc\n",
        "\n",
        "print(fpr)\n",
        "# [0.   0.   0.25 0.25 0.5  0.5  1.  ]\n",
        "\n",
        "print(tpr)\n",
        "# [0.   0.25 0.25 0.5  0.5  1.   1.  ]\n",
        "\n",
        "print(thresholds)\n",
        "# [1.9 0.9 0.8 0.7 0.6 0.4 0.2]"
      ],
      "metadata": {
        "id": "6XQjwALgq5Hi",
        "outputId": "a92ee008-961e-4b64-a2cb-8d23a6044545",
        "colab": {
          "base_uri": "https://localhost:8080/"
        }
      },
      "execution_count": 47,
      "outputs": [
        {
          "output_type": "stream",
          "name": "stdout",
          "text": [
            "[0.     0.0625 1.    ]\n",
            "[nan nan nan]\n",
            "[       inf 0.24283694 0.00030332]\n"
          ]
        }
      ]
    },
    {
      "cell_type": "code",
      "source": [
        "plt.plot(fpr, tpr, marker='o')\n",
        "plt.xlabel('FPR: False positive rate')\n",
        "plt.ylabel('TPR: True positive rate')\n",
        "plt.grid()"
      ],
      "metadata": {
        "id": "cPb_LcAOrMo5",
        "outputId": "01dfc656-058b-4505-ba11-26b8103c0ebf",
        "colab": {
          "base_uri": "https://localhost:8080/",
          "height": 453
        }
      },
      "execution_count": 48,
      "outputs": [
        {
          "output_type": "display_data",
          "data": {
            "text/plain": [
              "<Figure size 640x480 with 1 Axes>"
            ],
            "image/png": "[encoded data removed]"
          },
          "metadata": {}
        }
      ]
    },
    {
      "cell_type": "markdown",
      "source": [
        "# 評価項目"
      ],
      "metadata": {
        "id": "hAlBZVRR_1TB"
      }
    },
    {
      "cell_type": "code",
      "source": [
        "# 正解率\n",
        "print(accs[-1].cpu())\n",
        "print(val_accs[-1].cpu())\n",
        "# 混同行列\n",
        "cm=confusion_matrix(y_true, y_pred)\n",
        "val_cm=confusion_matrix(y_val_true, y_val_pred)\n",
        "print(cm)\n",
        "print(val_cm)\n",
        "# 再現率：実際に真だったもののうち、モデルが真と判断した割合。\n",
        "# 見逃しをなくしたいときに使われる。\n",
        "# 別名真陽性率。\n",
        "recall_per_class = cm.diagonal() / cm.sum(axis=1)\n",
        "val_recall_per_class = val_cm.diagonal() / val_cm.sum(axis=1)\n",
        "print(recall_per_class)\n",
        "print(val_recall_per_class)\n",
        "# 適合率：モデルが真と判断し、実際に真だった割合。猫と判断し、実際に猫だった割合。\n",
        "# 誤検出をなくしたいときに使われる。\n",
        "precision_per_class = cm.diagonal() / cm.sum(axis=0)\n",
        "val_precision_per_class = val_cm.diagonal() / val_cm.sum(axis=0)\n",
        "print(precision_per_class)\n",
        "print(val_precision_per_class)\n",
        "# F1スコア：適合率と再現率の調和平均。\n",
        "f1_per_class = 2 * (precision_per_class * recall_per_class) / (precision_per_class + recall_per_class)\n",
        "val_f1_per_class = 2 * (val_precision_per_class * val_recall_per_class) / (val_precision_per_class + val_recall_per_class)\n",
        "print(f1_per_class)\n",
        "print(val_f1_per_class)\n",
        "# 偽陽性率：実際に偽だったったもののうち、モデルが間違えて真と判断した割合。"
      ],
      "metadata": {
        "id": "lM3WOgCYAQl8",
        "outputId": "3c672f96-3bea-4c95-a6cf-56db5cb4f6db",
        "colab": {
          "base_uri": "https://localhost:8080/"
        }
      },
      "execution_count": 49,
      "outputs": [
        {
          "output_type": "stream",
          "name": "stdout",
          "text": [
            "tensor(0.8808)\n",
            "tensor(0.8344)\n",
            "[[4529   25   84   50   33   15   22   35  136   71]\n",
            " [  33 4704   19   12    7    8   10    7   50  150]\n",
            " [ 175    9 4178  152  164  100  115   54   31   22]\n",
            " [  53   14  161 3870  131  454  150   98   42   27]\n",
            " [  51    3  148  150 4351   77   76  112   22   10]\n",
            " [  19    3  110  533  116 4002   51  138   12   16]\n",
            " [  22   10   93  122   85   49 4585   11   11   12]\n",
            " [  21    3   72  124  125  104   15 4513    6   17]\n",
            " [ 109   41   31   23   11    7   17    7 4693   61]\n",
            " [  83  145   27   34    5   12    8   12   57 4617]]\n",
            "[[866  11  20  14   7   0   7   4  41  30]\n",
            " [ 10 927   1   4   2   2   4   2  12  36]\n",
            " [ 52   5 740  40  59  41  33  16   7   7]\n",
            " [ 20   5  53 682  46 105  47  22  13   7]\n",
            " [ 10   3  35  38 832  18  28  30   5   1]\n",
            " [ 15   2  33 128  36 738  16  27   3   2]\n",
            " [  9   2  19  39  15  13 896   2   2   3]\n",
            " [ 12   0  18  32  34  30   1 862   5   6]\n",
            " [ 34  10   6   7   3   6   2   3 917  12]\n",
            " [ 20  48   3  11   1   5   3   4  22 883]]\n",
            "[0.9058 0.9408 0.8356 0.774  0.8702 0.8004 0.917  0.9026 0.9386 0.9234]\n",
            "[0.866 0.927 0.74  0.682 0.832 0.738 0.896 0.862 0.917 0.883]\n",
            "[0.8889107  0.94896107 0.84866951 0.76331361 0.86535402 0.82891466\n",
            " 0.90810061 0.90495288 0.92747036 0.92284629]\n",
            "[0.82633588 0.91510365 0.79741379 0.68542714 0.80386473 0.77035491\n",
            " 0.86403086 0.88683128 0.89289192 0.89463019]\n",
            "[0.89727588 0.94486291 0.84208405 0.76861966 0.86777024 0.81440781\n",
            " 0.91252861 0.90377491 0.93300199 0.92312306]\n",
            "[0.84570312 0.92101341 0.76763485 0.68370927 0.81769042 0.75383044\n",
            " 0.87972509 0.87423935 0.9047854  0.88877705]\n"
          ]
        }
      ]
    },
    {
      "cell_type": "code",
      "source": [
        "plt.style.use(\"ggplot\")\n",
        "\n",
        "fig, axes = plt.subplots(1, 2, figsize=(12, 5))  # 1行2列のサブプロット\n",
        "\n",
        "# 左のグラフ(損失)\n",
        "axes[0].plot(losses, label=\"train loss\")\n",
        "axes[0].plot(val_losses, label=\"val loss\")\n",
        "axes[0].legend()\n",
        "axes[0].set_title(\"Loss\")\n",
        "\n",
        "# 右のグラフ(精度)\n",
        "axes[1].plot(accs, label=\"train acc\")\n",
        "axes[1].plot(val_accs, label=\"val acc\")\n",
        "axes[1].legend()\n",
        "axes[1].set_title(\"Accuracy\")\n",
        "\n",
        "plt.show()"
      ],
      "metadata": {
        "id": "D_4csbKOMrl6",
        "outputId": "c3093007-98c5-4e36-bbc0-68fd9a5332b7",
        "colab": {
          "base_uri": "https://localhost:8080/",
          "height": 307
        }
      },
      "execution_count": 50,
      "outputs": [
        {
          "output_type": "display_data",
          "data": {
            "text/plain": [
              "<Figure size 1200x500 with 2 Axes>"
            ],
            "image/png": "[encoded data removed]"
          },
          "metadata": {}
        }
      ]
    },
    {
      "cell_type": "code",
      "source": [
        "print(accs)\n",
        "print(val_accs)"
      ],
      "metadata": {
        "id": "LVpdFF4MdP1c",
        "outputId": "daaa7757-4afb-4164-a660-afe4361f8d62",
        "colab": {
          "base_uri": "https://localhost:8080/"
        }
      },
      "execution_count": 51,
      "outputs": [
        {
          "output_type": "stream",
          "name": "stdout",
          "text": [
            "[tensor(0.4924), tensor(0.6604), tensor(0.7219), tensor(0.7662), tensor(0.7972), tensor(0.7446), tensor(0.7575), tensor(0.7711), tensor(0.7895), tensor(0.8060), tensor(0.8249), tensor(0.8427), tensor(0.8562), tensor(0.8710), tensor(0.8808)]\n",
            "[tensor(0.6218), tensor(0.7041), tensor(0.7399), tensor(0.7649), tensor(0.7867), tensor(0.7505), tensor(0.7713), tensor(0.7643), tensor(0.7815), tensor(0.7863), tensor(0.8084), tensor(0.8194), tensor(0.8220), tensor(0.8299), tensor(0.8344)]\n"
          ]
        }
      ]
    },
    {
      "cell_type": "code",
      "source": [
        "# y_val_true はラベル（0 or 1）を含むリスト\n",
        "y_val_true = torch.tensor(y_val_true)\n",
        "\n",
        "# val_output に softmax を適用\n",
        "val_output_tensor = torch.cat([model(val_imgs.to(device)) for val_imgs, _ in validation_dataloader])\n",
        "val_prob_pred = torch.softmax(val_output_tensor, dim=1)\n",
        "\n",
        "# クラス0の確率値を取得\n",
        "prob = val_prob_pred[:, 0].cpu().detach().numpy()\n",
        "\n",
        "# 0/1 ラベルの取得\n",
        "one_zero_labels = torch.where(y_val_true == 0, 1, 0).cpu().detach().numpy()\n",
        "\n",
        "# ROC曲線の計算\n",
        "fpr, tpr, thresholds = roc_curve(one_zero_labels, prob)\n",
        "\n",
        "# グラフ描画\n",
        "plt.plot(fpr, tpr, marker='o')\n",
        "plt.xlabel('FPR: False Positive Rate')\n",
        "plt.ylabel('TPR: True Positive Rate')\n",
        "plt.grid()\n",
        "plt.show()\n"
      ],
      "metadata": {
        "id": "AxhvjPiIWYJs",
        "outputId": "e0aee6e9-a3de-4c7e-fe2b-aaf26de60d27",
        "colab": {
          "base_uri": "https://localhost:8080/",
          "height": 547
        }
      },
      "execution_count": 52,
      "outputs": [
        {
          "output_type": "error",
          "ename": "OutOfMemoryError",
          "evalue": "CUDA out of memory. Tried to allocate 20.00 MiB. GPU 0 has a total capacity of 14.74 GiB of which 12.12 MiB is free. Process 5790 has 14.73 GiB memory in use. Of the allocated memory 14.52 GiB is allocated by PyTorch, and 77.09 MiB is reserved by PyTorch but unallocated. If reserved but unallocated memory is large try setting PYTORCH_CUDA_ALLOC_CONF=expandable_segments:True to avoid fragmentation.  See documentation for Memory Management  (https://pytorch.org/docs/stable/notes/cuda.html#environment-variables)",
          "traceback": [
            "\u001b[0;31m---------------------------------------------------------------------------\u001b[0m",
            "\u001b[0;31mOutOfMemoryError\u001b[0m                          Traceback (most recent call last)",
            "\u001b[0;32m<ipython-input-52-18cdb73ef34b>\u001b[0m in \u001b[0;36m<cell line: 0>\u001b[0;34m()\u001b[0m\n\u001b[1;32m      3\u001b[0m \u001b[0;34m\u001b[0m\u001b[0m\n\u001b[1;32m      4\u001b[0m \u001b[0;31m# val_output に softmax を適用\u001b[0m\u001b[0;34m\u001b[0m\u001b[0;34m\u001b[0m\u001b[0m\n\u001b[0;32m----> 5\u001b[0;31m \u001b[0mval_output_tensor\u001b[0m \u001b[0;34m=\u001b[0m \u001b[0mtorch\u001b[0m\u001b[0;34m.\u001b[0m\u001b[0mcat\u001b[0m\u001b[0;34m(\u001b[0m\u001b[0;34m[\u001b[0m\u001b[0mmodel\u001b[0m\u001b[0;34m(\u001b[0m\u001b[0mval_imgs\u001b[0m\u001b[0;34m.\u001b[0m\u001b[0mto\u001b[0m\u001b[0;34m(\u001b[0m\u001b[0mdevice\u001b[0m\u001b[0;34m)\u001b[0m\u001b[0;34m)\u001b[0m \u001b[0;32mfor\u001b[0m \u001b[0mval_imgs\u001b[0m\u001b[0;34m,\u001b[0m \u001b[0m_\u001b[0m \u001b[0;32min\u001b[0m \u001b[0mvalidation_dataloader\u001b[0m\u001b[0;34m]\u001b[0m\u001b[0;34m)\u001b[0m\u001b[0;34m\u001b[0m\u001b[0;34m\u001b[0m\u001b[0m\n\u001b[0m\u001b[1;32m      6\u001b[0m \u001b[0mval_prob_pred\u001b[0m \u001b[0;34m=\u001b[0m \u001b[0mtorch\u001b[0m\u001b[0;34m.\u001b[0m\u001b[0msoftmax\u001b[0m\u001b[0;34m(\u001b[0m\u001b[0mval_output_tensor\u001b[0m\u001b[0;34m,\u001b[0m \u001b[0mdim\u001b[0m\u001b[0;34m=\u001b[0m\u001b[0;36m1\u001b[0m\u001b[0;34m)\u001b[0m\u001b[0;34m\u001b[0m\u001b[0;34m\u001b[0m\u001b[0m\n\u001b[1;32m      7\u001b[0m \u001b[0;34m\u001b[0m\u001b[0m\n",
            "\u001b[0;32m<ipython-input-52-18cdb73ef34b>\u001b[0m in \u001b[0;36m<listcomp>\u001b[0;34m(.0)\u001b[0m\n\u001b[1;32m      3\u001b[0m \u001b[0;34m\u001b[0m\u001b[0m\n\u001b[1;32m      4\u001b[0m \u001b[0;31m# val_output に softmax を適用\u001b[0m\u001b[0;34m\u001b[0m\u001b[0;34m\u001b[0m\u001b[0m\n\u001b[0;32m----> 5\u001b[0;31m \u001b[0mval_output_tensor\u001b[0m \u001b[0;34m=\u001b[0m \u001b[0mtorch\u001b[0m\u001b[0;34m.\u001b[0m\u001b[0mcat\u001b[0m\u001b[0;34m(\u001b[0m\u001b[0;34m[\u001b[0m\u001b[0mmodel\u001b[0m\u001b[0;34m(\u001b[0m\u001b[0mval_imgs\u001b[0m\u001b[0;34m.\u001b[0m\u001b[0mto\u001b[0m\u001b[0;34m(\u001b[0m\u001b[0mdevice\u001b[0m\u001b[0;34m)\u001b[0m\u001b[0;34m)\u001b[0m \u001b[0;32mfor\u001b[0m \u001b[0mval_imgs\u001b[0m\u001b[0;34m,\u001b[0m \u001b[0m_\u001b[0m \u001b[0;32min\u001b[0m \u001b[0mvalidation_dataloader\u001b[0m\u001b[0;34m]\u001b[0m\u001b[0;34m)\u001b[0m\u001b[0;34m\u001b[0m\u001b[0;34m\u001b[0m\u001b[0m\n\u001b[0m\u001b[1;32m      6\u001b[0m \u001b[0mval_prob_pred\u001b[0m \u001b[0;34m=\u001b[0m \u001b[0mtorch\u001b[0m\u001b[0;34m.\u001b[0m\u001b[0msoftmax\u001b[0m\u001b[0;34m(\u001b[0m\u001b[0mval_output_tensor\u001b[0m\u001b[0;34m,\u001b[0m \u001b[0mdim\u001b[0m\u001b[0;34m=\u001b[0m\u001b[0;36m1\u001b[0m\u001b[0;34m)\u001b[0m\u001b[0;34m\u001b[0m\u001b[0;34m\u001b[0m\u001b[0m\n\u001b[1;32m      7\u001b[0m \u001b[0;34m\u001b[0m\u001b[0m\n",
            "\u001b[0;32m/usr/local/lib/python3.11/dist-packages/torch/nn/modules/module.py\u001b[0m in \u001b[0;36m_wrapped_call_impl\u001b[0;34m(self, *args, **kwargs)\u001b[0m\n\u001b[1;32m   1737\u001b[0m             \u001b[0;32mreturn\u001b[0m \u001b[0mself\u001b[0m\u001b[0;34m.\u001b[0m\u001b[0m_compiled_call_impl\u001b[0m\u001b[0;34m(\u001b[0m\u001b[0;34m*\u001b[0m\u001b[0margs\u001b[0m\u001b[0;34m,\u001b[0m \u001b[0;34m**\u001b[0m\u001b[0mkwargs\u001b[0m\u001b[0;34m)\u001b[0m  \u001b[0;31m# type: ignore[misc]\u001b[0m\u001b[0;34m\u001b[0m\u001b[0;34m\u001b[0m\u001b[0m\n\u001b[1;32m   1738\u001b[0m         \u001b[0;32melse\u001b[0m\u001b[0;34m:\u001b[0m\u001b[0;34m\u001b[0m\u001b[0;34m\u001b[0m\u001b[0m\n\u001b[0;32m-> 1739\u001b[0;31m             \u001b[0;32mreturn\u001b[0m \u001b[0mself\u001b[0m\u001b[0;34m.\u001b[0m\u001b[0m_call_impl\u001b[0m\u001b[0;34m(\u001b[0m\u001b[0;34m*\u001b[0m\u001b[0margs\u001b[0m\u001b[0;34m,\u001b[0m \u001b[0;34m**\u001b[0m\u001b[0mkwargs\u001b[0m\u001b[0;34m)\u001b[0m\u001b[0;34m\u001b[0m\u001b[0;34m\u001b[0m\u001b[0m\n\u001b[0m\u001b[1;32m   1740\u001b[0m \u001b[0;34m\u001b[0m\u001b[0m\n\u001b[1;32m   1741\u001b[0m     \u001b[0;31m# torchrec tests the code consistency with the following code\u001b[0m\u001b[0;34m\u001b[0m\u001b[0;34m\u001b[0m\u001b[0m\n",
            "\u001b[0;32m/usr/local/lib/python3.11/dist-packages/torch/nn/modules/module.py\u001b[0m in \u001b[0;36m_call_impl\u001b[0;34m(self, *args, **kwargs)\u001b[0m\n\u001b[1;32m   1748\u001b[0m                 \u001b[0;32mor\u001b[0m \u001b[0m_global_backward_pre_hooks\u001b[0m \u001b[0;32mor\u001b[0m \u001b[0m_global_backward_hooks\u001b[0m\u001b[0;34m\u001b[0m\u001b[0;34m\u001b[0m\u001b[0m\n\u001b[1;32m   1749\u001b[0m                 or _global_forward_hooks or _global_forward_pre_hooks):\n\u001b[0;32m-> 1750\u001b[0;31m             \u001b[0;32mreturn\u001b[0m \u001b[0mforward_call\u001b[0m\u001b[0;34m(\u001b[0m\u001b[0;34m*\u001b[0m\u001b[0margs\u001b[0m\u001b[0;34m,\u001b[0m \u001b[0;34m**\u001b[0m\u001b[0mkwargs\u001b[0m\u001b[0;34m)\u001b[0m\u001b[0;34m\u001b[0m\u001b[0;34m\u001b[0m\u001b[0m\n\u001b[0m\u001b[1;32m   1751\u001b[0m \u001b[0;34m\u001b[0m\u001b[0m\n\u001b[1;32m   1752\u001b[0m         \u001b[0mresult\u001b[0m \u001b[0;34m=\u001b[0m \u001b[0;32mNone\u001b[0m\u001b[0;34m\u001b[0m\u001b[0;34m\u001b[0m\u001b[0m\n",
            "\u001b[0;32m<ipython-input-36-fef78df9d9bb>\u001b[0m in \u001b[0;36mforward\u001b[0;34m(self, x)\u001b[0m\n\u001b[1;32m     18\u001b[0m         \u001b[0mself\u001b[0m\u001b[0;34m.\u001b[0m\u001b[0mclassifier\u001b[0m \u001b[0;34m=\u001b[0m \u001b[0mnn\u001b[0m\u001b[0;34m.\u001b[0m\u001b[0mLinear\u001b[0m\u001b[0;34m(\u001b[0m\u001b[0min_features\u001b[0m\u001b[0;34m=\u001b[0m\u001b[0;36m4\u001b[0m \u001b[0;34m*\u001b[0m \u001b[0;36m4\u001b[0m \u001b[0;34m*\u001b[0m \u001b[0;36m128\u001b[0m\u001b[0;34m,\u001b[0m \u001b[0mout_features\u001b[0m\u001b[0;34m=\u001b[0m\u001b[0mnum_classes\u001b[0m\u001b[0;34m)\u001b[0m \u001b[0;31m# in_featuresには1次元ベクトルにして渡す。4×4が128個ある。out_featuresは何個に分類するか。\u001b[0m\u001b[0;34m\u001b[0m\u001b[0;34m\u001b[0m\u001b[0m\n\u001b[1;32m     19\u001b[0m     \u001b[0;32mdef\u001b[0m \u001b[0mforward\u001b[0m\u001b[0;34m(\u001b[0m\u001b[0mself\u001b[0m\u001b[0;34m,\u001b[0m \u001b[0mx\u001b[0m\u001b[0;34m)\u001b[0m\u001b[0;34m:\u001b[0m\u001b[0;34m\u001b[0m\u001b[0;34m\u001b[0m\u001b[0m\n\u001b[0;32m---> 20\u001b[0;31m         \u001b[0mx\u001b[0m \u001b[0;34m=\u001b[0m \u001b[0mself\u001b[0m\u001b[0;34m.\u001b[0m\u001b[0mfeatures\u001b[0m\u001b[0;34m(\u001b[0m\u001b[0mx\u001b[0m\u001b[0;34m)\u001b[0m\u001b[0;34m\u001b[0m\u001b[0;34m\u001b[0m\u001b[0m\n\u001b[0m\u001b[1;32m     21\u001b[0m         \u001b[0mx\u001b[0m \u001b[0;34m=\u001b[0m \u001b[0mx\u001b[0m\u001b[0;34m.\u001b[0m\u001b[0mview\u001b[0m\u001b[0;34m(\u001b[0m\u001b[0mx\u001b[0m\u001b[0;34m.\u001b[0m\u001b[0msize\u001b[0m\u001b[0;34m(\u001b[0m\u001b[0;36m0\u001b[0m\u001b[0;34m)\u001b[0m\u001b[0;34m,\u001b[0m \u001b[0;34m-\u001b[0m\u001b[0;36m1\u001b[0m\u001b[0;34m)\u001b[0m \u001b[0;31m# x.size(0)はバッチ数を表す。(32, 4×4×128)という形になる。\u001b[0m\u001b[0;34m\u001b[0m\u001b[0;34m\u001b[0m\u001b[0m\n\u001b[1;32m     22\u001b[0m         \u001b[0mx\u001b[0m \u001b[0;34m=\u001b[0m \u001b[0mself\u001b[0m\u001b[0;34m.\u001b[0m\u001b[0mclassifier\u001b[0m\u001b[0;34m(\u001b[0m\u001b[0mx\u001b[0m\u001b[0;34m)\u001b[0m\u001b[0;34m\u001b[0m\u001b[0;34m\u001b[0m\u001b[0m\n",
            "\u001b[0;32m/usr/local/lib/python3.11/dist-packages/torch/nn/modules/module.py\u001b[0m in \u001b[0;36m_wrapped_call_impl\u001b[0;34m(self, *args, **kwargs)\u001b[0m\n\u001b[1;32m   1737\u001b[0m             \u001b[0;32mreturn\u001b[0m \u001b[0mself\u001b[0m\u001b[0;34m.\u001b[0m\u001b[0m_compiled_call_impl\u001b[0m\u001b[0;34m(\u001b[0m\u001b[0;34m*\u001b[0m\u001b[0margs\u001b[0m\u001b[0;34m,\u001b[0m \u001b[0;34m**\u001b[0m\u001b[0mkwargs\u001b[0m\u001b[0;34m)\u001b[0m  \u001b[0;31m# type: ignore[misc]\u001b[0m\u001b[0;34m\u001b[0m\u001b[0;34m\u001b[0m\u001b[0m\n\u001b[1;32m   1738\u001b[0m         \u001b[0;32melse\u001b[0m\u001b[0;34m:\u001b[0m\u001b[0;34m\u001b[0m\u001b[0;34m\u001b[0m\u001b[0m\n\u001b[0;32m-> 1739\u001b[0;31m             \u001b[0;32mreturn\u001b[0m \u001b[0mself\u001b[0m\u001b[0;34m.\u001b[0m\u001b[0m_call_impl\u001b[0m\u001b[0;34m(\u001b[0m\u001b[0;34m*\u001b[0m\u001b[0margs\u001b[0m\u001b[0;34m,\u001b[0m \u001b[0;34m**\u001b[0m\u001b[0mkwargs\u001b[0m\u001b[0;34m)\u001b[0m\u001b[0;34m\u001b[0m\u001b[0;34m\u001b[0m\u001b[0m\n\u001b[0m\u001b[1;32m   1740\u001b[0m \u001b[0;34m\u001b[0m\u001b[0m\n\u001b[1;32m   1741\u001b[0m     \u001b[0;31m# torchrec tests the code consistency with the following code\u001b[0m\u001b[0;34m\u001b[0m\u001b[0;34m\u001b[0m\u001b[0m\n",
            "\u001b[0;32m/usr/local/lib/python3.11/dist-packages/torch/nn/modules/module.py\u001b[0m in \u001b[0;36m_call_impl\u001b[0;34m(self, *args, **kwargs)\u001b[0m\n\u001b[1;32m   1748\u001b[0m                 \u001b[0;32mor\u001b[0m \u001b[0m_global_backward_pre_hooks\u001b[0m \u001b[0;32mor\u001b[0m \u001b[0m_global_backward_hooks\u001b[0m\u001b[0;34m\u001b[0m\u001b[0;34m\u001b[0m\u001b[0m\n\u001b[1;32m   1749\u001b[0m                 or _global_forward_hooks or _global_forward_pre_hooks):\n\u001b[0;32m-> 1750\u001b[0;31m             \u001b[0;32mreturn\u001b[0m \u001b[0mforward_call\u001b[0m\u001b[0;34m(\u001b[0m\u001b[0;34m*\u001b[0m\u001b[0margs\u001b[0m\u001b[0;34m,\u001b[0m \u001b[0;34m**\u001b[0m\u001b[0mkwargs\u001b[0m\u001b[0;34m)\u001b[0m\u001b[0;34m\u001b[0m\u001b[0;34m\u001b[0m\u001b[0m\n\u001b[0m\u001b[1;32m   1751\u001b[0m \u001b[0;34m\u001b[0m\u001b[0m\n\u001b[1;32m   1752\u001b[0m         \u001b[0mresult\u001b[0m \u001b[0;34m=\u001b[0m \u001b[0;32mNone\u001b[0m\u001b[0;34m\u001b[0m\u001b[0;34m\u001b[0m\u001b[0m\n",
            "\u001b[0;32m/usr/local/lib/python3.11/dist-packages/torch/nn/modules/container.py\u001b[0m in \u001b[0;36mforward\u001b[0;34m(self, input)\u001b[0m\n\u001b[1;32m    248\u001b[0m     \u001b[0;32mdef\u001b[0m \u001b[0mforward\u001b[0m\u001b[0;34m(\u001b[0m\u001b[0mself\u001b[0m\u001b[0;34m,\u001b[0m \u001b[0minput\u001b[0m\u001b[0;34m)\u001b[0m\u001b[0;34m:\u001b[0m\u001b[0;34m\u001b[0m\u001b[0;34m\u001b[0m\u001b[0m\n\u001b[1;32m    249\u001b[0m         \u001b[0;32mfor\u001b[0m \u001b[0mmodule\u001b[0m \u001b[0;32min\u001b[0m \u001b[0mself\u001b[0m\u001b[0;34m:\u001b[0m\u001b[0;34m\u001b[0m\u001b[0;34m\u001b[0m\u001b[0m\n\u001b[0;32m--> 250\u001b[0;31m             \u001b[0minput\u001b[0m \u001b[0;34m=\u001b[0m \u001b[0mmodule\u001b[0m\u001b[0;34m(\u001b[0m\u001b[0minput\u001b[0m\u001b[0;34m)\u001b[0m\u001b[0;34m\u001b[0m\u001b[0;34m\u001b[0m\u001b[0m\n\u001b[0m\u001b[1;32m    251\u001b[0m         \u001b[0;32mreturn\u001b[0m \u001b[0minput\u001b[0m\u001b[0;34m\u001b[0m\u001b[0;34m\u001b[0m\u001b[0m\n\u001b[1;32m    252\u001b[0m \u001b[0;34m\u001b[0m\u001b[0m\n",
            "\u001b[0;32m/usr/local/lib/python3.11/dist-packages/torch/nn/modules/module.py\u001b[0m in \u001b[0;36m_wrapped_call_impl\u001b[0;34m(self, *args, **kwargs)\u001b[0m\n\u001b[1;32m   1737\u001b[0m             \u001b[0;32mreturn\u001b[0m \u001b[0mself\u001b[0m\u001b[0;34m.\u001b[0m\u001b[0m_compiled_call_impl\u001b[0m\u001b[0;34m(\u001b[0m\u001b[0;34m*\u001b[0m\u001b[0margs\u001b[0m\u001b[0;34m,\u001b[0m \u001b[0;34m**\u001b[0m\u001b[0mkwargs\u001b[0m\u001b[0;34m)\u001b[0m  \u001b[0;31m# type: ignore[misc]\u001b[0m\u001b[0;34m\u001b[0m\u001b[0;34m\u001b[0m\u001b[0m\n\u001b[1;32m   1738\u001b[0m         \u001b[0;32melse\u001b[0m\u001b[0;34m:\u001b[0m\u001b[0;34m\u001b[0m\u001b[0;34m\u001b[0m\u001b[0m\n\u001b[0;32m-> 1739\u001b[0;31m             \u001b[0;32mreturn\u001b[0m \u001b[0mself\u001b[0m\u001b[0;34m.\u001b[0m\u001b[0m_call_impl\u001b[0m\u001b[0;34m(\u001b[0m\u001b[0;34m*\u001b[0m\u001b[0margs\u001b[0m\u001b[0;34m,\u001b[0m \u001b[0;34m**\u001b[0m\u001b[0mkwargs\u001b[0m\u001b[0;34m)\u001b[0m\u001b[0;34m\u001b[0m\u001b[0;34m\u001b[0m\u001b[0m\n\u001b[0m\u001b[1;32m   1740\u001b[0m \u001b[0;34m\u001b[0m\u001b[0m\n\u001b[1;32m   1741\u001b[0m     \u001b[0;31m# torchrec tests the code consistency with the following code\u001b[0m\u001b[0;34m\u001b[0m\u001b[0;34m\u001b[0m\u001b[0m\n",
            "\u001b[0;32m/usr/local/lib/python3.11/dist-packages/torch/nn/modules/module.py\u001b[0m in \u001b[0;36m_call_impl\u001b[0;34m(self, *args, **kwargs)\u001b[0m\n\u001b[1;32m   1748\u001b[0m                 \u001b[0;32mor\u001b[0m \u001b[0m_global_backward_pre_hooks\u001b[0m \u001b[0;32mor\u001b[0m \u001b[0m_global_backward_hooks\u001b[0m\u001b[0;34m\u001b[0m\u001b[0;34m\u001b[0m\u001b[0m\n\u001b[1;32m   1749\u001b[0m                 or _global_forward_hooks or _global_forward_pre_hooks):\n\u001b[0;32m-> 1750\u001b[0;31m             \u001b[0;32mreturn\u001b[0m \u001b[0mforward_call\u001b[0m\u001b[0;34m(\u001b[0m\u001b[0;34m*\u001b[0m\u001b[0margs\u001b[0m\u001b[0;34m,\u001b[0m \u001b[0;34m**\u001b[0m\u001b[0mkwargs\u001b[0m\u001b[0;34m)\u001b[0m\u001b[0;34m\u001b[0m\u001b[0;34m\u001b[0m\u001b[0m\n\u001b[0m\u001b[1;32m   1751\u001b[0m \u001b[0;34m\u001b[0m\u001b[0m\n\u001b[1;32m   1752\u001b[0m         \u001b[0mresult\u001b[0m \u001b[0;34m=\u001b[0m \u001b[0;32mNone\u001b[0m\u001b[0;34m\u001b[0m\u001b[0;34m\u001b[0m\u001b[0m\n",
            "\u001b[0;32m/usr/local/lib/python3.11/dist-packages/torch/nn/modules/conv.py\u001b[0m in \u001b[0;36mforward\u001b[0;34m(self, input)\u001b[0m\n\u001b[1;32m    552\u001b[0m \u001b[0;34m\u001b[0m\u001b[0m\n\u001b[1;32m    553\u001b[0m     \u001b[0;32mdef\u001b[0m \u001b[0mforward\u001b[0m\u001b[0;34m(\u001b[0m\u001b[0mself\u001b[0m\u001b[0;34m,\u001b[0m \u001b[0minput\u001b[0m\u001b[0;34m:\u001b[0m \u001b[0mTensor\u001b[0m\u001b[0;34m)\u001b[0m \u001b[0;34m->\u001b[0m \u001b[0mTensor\u001b[0m\u001b[0;34m:\u001b[0m\u001b[0;34m\u001b[0m\u001b[0;34m\u001b[0m\u001b[0m\n\u001b[0;32m--> 554\u001b[0;31m         \u001b[0;32mreturn\u001b[0m \u001b[0mself\u001b[0m\u001b[0;34m.\u001b[0m\u001b[0m_conv_forward\u001b[0m\u001b[0;34m(\u001b[0m\u001b[0minput\u001b[0m\u001b[0;34m,\u001b[0m \u001b[0mself\u001b[0m\u001b[0;34m.\u001b[0m\u001b[0mweight\u001b[0m\u001b[0;34m,\u001b[0m \u001b[0mself\u001b[0m\u001b[0;34m.\u001b[0m\u001b[0mbias\u001b[0m\u001b[0;34m)\u001b[0m\u001b[0;34m\u001b[0m\u001b[0;34m\u001b[0m\u001b[0m\n\u001b[0m\u001b[1;32m    555\u001b[0m \u001b[0;34m\u001b[0m\u001b[0m\n\u001b[1;32m    556\u001b[0m \u001b[0;34m\u001b[0m\u001b[0m\n",
            "\u001b[0;32m/usr/local/lib/python3.11/dist-packages/torch/nn/modules/conv.py\u001b[0m in \u001b[0;36m_conv_forward\u001b[0;34m(self, input, weight, bias)\u001b[0m\n\u001b[1;32m    547\u001b[0m                 \u001b[0mself\u001b[0m\u001b[0;34m.\u001b[0m\u001b[0mgroups\u001b[0m\u001b[0;34m,\u001b[0m\u001b[0;34m\u001b[0m\u001b[0;34m\u001b[0m\u001b[0m\n\u001b[1;32m    548\u001b[0m             )\n\u001b[0;32m--> 549\u001b[0;31m         return F.conv2d(\n\u001b[0m\u001b[1;32m    550\u001b[0m             \u001b[0minput\u001b[0m\u001b[0;34m,\u001b[0m \u001b[0mweight\u001b[0m\u001b[0;34m,\u001b[0m \u001b[0mbias\u001b[0m\u001b[0;34m,\u001b[0m \u001b[0mself\u001b[0m\u001b[0;34m.\u001b[0m\u001b[0mstride\u001b[0m\u001b[0;34m,\u001b[0m \u001b[0mself\u001b[0m\u001b[0;34m.\u001b[0m\u001b[0mpadding\u001b[0m\u001b[0;34m,\u001b[0m \u001b[0mself\u001b[0m\u001b[0;34m.\u001b[0m\u001b[0mdilation\u001b[0m\u001b[0;34m,\u001b[0m \u001b[0mself\u001b[0m\u001b[0;34m.\u001b[0m\u001b[0mgroups\u001b[0m\u001b[0;34m\u001b[0m\u001b[0;34m\u001b[0m\u001b[0m\n\u001b[1;32m    551\u001b[0m         )\n",
            "\u001b[0;31mOutOfMemoryError\u001b[0m: CUDA out of memory. Tried to allocate 20.00 MiB. GPU 0 has a total capacity of 14.74 GiB of which 12.12 MiB is free. Process 5790 has 14.73 GiB memory in use. Of the allocated memory 14.52 GiB is allocated by PyTorch, and 77.09 MiB is reserved by PyTorch but unallocated. If reserved but unallocated memory is large try setting PYTORCH_CUDA_ALLOC_CONF=expandable_segments:True to avoid fragmentation.  See documentation for Memory Management  (https://pytorch.org/docs/stable/notes/cuda.html#environment-variables)"
          ]
        }
      ]
    },
    {
      "cell_type": "code",
      "source": [
        "def make_roc_curve():\n",
        "    fig, axes = plt.subplots(5, 2, figsize=(12, 25))  # 5行2列のサブプロット\n",
        "\n",
        "    for n in range(10):\n",
        "\n",
        "        # クラス0の確率値を取得\n",
        "        prob = val_prob_pred[:, n].cpu().detach().numpy()\n",
        "\n",
        "        # 0/1 ラベルの取得\n",
        "        one_zero_labels = torch.where(y_val_true == n, 1, 0).cpu().detach().numpy()\n",
        "\n",
        "        # ROC曲線の計算\n",
        "        fpr, tpr, thresholds = roc_curve(one_zero_labels, prob)\n",
        "\n",
        "        # auc算出\n",
        "        auc_score = roc_auc_score(one_zero_labels, prob)\n",
        "        print(f\"ROC AUC Score: {auc_score:.4f}\")\n",
        "\n",
        "        # 行インデックスと列インデックスの計算\n",
        "        row_idx = n // 2  # 行インデックス\n",
        "        col_idx = n % 2   # 列インデックス\n",
        "\n",
        "        # グラフ描画\n",
        "        axes[row_idx, col_idx].plot(fpr, tpr, marker='o', color='b', label=\"ROC Curve\")\n",
        "        axes[row_idx, col_idx].set_xlabel('FPR: False Positive Rate')\n",
        "        axes[row_idx, col_idx].set_ylabel('TPR: True Positive Rate')\n",
        "        axes[row_idx, col_idx].set_title(f'ROC Curve - Class {n}')\n",
        "        axes[row_idx, col_idx].legend()\n",
        "        axes[row_idx, col_idx].grid()\n",
        "    plt.tight_layout()\n",
        "    plt.show()\n",
        "\n",
        "make_roc_curve()"
      ],
      "metadata": {
        "id": "2m-pObP9aZO8"
      },
      "execution_count": null,
      "outputs": []
    }
  ]
}