{
  "nbformat": 4,
  "nbformat_minor": 0,
  "metadata": {
    "colab": {
      "provenance": [],
      "gpuType": "T4",
      "authorship_tag": "ABX9TyMLcndWpsTqkMt6DNV5Jx+S",
      "include_colab_link": true
    },
    "kernelspec": {
      "name": "python3",
      "display_name": "Python 3"
    },
    "language_info": {
      "name": "python"
    },
    "accelerator": "GPU"
  },
  "cells": [
    {
      "cell_type": "markdown",
      "metadata": {
        "id": "view-in-github",
        "colab_type": "text"
      },
      "source": [
        "<a href=\"https://colab.research.google.com/github/Pakeith0805/SparkPlus_Assignment/blob/main/Assignment.ipynb\" target=\"_parent\"><img src=\"https://colab.research.google.com/assets/colab-badge.svg\" alt=\"Open In Colab\"/></a>"
      ]
    },
    {
      "cell_type": "markdown",
      "source": [
        "SparkPlusの採用課題です。"
      ],
      "metadata": {
        "id": "6dfeyUvCHFcz"
      }
    },
    {
      "cell_type": "markdown",
      "source": [
        "# 前処理"
      ],
      "metadata": {
        "id": "20eUgU1WMCAn"
      }
    },
    {
      "cell_type": "code",
      "execution_count": 1,
      "metadata": {
        "id": "-2CIgzsAHEk-"
      },
      "outputs": [],
      "source": [
        "import torch\n",
        "import torchvision\n",
        "import torch.nn as nn\n",
        "import torch.optim as optim\n",
        "import numpy as np\n",
        "from torchvision import datasets, transforms\n",
        "import matplotlib.pyplot as plt\n",
        "from torch.utils.data import DataLoader\n",
        "from sklearn.metrics import confusion_matrix"
      ]
    },
    {
      "cell_type": "code",
      "source": [
        "# ちゃんとgpuになってるか確認。\n",
        "device = \"cuda\" if torch.cuda.is_available() else \"cpu\"\n",
        "print(device)"
      ],
      "metadata": {
        "id": "0SJ8VDWDMELh",
        "outputId": "547bc51f-44d2-4863-e8f1-0282de3283e2",
        "colab": {
          "base_uri": "https://localhost:8080/"
        }
      },
      "execution_count": 2,
      "outputs": [
        {
          "output_type": "stream",
          "name": "stdout",
          "text": [
            "cuda\n"
          ]
        }
      ]
    },
    {
      "cell_type": "code",
      "source": [
        "# 前処理をまとめる\n",
        "transform = transforms.Compose([\n",
        "    transforms.ToTensor(), # 画像をTensorクラスに変えて、チャネルファーストに変えてくれる。\n",
        "    transforms.Normalize((0.5,), (0.5,)) # 平均、標準偏差を0.5に\n",
        "])\n",
        "\n",
        "# 訓練用データセットと検証用データセットを作成\n",
        "train_dataset = datasets.CIFAR10(root=\"./data\", train=True, download=True, transform=transform)\n",
        "vilidation_dataset = datasets.CIFAR10(root=\"./data\", train=False, download=True, transform=transform)"
      ],
      "metadata": {
        "id": "E-z-alzMMHNH",
        "outputId": "7df310e6-55a1-46a7-c367-31a5299483e7",
        "colab": {
          "base_uri": "https://localhost:8080/"
        }
      },
      "execution_count": 3,
      "outputs": [
        {
          "output_type": "stream",
          "name": "stderr",
          "text": [
            "100%|██████████| 170M/170M [00:22<00:00, 7.50MB/s]\n"
          ]
        }
      ]
    },
    {
      "cell_type": "code",
      "source": [
        "# データを作る。\n",
        "train_dataloader = DataLoader(train_dataset, batch_size=32, shuffle=True)\n",
        "validation_dataloader = DataLoader(vilidation_dataset, batch_size=32, shuffle=False)"
      ],
      "metadata": {
        "id": "IykEj-ScMKaR"
      },
      "execution_count": 4,
      "outputs": []
    },
    {
      "cell_type": "code",
      "source": [
        "# CNNを実装。\n",
        "class CNN(nn.Module):\n",
        "    def __init__(self, num_classes):\n",
        "        super().__init__()\n",
        "        self.features = nn.Sequential(\n",
        "            nn.Conv2d(in_channels=3, out_channels=64, kernel_size=5, padding=2), # RGBなのでin_channelsは3、畳み込むたびに2ずつ画像が小さくなるため、2補う。\n",
        "            nn.ReLU(inplace=True),\n",
        "            nn.MaxPool2d(kernel_size=2), # 32×32の画像が16×16になる。\n",
        "            nn.Conv2d(in_channels=64, out_channels=128, kernel_size=3, padding=1), # RGBなのでin_channelsは3、畳み込むたびに2ずつ画像が小さくなるため、2補う。\n",
        "            nn.ReLU(inplace=True),\n",
        "            nn.MaxPool2d(kernel_size=2), # 16×16の画像が8×8になる。\n",
        "            nn.Conv2d(in_channels=128, out_channels=256, kernel_size=3, padding=1), # RGBなのでin_channelsは3、畳み込むたびに2ずつ画像が小さくなるため、2補う。\n",
        "            nn.ReLU(inplace=True),\n",
        "            nn.MaxPool2d(kernel_size=2), # 8×8の画像が4×4になる。\n",
        "            nn.Conv2d(in_channels=256, out_channels=128, kernel_size=3, padding=1), # RGBなのでin_channelsは3、畳み込むたびに2ずつ画像が小さくなるため、2補う。\n",
        "            nn.ReLU(inplace=True),\n",
        "        )\n",
        "        self.classifier = nn.Linear(in_features=4 * 4 * 128, out_features=num_classes) # in_featuresには1次元ベクトルにして渡す。4×4が128個ある。out_featuresは何個に分類するか。\n",
        "    def forward(self, x):\n",
        "        x = self.features(x)\n",
        "        x = x.view(x.size(0), -1) # x.size(0)はバッチ数を表す。(32, 4×4×128)という形になる。\n",
        "        x = self.classifier(x)\n",
        "        return x"
      ],
      "metadata": {
        "id": "Cln6z02oMTDh"
      },
      "execution_count": 5,
      "outputs": []
    },
    {
      "cell_type": "code",
      "source": [
        "# modelを作成\n",
        "model = CNN(10) # 10はクラス数\n",
        "model.to(device)"
      ],
      "metadata": {
        "id": "eRt1NnShMgL5",
        "outputId": "4461d3a5-18be-4b99-c043-c2e26d26a800",
        "colab": {
          "base_uri": "https://localhost:8080/"
        }
      },
      "execution_count": 6,
      "outputs": [
        {
          "output_type": "execute_result",
          "data": {
            "text/plain": [
              "CNN(\n",
              "  (features): Sequential(\n",
              "    (0): Conv2d(3, 64, kernel_size=(5, 5), stride=(1, 1), padding=(2, 2))\n",
              "    (1): ReLU(inplace=True)\n",
              "    (2): MaxPool2d(kernel_size=2, stride=2, padding=0, dilation=1, ceil_mode=False)\n",
              "    (3): Conv2d(64, 128, kernel_size=(3, 3), stride=(1, 1), padding=(1, 1))\n",
              "    (4): ReLU(inplace=True)\n",
              "    (5): MaxPool2d(kernel_size=2, stride=2, padding=0, dilation=1, ceil_mode=False)\n",
              "    (6): Conv2d(128, 256, kernel_size=(3, 3), stride=(1, 1), padding=(1, 1))\n",
              "    (7): ReLU(inplace=True)\n",
              "    (8): MaxPool2d(kernel_size=2, stride=2, padding=0, dilation=1, ceil_mode=False)\n",
              "    (9): Conv2d(256, 128, kernel_size=(3, 3), stride=(1, 1), padding=(1, 1))\n",
              "    (10): ReLU(inplace=True)\n",
              "  )\n",
              "  (classifier): Linear(in_features=2048, out_features=10, bias=True)\n",
              ")"
            ]
          },
          "metadata": {},
          "execution_count": 6
        }
      ]
    },
    {
      "cell_type": "code",
      "source": [
        "# 損失関数とoptimizerを設定\n",
        "criterion = nn.CrossEntropyLoss()\n",
        "optimizer = optim.Adam(model.parameters(), lr=0.001, weight_decay=5e-4) # weight_decayで重みづけが大きくなりすぎないようにしている。"
      ],
      "metadata": {
        "id": "Y2kUUxzqMix6"
      },
      "execution_count": 7,
      "outputs": []
    },
    {
      "cell_type": "code",
      "source": [
        "# 学習のループ\n",
        "num_epochs = 15\n",
        "losses = []\n",
        "accs = []\n",
        "val_losses = []\n",
        "val_accs = []\n",
        "for epoch in range(num_epochs):\n",
        "    running_loss = 0.0\n",
        "    running_acc = 0.0\n",
        "    y_true = []  # 正解ラベルを保存\n",
        "    y_pred = []  # 予測ラベルを保存\n",
        "    for imgs, labels, in train_dataloader:\n",
        "        imgs = imgs.to(device)\n",
        "        labels = labels.to(device)\n",
        "        optimizer.zero_grad() # 勾配の初期化\n",
        "        output = model(imgs)\n",
        "        loss = criterion(output, labels)\n",
        "        loss.backward()\n",
        "        running_loss += loss.item()\n",
        "        pred = torch.argmax(output, dim=1)\n",
        "        running_acc += torch.mean(pred.eq(labels).float())\n",
        "        optimizer.step()\n",
        "        y_true.extend(labels.cpu().numpy())  # GPU->CPU\n",
        "        y_pred.extend(pred.cpu().numpy())  # GPU->CPU\n",
        "    running_loss /= len(train_dataloader)\n",
        "    running_acc /= len(train_dataloader)\n",
        "    losses.append(running_loss)\n",
        "    #accs.append(running_acc)\n",
        "    accs.append(running_acc.cpu())\n",
        "#\n",
        "# validationのループ\n",
        "#\n",
        "    val_running_loss = 0.0\n",
        "    val_running_acc = 0.0\n",
        "    y_val_true = []  # 正解ラベルを保存\n",
        "    y_val_pred = []  # 予測ラベルを保存\n",
        "    for val_imgs, val_labels in validation_dataloader:\n",
        "        val_imgs = val_imgs.to(device)\n",
        "        val_labels = val_labels.to(device)\n",
        "        val_output = model(val_imgs)\n",
        "        val_loss = criterion(val_output, val_labels)\n",
        "        val_running_loss += val_loss.item()\n",
        "        val_pred = torch.argmax(val_output, dim=1)\n",
        "        val_running_acc += torch.mean(val_pred.eq(val_labels).float())\n",
        "        # ラベルを保存\n",
        "        y_val_true.extend(val_labels.cpu().numpy())  # GPU->CPU\n",
        "        y_val_pred.extend(val_pred.cpu().numpy())  # GPU->CPU\n",
        "\n",
        "    val_running_loss /= len(validation_dataloader)\n",
        "    val_running_acc /= len(validation_dataloader)\n",
        "    val_losses.append(val_running_loss)\n",
        "    #val_accs.append(val_running_acc)\n",
        "    val_accs.append(val_running_acc.cpu())\n",
        "    print(\"epoch: {}, loss: {}, acc: {}, \\\n",
        "     val loss: {}, val acc: {}\".format(epoch, running_loss, running_acc, val_running_loss, val_running_acc))"
      ],
      "metadata": {
        "id": "5au2nWCYMoYO",
        "outputId": "6ddea6a3-9b14-4f25-a543-d163f3e18c62",
        "colab": {
          "base_uri": "https://localhost:8080/"
        }
      },
      "execution_count": 8,
      "outputs": [
        {
          "output_type": "stream",
          "name": "stdout",
          "text": [
            "epoch: 0, loss: 1.3413503453736113, acc: 0.5151551365852356,      val loss: 1.0031369536067731, val acc: 0.6459664702415466\n",
            "epoch: 1, loss: 0.8829249837653269, acc: 0.6931982040405273,      val loss: 0.8227614396677231, val acc: 0.7208466529846191\n",
            "epoch: 2, loss: 0.7148269208401956, acc: 0.7514995336532593,      val loss: 0.7384447446836832, val acc: 0.7449081540107727\n",
            "epoch: 3, loss: 0.6118773884847236, acc: 0.7867282629013062,      val loss: 0.71551046308618, val acc: 0.749201238155365\n",
            "epoch: 4, loss: 0.5354003905677979, acc: 0.8131597638130188,      val loss: 0.7218210769537539, val acc: 0.7623801827430725\n",
            "epoch: 5, loss: 0.4692426806819874, acc: 0.8356326222419739,      val loss: 0.7867241892190026, val acc: 0.7463058829307556\n",
            "epoch: 6, loss: 0.41687128953611857, acc: 0.8543666005134583,      val loss: 0.762406484292338, val acc: 0.7552915215492249\n",
            "epoch: 7, loss: 0.3712401184624613, acc: 0.8696417212486267,      val loss: 0.733329112727802, val acc: 0.7648761868476868\n",
            "epoch: 8, loss: 0.33293009098912385, acc: 0.883297324180603,      val loss: 0.7945288146932286, val acc: 0.7668730020523071\n",
            "epoch: 9, loss: 0.30058097379116466, acc: 0.8931542038917542,      val loss: 0.7884218567571701, val acc: 0.7641773223876953\n",
            "epoch: 10, loss: 0.27609767232111687, acc: 0.90245121717453,      val loss: 0.8335572771085337, val acc: 0.7587859034538269\n",
            "epoch: 11, loss: 0.25788483978442783, acc: 0.9082693457603455,      val loss: 0.8810225399062276, val acc: 0.7586860656738281\n",
            "epoch: 12, loss: 0.24082126115852168, acc: 0.9153870940208435,      val loss: 0.8535262152981072, val acc: 0.7696685194969177\n",
            "epoch: 13, loss: 0.23056924787379196, acc: 0.9182061553001404,      val loss: 0.8430797926629313, val acc: 0.7633785605430603\n",
            "epoch: 14, loss: 0.2234057483989662, acc: 0.919565737247467,      val loss: 0.8676337635936067, val acc: 0.7627795338630676\n"
          ]
        }
      ]
    },
    {
      "cell_type": "markdown",
      "source": [
        "# 評価項目"
      ],
      "metadata": {
        "id": "hAlBZVRR_1TB"
      }
    },
    {
      "cell_type": "code",
      "source": [
        "# 正解率\n",
        "print(accs[-1].cpu())\n",
        "print(val_accs[-1].cpu())\n",
        "# 混同行列\n",
        "cm=confusion_matrix(y_true, y_pred)\n",
        "val_cm=confusion_matrix(y_val_true, y_val_pred)\n",
        "print(cm)\n",
        "print(val_cm)\n",
        "# 再現率：実際に真だったもののうち、モデルが真と判断した割合。\n",
        "# 見逃しをなくしたいときに使われる。\n",
        "# 別名真陽性率。\n",
        "recall_per_class = cm.diagonal() / cm.sum(axis=1)\n",
        "val_recall_per_class = val_cm.diagonal() / val_cm.sum(axis=1)\n",
        "print(recall_per_class)\n",
        "print(val_recall_per_class)\n",
        "# 適合率：モデルが真と判断し、実際に真だった割合。猫と判断し、実際に猫だった割合。\n",
        "# 誤検出をなくしたいときに使われる。\n",
        "precision_per_class = cm.diagonal() / cm.sum(axis=0)\n",
        "val_precision_per_class = val_cm.diagonal() / val_cm.sum(axis=0)\n",
        "print(precision_per_class)\n",
        "print(val_precision_per_class)\n",
        "# F1スコア：適合率と再現率の調和平均。\n",
        "f1_per_class = 2 * (precision_per_class * recall_per_class) / (precision_per_class + recall_per_class)\n",
        "val_f1_per_class = 2 * (val_precision_per_class * val_recall_per_class) / (val_precision_per_class + val_recall_per_class)\n",
        "print(f1_per_class)\n",
        "print(val_f1_per_class)\n",
        "# 偽陽性率：実際に偽だったったもののうち、モデルが間違えて真と判断した割合。"
      ],
      "metadata": {
        "id": "lM3WOgCYAQl8",
        "outputId": "828b8e13-61cd-4919-8ff6-f09e4053eee8",
        "colab": {
          "base_uri": "https://localhost:8080/"
        }
      },
      "execution_count": 9,
      "outputs": [
        {
          "output_type": "stream",
          "name": "stdout",
          "text": [
            "tensor(0.9196)\n",
            "tensor(0.7628)\n",
            "[[4644   21   82   37   32   11   13   20  100   40]\n",
            " [  26 4776    8   12    3    9   11    4   44  107]\n",
            " [ 106    9 4419   98  130   83   84   47   15    9]\n",
            " [  41   10   98 4285   97  252  109   65   24   19]\n",
            " [  32    1  104   80 4569   62   55   83    6    8]\n",
            " [  12    3   97  278   67 4392   50   78   10   13]\n",
            " [  16   12   70   82   49   44 4701    9    8    9]\n",
            " [  24    4   44   68   76   73   11 4686    4   10]\n",
            " [  89   45   15   22   13    7   11    6 4761   31]\n",
            " [  40  112    7   27    6    9    6   13   36 4744]]\n",
            "[[758  15  55  17  18   6  11   9  72  39]\n",
            " [ 12 855   4   6   4   2   5   6  29  77]\n",
            " [ 47   3 692  56  76  37  49  14  16  10]\n",
            " [ 18   9  57 642  60 100  61  28   8  17]\n",
            " [ 14   2  56  55 786  17  32  22  11   5]\n",
            " [  8   6  53 174  49 611  26  46  13  14]\n",
            " [  8   2  44  54  56  15 798   6  10   7]\n",
            " [ 11   1  33  47  90  41   7 754   4  12]\n",
            " [ 40  20   6  14   5   4   5   4 882  20]\n",
            " [ 20  59   7  13   5   7   6   6  27 850]]\n",
            "[0.9288 0.9552 0.8838 0.857  0.9138 0.8784 0.9402 0.9372 0.9522 0.9488]\n",
            "[0.758 0.855 0.692 0.642 0.786 0.611 0.798 0.754 0.882 0.85 ]\n",
            "[0.92326044 0.95653915 0.89381068 0.85888956 0.90618802 0.88870902\n",
            " 0.93070679 0.93514269 0.95067891 0.9507014 ]\n",
            "[0.80982906 0.87962963 0.68718967 0.59554731 0.68407311 0.72738095\n",
            " 0.798      0.8424581  0.82276119 0.80875357]\n",
            "[0.92602193 0.95586911 0.88877715 0.85794374 0.90997809 0.88352444\n",
            " 0.93542931 0.93617021 0.95143885 0.94974975]\n",
            "[0.78305785 0.86713996 0.68958645 0.61790183 0.73150302 0.66413043\n",
            " 0.798      0.79577836 0.85135135 0.82886397]\n"
          ]
        }
      ]
    },
    {
      "cell_type": "code",
      "source": [
        "plt.style.use(\"ggplot\")\n",
        "\n",
        "fig, axes = plt.subplots(1, 2, figsize=(12, 5))  # 1行2列のサブプロット\n",
        "\n",
        "# 左のグラフ(損失)\n",
        "axes[0].plot(losses, label=\"train loss\")\n",
        "axes[0].plot(val_losses, label=\"val loss\")\n",
        "axes[0].legend()\n",
        "axes[0].set_title(\"Loss\")\n",
        "\n",
        "# 右のグラフ(精度)\n",
        "axes[1].plot(accs, label=\"train acc\")\n",
        "axes[1].plot(val_accs, label=\"val acc\")\n",
        "axes[1].legend()\n",
        "axes[1].set_title(\"Accuracy\")\n",
        "\n",
        "plt.show()"
      ],
      "metadata": {
        "id": "D_4csbKOMrl6",
        "outputId": "eeb42564-08cc-4879-903f-45417acff3ca",
        "colab": {
          "base_uri": "https://localhost:8080/",
          "height": 469
        }
      },
      "execution_count": 10,
      "outputs": [
        {
          "output_type": "display_data",
          "data": {
            "text/plain": [
              "<Figure size 1200x500 with 2 Axes>"
            ],
            "image/png": "[encoded data removed]"
          },
          "metadata": {}
        }
      ]
    },
    {
      "cell_type": "code",
      "source": [
        "print(accs)\n",
        "print(val_accs)"
      ],
      "metadata": {
        "id": "LVpdFF4MdP1c",
        "outputId": "30b8416a-6e58-4ff9-b266-927bb4da1212",
        "colab": {
          "base_uri": "https://localhost:8080/"
        }
      },
      "execution_count": 11,
      "outputs": [
        {
          "output_type": "stream",
          "name": "stdout",
          "text": [
            "[tensor(0.5152), tensor(0.6932), tensor(0.7515), tensor(0.7867), tensor(0.8132), tensor(0.8356), tensor(0.8544), tensor(0.8696), tensor(0.8833), tensor(0.8932), tensor(0.9025), tensor(0.9083), tensor(0.9154), tensor(0.9182), tensor(0.9196)]\n",
            "[tensor(0.6460), tensor(0.7208), tensor(0.7449), tensor(0.7492), tensor(0.7624), tensor(0.7463), tensor(0.7553), tensor(0.7649), tensor(0.7669), tensor(0.7642), tensor(0.7588), tensor(0.7587), tensor(0.7697), tensor(0.7634), tensor(0.7628)]\n"
          ]
        }
      ]
    }
  ]
}